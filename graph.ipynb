{
 "cells": [
  {
   "cell_type": "code",
   "execution_count": 45,
   "metadata": {},
   "outputs": [],
   "source": [
    "import pathlib\n",
    "import pandas as pd\n",
    "import numpy as np\n",
    "import plotly.express as px\n",
    "import plotly.graph_objects as go\n",
    "from plotly.subplots import make_subplots"
   ]
  },
  {
   "cell_type": "code",
   "execution_count": 32,
   "metadata": {},
   "outputs": [
    {
     "data": {
      "text/html": [
       "<div>\n",
       "<style scoped>\n",
       "    .dataframe tbody tr th:only-of-type {\n",
       "        vertical-align: middle;\n",
       "    }\n",
       "\n",
       "    .dataframe tbody tr th {\n",
       "        vertical-align: top;\n",
       "    }\n",
       "\n",
       "    .dataframe thead th {\n",
       "        text-align: right;\n",
       "    }\n",
       "</style>\n",
       "<table border=\"1\" class=\"dataframe\">\n",
       "  <thead>\n",
       "    <tr style=\"text-align: right;\">\n",
       "      <th></th>\n",
       "      <th>depth</th>\n",
       "      <th>id</th>\n",
       "      <th>remodel</th>\n",
       "      <th>unchanged</th>\n",
       "      <th>resorb</th>\n",
       "      <th>quad</th>\n",
       "      <th>bone_type</th>\n",
       "      <th>load</th>\n",
       "      <th>posi</th>\n",
       "    </tr>\n",
       "  </thead>\n",
       "  <tbody>\n",
       "    <tr>\n",
       "      <th>0</th>\n",
       "      <td>0-5</td>\n",
       "      <td>MedialCortical_STD_75</td>\n",
       "      <td>0.285905</td>\n",
       "      <td>52.434146</td>\n",
       "      <td>47.279949</td>\n",
       "      <td>Medial</td>\n",
       "      <td>Cortical</td>\n",
       "      <td>75</td>\n",
       "      <td>STD</td>\n",
       "    </tr>\n",
       "    <tr>\n",
       "      <th>1</th>\n",
       "      <td>0-5</td>\n",
       "      <td>LateralCortical_STD_75</td>\n",
       "      <td>0.975479</td>\n",
       "      <td>9.823979</td>\n",
       "      <td>89.200542</td>\n",
       "      <td>Lateral</td>\n",
       "      <td>Cortical</td>\n",
       "      <td>75</td>\n",
       "      <td>STD</td>\n",
       "    </tr>\n",
       "    <tr>\n",
       "      <th>2</th>\n",
       "      <td>0-5</td>\n",
       "      <td>AnteriorCortical_STD_75</td>\n",
       "      <td>8.167807</td>\n",
       "      <td>56.096486</td>\n",
       "      <td>35.735708</td>\n",
       "      <td>Anterior</td>\n",
       "      <td>Cortical</td>\n",
       "      <td>75</td>\n",
       "      <td>STD</td>\n",
       "    </tr>\n",
       "    <tr>\n",
       "      <th>3</th>\n",
       "      <td>0-5</td>\n",
       "      <td>PosteriorCortical_STD_75</td>\n",
       "      <td>13.262466</td>\n",
       "      <td>35.913123</td>\n",
       "      <td>50.824410</td>\n",
       "      <td>Posterior</td>\n",
       "      <td>Cortical</td>\n",
       "      <td>75</td>\n",
       "      <td>STD</td>\n",
       "    </tr>\n",
       "    <tr>\n",
       "      <th>4</th>\n",
       "      <td>0-5</td>\n",
       "      <td>MedialCortical_STD_45</td>\n",
       "      <td>0.538013</td>\n",
       "      <td>56.989875</td>\n",
       "      <td>42.472112</td>\n",
       "      <td>Medial</td>\n",
       "      <td>Cortical</td>\n",
       "      <td>45</td>\n",
       "      <td>STD</td>\n",
       "    </tr>\n",
       "    <tr>\n",
       "      <th>...</th>\n",
       "      <td>...</td>\n",
       "      <td>...</td>\n",
       "      <td>...</td>\n",
       "      <td>...</td>\n",
       "      <td>...</td>\n",
       "      <td>...</td>\n",
       "      <td>...</td>\n",
       "      <td>...</td>\n",
       "      <td>...</td>\n",
       "    </tr>\n",
       "    <tr>\n",
       "      <th>379</th>\n",
       "      <td>35-40</td>\n",
       "      <td>PosteriorTrabecular_INF_75</td>\n",
       "      <td>46.981597</td>\n",
       "      <td>43.051530</td>\n",
       "      <td>9.966874</td>\n",
       "      <td>Posterior</td>\n",
       "      <td>Trabecular</td>\n",
       "      <td>75</td>\n",
       "      <td>INF</td>\n",
       "    </tr>\n",
       "    <tr>\n",
       "      <th>380</th>\n",
       "      <td>35-40</td>\n",
       "      <td>MedialTrabecular_INF_45</td>\n",
       "      <td>68.189305</td>\n",
       "      <td>31.213646</td>\n",
       "      <td>0.597048</td>\n",
       "      <td>Medial</td>\n",
       "      <td>Trabecular</td>\n",
       "      <td>45</td>\n",
       "      <td>INF</td>\n",
       "    </tr>\n",
       "    <tr>\n",
       "      <th>381</th>\n",
       "      <td>35-40</td>\n",
       "      <td>LateralTrabecular_INF_45</td>\n",
       "      <td>39.750985</td>\n",
       "      <td>51.049154</td>\n",
       "      <td>9.199861</td>\n",
       "      <td>Lateral</td>\n",
       "      <td>Trabecular</td>\n",
       "      <td>45</td>\n",
       "      <td>INF</td>\n",
       "    </tr>\n",
       "    <tr>\n",
       "      <th>382</th>\n",
       "      <td>35-40</td>\n",
       "      <td>AnteriorTrabecular_INF_45</td>\n",
       "      <td>57.586857</td>\n",
       "      <td>38.402103</td>\n",
       "      <td>4.011040</td>\n",
       "      <td>Anterior</td>\n",
       "      <td>Trabecular</td>\n",
       "      <td>45</td>\n",
       "      <td>INF</td>\n",
       "    </tr>\n",
       "    <tr>\n",
       "      <th>383</th>\n",
       "      <td>35-40</td>\n",
       "      <td>PosteriorTrabecular_INF_45</td>\n",
       "      <td>45.263493</td>\n",
       "      <td>45.121985</td>\n",
       "      <td>9.614522</td>\n",
       "      <td>Posterior</td>\n",
       "      <td>Trabecular</td>\n",
       "      <td>45</td>\n",
       "      <td>INF</td>\n",
       "    </tr>\n",
       "  </tbody>\n",
       "</table>\n",
       "<p>384 rows × 9 columns</p>\n",
       "</div>"
      ],
      "text/plain": [
       "     depth                          id    remodel  unchanged     resorb  \\\n",
       "0      0-5       MedialCortical_STD_75   0.285905  52.434146  47.279949   \n",
       "1      0-5      LateralCortical_STD_75   0.975479   9.823979  89.200542   \n",
       "2      0-5     AnteriorCortical_STD_75   8.167807  56.096486  35.735708   \n",
       "3      0-5    PosteriorCortical_STD_75  13.262466  35.913123  50.824410   \n",
       "4      0-5       MedialCortical_STD_45   0.538013  56.989875  42.472112   \n",
       "..     ...                         ...        ...        ...        ...   \n",
       "379  35-40  PosteriorTrabecular_INF_75  46.981597  43.051530   9.966874   \n",
       "380  35-40     MedialTrabecular_INF_45  68.189305  31.213646   0.597048   \n",
       "381  35-40    LateralTrabecular_INF_45  39.750985  51.049154   9.199861   \n",
       "382  35-40   AnteriorTrabecular_INF_45  57.586857  38.402103   4.011040   \n",
       "383  35-40  PosteriorTrabecular_INF_45  45.263493  45.121985   9.614522   \n",
       "\n",
       "          quad   bone_type  load posi  \n",
       "0       Medial    Cortical    75  STD  \n",
       "1      Lateral    Cortical    75  STD  \n",
       "2     Anterior    Cortical    75  STD  \n",
       "3    Posterior    Cortical    75  STD  \n",
       "4       Medial    Cortical    45  STD  \n",
       "..         ...         ...   ...  ...  \n",
       "379  Posterior  Trabecular    75  INF  \n",
       "380     Medial  Trabecular    45  INF  \n",
       "381    Lateral  Trabecular    45  INF  \n",
       "382   Anterior  Trabecular    45  INF  \n",
       "383  Posterior  Trabecular    45  INF  \n",
       "\n",
       "[384 rows x 9 columns]"
      ]
     },
     "execution_count": 32,
     "metadata": {},
     "output_type": "execute_result"
    }
   ],
   "source": [
    "df = pd.read_csv('data.csv', index_col=0)\n",
    "df"
   ]
  },
  {
   "cell_type": "code",
   "execution_count": 36,
   "metadata": {},
   "outputs": [
    {
     "data": {
      "text/html": [
       "<div>\n",
       "<style scoped>\n",
       "    .dataframe tbody tr th:only-of-type {\n",
       "        vertical-align: middle;\n",
       "    }\n",
       "\n",
       "    .dataframe tbody tr th {\n",
       "        vertical-align: top;\n",
       "    }\n",
       "\n",
       "    .dataframe thead th {\n",
       "        text-align: right;\n",
       "    }\n",
       "</style>\n",
       "<table border=\"1\" class=\"dataframe\">\n",
       "  <thead>\n",
       "    <tr style=\"text-align: right;\">\n",
       "      <th></th>\n",
       "      <th>depth</th>\n",
       "      <th>id</th>\n",
       "      <th>remodel</th>\n",
       "      <th>unchanged</th>\n",
       "      <th>resorb</th>\n",
       "      <th>quad</th>\n",
       "      <th>bone_type</th>\n",
       "      <th>load</th>\n",
       "      <th>posi</th>\n",
       "    </tr>\n",
       "  </thead>\n",
       "  <tbody>\n",
       "    <tr>\n",
       "      <th>383</th>\n",
       "      <td>35-40</td>\n",
       "      <td>PosteriorTrabecular_INF_45</td>\n",
       "      <td>45.263493</td>\n",
       "      <td>45.121985</td>\n",
       "      <td>9.614522</td>\n",
       "      <td>Posterior</td>\n",
       "      <td>Trabecular</td>\n",
       "      <td>45</td>\n",
       "      <td>INF</td>\n",
       "    </tr>\n",
       "    <tr>\n",
       "      <th>360</th>\n",
       "      <td>35-40</td>\n",
       "      <td>MedialTrabecular_SUP_75</td>\n",
       "      <td>38.311605</td>\n",
       "      <td>49.784255</td>\n",
       "      <td>11.904140</td>\n",
       "      <td>Medial</td>\n",
       "      <td>Trabecular</td>\n",
       "      <td>75</td>\n",
       "      <td>SUP</td>\n",
       "    </tr>\n",
       "    <tr>\n",
       "      <th>361</th>\n",
       "      <td>35-40</td>\n",
       "      <td>LateralTrabecular_SUP_75</td>\n",
       "      <td>52.740759</td>\n",
       "      <td>39.089661</td>\n",
       "      <td>8.169581</td>\n",
       "      <td>Lateral</td>\n",
       "      <td>Trabecular</td>\n",
       "      <td>75</td>\n",
       "      <td>SUP</td>\n",
       "    </tr>\n",
       "    <tr>\n",
       "      <th>381</th>\n",
       "      <td>35-40</td>\n",
       "      <td>LateralTrabecular_INF_45</td>\n",
       "      <td>39.750985</td>\n",
       "      <td>51.049154</td>\n",
       "      <td>9.199861</td>\n",
       "      <td>Lateral</td>\n",
       "      <td>Trabecular</td>\n",
       "      <td>45</td>\n",
       "      <td>INF</td>\n",
       "    </tr>\n",
       "    <tr>\n",
       "      <th>380</th>\n",
       "      <td>35-40</td>\n",
       "      <td>MedialTrabecular_INF_45</td>\n",
       "      <td>68.189305</td>\n",
       "      <td>31.213646</td>\n",
       "      <td>0.597048</td>\n",
       "      <td>Medial</td>\n",
       "      <td>Trabecular</td>\n",
       "      <td>45</td>\n",
       "      <td>INF</td>\n",
       "    </tr>\n",
       "    <tr>\n",
       "      <th>...</th>\n",
       "      <td>...</td>\n",
       "      <td>...</td>\n",
       "      <td>...</td>\n",
       "      <td>...</td>\n",
       "      <td>...</td>\n",
       "      <td>...</td>\n",
       "      <td>...</td>\n",
       "      <td>...</td>\n",
       "      <td>...</td>\n",
       "    </tr>\n",
       "    <tr>\n",
       "      <th>5</th>\n",
       "      <td>0-5</td>\n",
       "      <td>LateralCortical_STD_45</td>\n",
       "      <td>1.761870</td>\n",
       "      <td>10.566974</td>\n",
       "      <td>87.671155</td>\n",
       "      <td>Lateral</td>\n",
       "      <td>Cortical</td>\n",
       "      <td>45</td>\n",
       "      <td>STD</td>\n",
       "    </tr>\n",
       "    <tr>\n",
       "      <th>4</th>\n",
       "      <td>0-5</td>\n",
       "      <td>MedialCortical_STD_45</td>\n",
       "      <td>0.538013</td>\n",
       "      <td>56.989875</td>\n",
       "      <td>42.472112</td>\n",
       "      <td>Medial</td>\n",
       "      <td>Cortical</td>\n",
       "      <td>45</td>\n",
       "      <td>STD</td>\n",
       "    </tr>\n",
       "    <tr>\n",
       "      <th>3</th>\n",
       "      <td>0-5</td>\n",
       "      <td>PosteriorCortical_STD_75</td>\n",
       "      <td>13.262466</td>\n",
       "      <td>35.913123</td>\n",
       "      <td>50.824410</td>\n",
       "      <td>Posterior</td>\n",
       "      <td>Cortical</td>\n",
       "      <td>75</td>\n",
       "      <td>STD</td>\n",
       "    </tr>\n",
       "    <tr>\n",
       "      <th>2</th>\n",
       "      <td>0-5</td>\n",
       "      <td>AnteriorCortical_STD_75</td>\n",
       "      <td>8.167807</td>\n",
       "      <td>56.096486</td>\n",
       "      <td>35.735708</td>\n",
       "      <td>Anterior</td>\n",
       "      <td>Cortical</td>\n",
       "      <td>75</td>\n",
       "      <td>STD</td>\n",
       "    </tr>\n",
       "    <tr>\n",
       "      <th>0</th>\n",
       "      <td>0-5</td>\n",
       "      <td>MedialCortical_STD_75</td>\n",
       "      <td>0.285905</td>\n",
       "      <td>52.434146</td>\n",
       "      <td>47.279949</td>\n",
       "      <td>Medial</td>\n",
       "      <td>Cortical</td>\n",
       "      <td>75</td>\n",
       "      <td>STD</td>\n",
       "    </tr>\n",
       "  </tbody>\n",
       "</table>\n",
       "<p>384 rows × 9 columns</p>\n",
       "</div>"
      ],
      "text/plain": [
       "     depth                          id    remodel  unchanged     resorb  \\\n",
       "383  35-40  PosteriorTrabecular_INF_45  45.263493  45.121985   9.614522   \n",
       "360  35-40     MedialTrabecular_SUP_75  38.311605  49.784255  11.904140   \n",
       "361  35-40    LateralTrabecular_SUP_75  52.740759  39.089661   8.169581   \n",
       "381  35-40    LateralTrabecular_INF_45  39.750985  51.049154   9.199861   \n",
       "380  35-40     MedialTrabecular_INF_45  68.189305  31.213646   0.597048   \n",
       "..     ...                         ...        ...        ...        ...   \n",
       "5      0-5      LateralCortical_STD_45   1.761870  10.566974  87.671155   \n",
       "4      0-5       MedialCortical_STD_45   0.538013  56.989875  42.472112   \n",
       "3      0-5    PosteriorCortical_STD_75  13.262466  35.913123  50.824410   \n",
       "2      0-5     AnteriorCortical_STD_75   8.167807  56.096486  35.735708   \n",
       "0      0-5       MedialCortical_STD_75   0.285905  52.434146  47.279949   \n",
       "\n",
       "          quad   bone_type  load posi  \n",
       "383  Posterior  Trabecular    45  INF  \n",
       "360     Medial  Trabecular    75  SUP  \n",
       "361    Lateral  Trabecular    75  SUP  \n",
       "381    Lateral  Trabecular    45  INF  \n",
       "380     Medial  Trabecular    45  INF  \n",
       "..         ...         ...   ...  ...  \n",
       "5      Lateral    Cortical    45  STD  \n",
       "4       Medial    Cortical    45  STD  \n",
       "3    Posterior    Cortical    75  STD  \n",
       "2     Anterior    Cortical    75  STD  \n",
       "0       Medial    Cortical    75  STD  \n",
       "\n",
       "[384 rows x 9 columns]"
      ]
     },
     "execution_count": 36,
     "metadata": {},
     "output_type": "execute_result"
    }
   ],
   "source": [
    "df = df.sort_values(by = 'depth', ascending = False, key = lambda col: pd.Series([int(x.split('-')[0]) for x in col.tolist()]))\n",
    "# df.to_csv('test.csv')\n",
    "df"
   ]
  },
  {
   "cell_type": "code",
   "execution_count": 38,
   "metadata": {},
   "outputs": [
    {
     "data": {
      "text/html": [
       "<div>\n",
       "<style scoped>\n",
       "    .dataframe tbody tr th:only-of-type {\n",
       "        vertical-align: middle;\n",
       "    }\n",
       "\n",
       "    .dataframe tbody tr th {\n",
       "        vertical-align: top;\n",
       "    }\n",
       "\n",
       "    .dataframe thead th {\n",
       "        text-align: right;\n",
       "    }\n",
       "</style>\n",
       "<table border=\"1\" class=\"dataframe\">\n",
       "  <thead>\n",
       "    <tr style=\"text-align: right;\">\n",
       "      <th></th>\n",
       "      <th>depth</th>\n",
       "      <th>id</th>\n",
       "      <th>remodel</th>\n",
       "      <th>unchanged</th>\n",
       "      <th>resorb</th>\n",
       "      <th>quad</th>\n",
       "      <th>bone_type</th>\n",
       "      <th>load</th>\n",
       "      <th>posi</th>\n",
       "    </tr>\n",
       "  </thead>\n",
       "  <tbody>\n",
       "    <tr>\n",
       "      <th>340</th>\n",
       "      <td>35-40</td>\n",
       "      <td>MedialCortical_STD_45</td>\n",
       "      <td>0.000000</td>\n",
       "      <td>100.000000</td>\n",
       "      <td>0.000000</td>\n",
       "      <td>Medial</td>\n",
       "      <td>Cortical</td>\n",
       "      <td>45</td>\n",
       "      <td>STD</td>\n",
       "    </tr>\n",
       "    <tr>\n",
       "      <th>341</th>\n",
       "      <td>35-40</td>\n",
       "      <td>LateralCortical_STD_45</td>\n",
       "      <td>0.000000</td>\n",
       "      <td>100.000000</td>\n",
       "      <td>0.000000</td>\n",
       "      <td>Lateral</td>\n",
       "      <td>Cortical</td>\n",
       "      <td>45</td>\n",
       "      <td>STD</td>\n",
       "    </tr>\n",
       "    <tr>\n",
       "      <th>342</th>\n",
       "      <td>35-40</td>\n",
       "      <td>AnteriorCortical_STD_45</td>\n",
       "      <td>0.112467</td>\n",
       "      <td>99.887533</td>\n",
       "      <td>0.000000</td>\n",
       "      <td>Anterior</td>\n",
       "      <td>Cortical</td>\n",
       "      <td>45</td>\n",
       "      <td>STD</td>\n",
       "    </tr>\n",
       "    <tr>\n",
       "      <th>343</th>\n",
       "      <td>35-40</td>\n",
       "      <td>PosteriorCortical_STD_45</td>\n",
       "      <td>0.000000</td>\n",
       "      <td>100.000000</td>\n",
       "      <td>0.000000</td>\n",
       "      <td>Posterior</td>\n",
       "      <td>Cortical</td>\n",
       "      <td>45</td>\n",
       "      <td>STD</td>\n",
       "    </tr>\n",
       "    <tr>\n",
       "      <th>295</th>\n",
       "      <td>30-35</td>\n",
       "      <td>PosteriorCortical_STD_45</td>\n",
       "      <td>0.000000</td>\n",
       "      <td>100.000000</td>\n",
       "      <td>0.000000</td>\n",
       "      <td>Posterior</td>\n",
       "      <td>Cortical</td>\n",
       "      <td>45</td>\n",
       "      <td>STD</td>\n",
       "    </tr>\n",
       "    <tr>\n",
       "      <th>294</th>\n",
       "      <td>30-35</td>\n",
       "      <td>AnteriorCortical_STD_45</td>\n",
       "      <td>0.122640</td>\n",
       "      <td>99.877360</td>\n",
       "      <td>0.000000</td>\n",
       "      <td>Anterior</td>\n",
       "      <td>Cortical</td>\n",
       "      <td>45</td>\n",
       "      <td>STD</td>\n",
       "    </tr>\n",
       "    <tr>\n",
       "      <th>292</th>\n",
       "      <td>30-35</td>\n",
       "      <td>MedialCortical_STD_45</td>\n",
       "      <td>0.000000</td>\n",
       "      <td>100.000000</td>\n",
       "      <td>0.000000</td>\n",
       "      <td>Medial</td>\n",
       "      <td>Cortical</td>\n",
       "      <td>45</td>\n",
       "      <td>STD</td>\n",
       "    </tr>\n",
       "    <tr>\n",
       "      <th>293</th>\n",
       "      <td>30-35</td>\n",
       "      <td>LateralCortical_STD_45</td>\n",
       "      <td>0.000000</td>\n",
       "      <td>100.000000</td>\n",
       "      <td>0.000000</td>\n",
       "      <td>Lateral</td>\n",
       "      <td>Cortical</td>\n",
       "      <td>45</td>\n",
       "      <td>STD</td>\n",
       "    </tr>\n",
       "    <tr>\n",
       "      <th>247</th>\n",
       "      <td>25-30</td>\n",
       "      <td>PosteriorCortical_STD_45</td>\n",
       "      <td>0.031426</td>\n",
       "      <td>99.968574</td>\n",
       "      <td>0.000000</td>\n",
       "      <td>Posterior</td>\n",
       "      <td>Cortical</td>\n",
       "      <td>45</td>\n",
       "      <td>STD</td>\n",
       "    </tr>\n",
       "    <tr>\n",
       "      <th>244</th>\n",
       "      <td>25-30</td>\n",
       "      <td>MedialCortical_STD_45</td>\n",
       "      <td>1.466788</td>\n",
       "      <td>98.533212</td>\n",
       "      <td>0.000000</td>\n",
       "      <td>Medial</td>\n",
       "      <td>Cortical</td>\n",
       "      <td>45</td>\n",
       "      <td>STD</td>\n",
       "    </tr>\n",
       "    <tr>\n",
       "      <th>245</th>\n",
       "      <td>25-30</td>\n",
       "      <td>LateralCortical_STD_45</td>\n",
       "      <td>0.049298</td>\n",
       "      <td>93.494173</td>\n",
       "      <td>6.456529</td>\n",
       "      <td>Lateral</td>\n",
       "      <td>Cortical</td>\n",
       "      <td>45</td>\n",
       "      <td>STD</td>\n",
       "    </tr>\n",
       "    <tr>\n",
       "      <th>246</th>\n",
       "      <td>25-30</td>\n",
       "      <td>AnteriorCortical_STD_45</td>\n",
       "      <td>4.451781</td>\n",
       "      <td>95.548219</td>\n",
       "      <td>0.000000</td>\n",
       "      <td>Anterior</td>\n",
       "      <td>Cortical</td>\n",
       "      <td>45</td>\n",
       "      <td>STD</td>\n",
       "    </tr>\n",
       "    <tr>\n",
       "      <th>199</th>\n",
       "      <td>20-25</td>\n",
       "      <td>PosteriorCortical_STD_45</td>\n",
       "      <td>1.761105</td>\n",
       "      <td>98.170490</td>\n",
       "      <td>0.068406</td>\n",
       "      <td>Posterior</td>\n",
       "      <td>Cortical</td>\n",
       "      <td>45</td>\n",
       "      <td>STD</td>\n",
       "    </tr>\n",
       "    <tr>\n",
       "      <th>196</th>\n",
       "      <td>20-25</td>\n",
       "      <td>MedialCortical_STD_45</td>\n",
       "      <td>7.142669</td>\n",
       "      <td>92.857331</td>\n",
       "      <td>0.000000</td>\n",
       "      <td>Medial</td>\n",
       "      <td>Cortical</td>\n",
       "      <td>45</td>\n",
       "      <td>STD</td>\n",
       "    </tr>\n",
       "    <tr>\n",
       "      <th>197</th>\n",
       "      <td>20-25</td>\n",
       "      <td>LateralCortical_STD_45</td>\n",
       "      <td>1.603895</td>\n",
       "      <td>60.509948</td>\n",
       "      <td>37.886157</td>\n",
       "      <td>Lateral</td>\n",
       "      <td>Cortical</td>\n",
       "      <td>45</td>\n",
       "      <td>STD</td>\n",
       "    </tr>\n",
       "    <tr>\n",
       "      <th>198</th>\n",
       "      <td>20-25</td>\n",
       "      <td>AnteriorCortical_STD_45</td>\n",
       "      <td>12.842221</td>\n",
       "      <td>87.140574</td>\n",
       "      <td>0.017205</td>\n",
       "      <td>Anterior</td>\n",
       "      <td>Cortical</td>\n",
       "      <td>45</td>\n",
       "      <td>STD</td>\n",
       "    </tr>\n",
       "    <tr>\n",
       "      <th>151</th>\n",
       "      <td>15-20</td>\n",
       "      <td>PosteriorCortical_STD_45</td>\n",
       "      <td>8.856564</td>\n",
       "      <td>83.789104</td>\n",
       "      <td>7.354332</td>\n",
       "      <td>Posterior</td>\n",
       "      <td>Cortical</td>\n",
       "      <td>45</td>\n",
       "      <td>STD</td>\n",
       "    </tr>\n",
       "    <tr>\n",
       "      <th>150</th>\n",
       "      <td>15-20</td>\n",
       "      <td>AnteriorCortical_STD_45</td>\n",
       "      <td>25.425629</td>\n",
       "      <td>73.950619</td>\n",
       "      <td>0.623751</td>\n",
       "      <td>Anterior</td>\n",
       "      <td>Cortical</td>\n",
       "      <td>45</td>\n",
       "      <td>STD</td>\n",
       "    </tr>\n",
       "    <tr>\n",
       "      <th>149</th>\n",
       "      <td>15-20</td>\n",
       "      <td>LateralCortical_STD_45</td>\n",
       "      <td>3.818739</td>\n",
       "      <td>40.137183</td>\n",
       "      <td>56.044077</td>\n",
       "      <td>Lateral</td>\n",
       "      <td>Cortical</td>\n",
       "      <td>45</td>\n",
       "      <td>STD</td>\n",
       "    </tr>\n",
       "    <tr>\n",
       "      <th>148</th>\n",
       "      <td>15-20</td>\n",
       "      <td>MedialCortical_STD_45</td>\n",
       "      <td>16.339182</td>\n",
       "      <td>80.761193</td>\n",
       "      <td>2.899624</td>\n",
       "      <td>Medial</td>\n",
       "      <td>Cortical</td>\n",
       "      <td>45</td>\n",
       "      <td>STD</td>\n",
       "    </tr>\n",
       "    <tr>\n",
       "      <th>103</th>\n",
       "      <td>10-15</td>\n",
       "      <td>PosteriorCortical_STD_45</td>\n",
       "      <td>11.337430</td>\n",
       "      <td>61.811170</td>\n",
       "      <td>26.851400</td>\n",
       "      <td>Posterior</td>\n",
       "      <td>Cortical</td>\n",
       "      <td>45</td>\n",
       "      <td>STD</td>\n",
       "    </tr>\n",
       "    <tr>\n",
       "      <th>102</th>\n",
       "      <td>10-15</td>\n",
       "      <td>AnteriorCortical_STD_45</td>\n",
       "      <td>26.545666</td>\n",
       "      <td>71.343899</td>\n",
       "      <td>2.110435</td>\n",
       "      <td>Anterior</td>\n",
       "      <td>Cortical</td>\n",
       "      <td>45</td>\n",
       "      <td>STD</td>\n",
       "    </tr>\n",
       "    <tr>\n",
       "      <th>101</th>\n",
       "      <td>10-15</td>\n",
       "      <td>LateralCortical_STD_45</td>\n",
       "      <td>2.021620</td>\n",
       "      <td>36.058477</td>\n",
       "      <td>61.919903</td>\n",
       "      <td>Lateral</td>\n",
       "      <td>Cortical</td>\n",
       "      <td>45</td>\n",
       "      <td>STD</td>\n",
       "    </tr>\n",
       "    <tr>\n",
       "      <th>100</th>\n",
       "      <td>10-15</td>\n",
       "      <td>MedialCortical_STD_45</td>\n",
       "      <td>14.873846</td>\n",
       "      <td>69.339449</td>\n",
       "      <td>15.786706</td>\n",
       "      <td>Medial</td>\n",
       "      <td>Cortical</td>\n",
       "      <td>45</td>\n",
       "      <td>STD</td>\n",
       "    </tr>\n",
       "    <tr>\n",
       "      <th>55</th>\n",
       "      <td>5-10</td>\n",
       "      <td>PosteriorCortical_STD_45</td>\n",
       "      <td>11.575559</td>\n",
       "      <td>39.614769</td>\n",
       "      <td>48.809671</td>\n",
       "      <td>Posterior</td>\n",
       "      <td>Cortical</td>\n",
       "      <td>45</td>\n",
       "      <td>STD</td>\n",
       "    </tr>\n",
       "    <tr>\n",
       "      <th>53</th>\n",
       "      <td>5-10</td>\n",
       "      <td>LateralCortical_STD_45</td>\n",
       "      <td>1.191241</td>\n",
       "      <td>21.143524</td>\n",
       "      <td>77.665236</td>\n",
       "      <td>Lateral</td>\n",
       "      <td>Cortical</td>\n",
       "      <td>45</td>\n",
       "      <td>STD</td>\n",
       "    </tr>\n",
       "    <tr>\n",
       "      <th>52</th>\n",
       "      <td>5-10</td>\n",
       "      <td>MedialCortical_STD_45</td>\n",
       "      <td>4.887391</td>\n",
       "      <td>62.027331</td>\n",
       "      <td>33.085278</td>\n",
       "      <td>Medial</td>\n",
       "      <td>Cortical</td>\n",
       "      <td>45</td>\n",
       "      <td>STD</td>\n",
       "    </tr>\n",
       "    <tr>\n",
       "      <th>54</th>\n",
       "      <td>5-10</td>\n",
       "      <td>AnteriorCortical_STD_45</td>\n",
       "      <td>8.393236</td>\n",
       "      <td>72.503262</td>\n",
       "      <td>19.103503</td>\n",
       "      <td>Anterior</td>\n",
       "      <td>Cortical</td>\n",
       "      <td>45</td>\n",
       "      <td>STD</td>\n",
       "    </tr>\n",
       "    <tr>\n",
       "      <th>7</th>\n",
       "      <td>0-5</td>\n",
       "      <td>PosteriorCortical_STD_45</td>\n",
       "      <td>12.063558</td>\n",
       "      <td>36.584698</td>\n",
       "      <td>51.351744</td>\n",
       "      <td>Posterior</td>\n",
       "      <td>Cortical</td>\n",
       "      <td>45</td>\n",
       "      <td>STD</td>\n",
       "    </tr>\n",
       "    <tr>\n",
       "      <th>6</th>\n",
       "      <td>0-5</td>\n",
       "      <td>AnteriorCortical_STD_45</td>\n",
       "      <td>7.648486</td>\n",
       "      <td>54.374579</td>\n",
       "      <td>37.976935</td>\n",
       "      <td>Anterior</td>\n",
       "      <td>Cortical</td>\n",
       "      <td>45</td>\n",
       "      <td>STD</td>\n",
       "    </tr>\n",
       "    <tr>\n",
       "      <th>5</th>\n",
       "      <td>0-5</td>\n",
       "      <td>LateralCortical_STD_45</td>\n",
       "      <td>1.761870</td>\n",
       "      <td>10.566974</td>\n",
       "      <td>87.671155</td>\n",
       "      <td>Lateral</td>\n",
       "      <td>Cortical</td>\n",
       "      <td>45</td>\n",
       "      <td>STD</td>\n",
       "    </tr>\n",
       "    <tr>\n",
       "      <th>4</th>\n",
       "      <td>0-5</td>\n",
       "      <td>MedialCortical_STD_45</td>\n",
       "      <td>0.538013</td>\n",
       "      <td>56.989875</td>\n",
       "      <td>42.472112</td>\n",
       "      <td>Medial</td>\n",
       "      <td>Cortical</td>\n",
       "      <td>45</td>\n",
       "      <td>STD</td>\n",
       "    </tr>\n",
       "  </tbody>\n",
       "</table>\n",
       "</div>"
      ],
      "text/plain": [
       "     depth                        id    remodel   unchanged     resorb  \\\n",
       "340  35-40     MedialCortical_STD_45   0.000000  100.000000   0.000000   \n",
       "341  35-40    LateralCortical_STD_45   0.000000  100.000000   0.000000   \n",
       "342  35-40   AnteriorCortical_STD_45   0.112467   99.887533   0.000000   \n",
       "343  35-40  PosteriorCortical_STD_45   0.000000  100.000000   0.000000   \n",
       "295  30-35  PosteriorCortical_STD_45   0.000000  100.000000   0.000000   \n",
       "294  30-35   AnteriorCortical_STD_45   0.122640   99.877360   0.000000   \n",
       "292  30-35     MedialCortical_STD_45   0.000000  100.000000   0.000000   \n",
       "293  30-35    LateralCortical_STD_45   0.000000  100.000000   0.000000   \n",
       "247  25-30  PosteriorCortical_STD_45   0.031426   99.968574   0.000000   \n",
       "244  25-30     MedialCortical_STD_45   1.466788   98.533212   0.000000   \n",
       "245  25-30    LateralCortical_STD_45   0.049298   93.494173   6.456529   \n",
       "246  25-30   AnteriorCortical_STD_45   4.451781   95.548219   0.000000   \n",
       "199  20-25  PosteriorCortical_STD_45   1.761105   98.170490   0.068406   \n",
       "196  20-25     MedialCortical_STD_45   7.142669   92.857331   0.000000   \n",
       "197  20-25    LateralCortical_STD_45   1.603895   60.509948  37.886157   \n",
       "198  20-25   AnteriorCortical_STD_45  12.842221   87.140574   0.017205   \n",
       "151  15-20  PosteriorCortical_STD_45   8.856564   83.789104   7.354332   \n",
       "150  15-20   AnteriorCortical_STD_45  25.425629   73.950619   0.623751   \n",
       "149  15-20    LateralCortical_STD_45   3.818739   40.137183  56.044077   \n",
       "148  15-20     MedialCortical_STD_45  16.339182   80.761193   2.899624   \n",
       "103  10-15  PosteriorCortical_STD_45  11.337430   61.811170  26.851400   \n",
       "102  10-15   AnteriorCortical_STD_45  26.545666   71.343899   2.110435   \n",
       "101  10-15    LateralCortical_STD_45   2.021620   36.058477  61.919903   \n",
       "100  10-15     MedialCortical_STD_45  14.873846   69.339449  15.786706   \n",
       "55    5-10  PosteriorCortical_STD_45  11.575559   39.614769  48.809671   \n",
       "53    5-10    LateralCortical_STD_45   1.191241   21.143524  77.665236   \n",
       "52    5-10     MedialCortical_STD_45   4.887391   62.027331  33.085278   \n",
       "54    5-10   AnteriorCortical_STD_45   8.393236   72.503262  19.103503   \n",
       "7      0-5  PosteriorCortical_STD_45  12.063558   36.584698  51.351744   \n",
       "6      0-5   AnteriorCortical_STD_45   7.648486   54.374579  37.976935   \n",
       "5      0-5    LateralCortical_STD_45   1.761870   10.566974  87.671155   \n",
       "4      0-5     MedialCortical_STD_45   0.538013   56.989875  42.472112   \n",
       "\n",
       "          quad bone_type  load posi  \n",
       "340     Medial  Cortical    45  STD  \n",
       "341    Lateral  Cortical    45  STD  \n",
       "342   Anterior  Cortical    45  STD  \n",
       "343  Posterior  Cortical    45  STD  \n",
       "295  Posterior  Cortical    45  STD  \n",
       "294   Anterior  Cortical    45  STD  \n",
       "292     Medial  Cortical    45  STD  \n",
       "293    Lateral  Cortical    45  STD  \n",
       "247  Posterior  Cortical    45  STD  \n",
       "244     Medial  Cortical    45  STD  \n",
       "245    Lateral  Cortical    45  STD  \n",
       "246   Anterior  Cortical    45  STD  \n",
       "199  Posterior  Cortical    45  STD  \n",
       "196     Medial  Cortical    45  STD  \n",
       "197    Lateral  Cortical    45  STD  \n",
       "198   Anterior  Cortical    45  STD  \n",
       "151  Posterior  Cortical    45  STD  \n",
       "150   Anterior  Cortical    45  STD  \n",
       "149    Lateral  Cortical    45  STD  \n",
       "148     Medial  Cortical    45  STD  \n",
       "103  Posterior  Cortical    45  STD  \n",
       "102   Anterior  Cortical    45  STD  \n",
       "101    Lateral  Cortical    45  STD  \n",
       "100     Medial  Cortical    45  STD  \n",
       "55   Posterior  Cortical    45  STD  \n",
       "53     Lateral  Cortical    45  STD  \n",
       "52      Medial  Cortical    45  STD  \n",
       "54    Anterior  Cortical    45  STD  \n",
       "7    Posterior  Cortical    45  STD  \n",
       "6     Anterior  Cortical    45  STD  \n",
       "5      Lateral  Cortical    45  STD  \n",
       "4       Medial  Cortical    45  STD  "
      ]
     },
     "execution_count": 38,
     "metadata": {},
     "output_type": "execute_result"
    }
   ],
   "source": [
    "# build graphs\n",
    "df_graph = df[(df['posi'] == 'STD') & (df['bone_type'] == 'Cortical') & (df['load'] == 45)]\n",
    "df_graph\n"
   ]
  },
  {
   "cell_type": "code",
   "execution_count": 50,
   "metadata": {},
   "outputs": [
    {
     "data": {
      "application/vnd.plotly.v1+json": {
       "config": {
        "plotlyServerURL": "https://plot.ly"
       },
       "data": [
        {
         "hovertemplate": "depth=35-40<br>resorb=%{r}<br>quad=%{theta}<extra></extra>",
         "legendgroup": "35-40",
         "marker": {
          "color": "#f0f921",
          "pattern": {
           "shape": ""
          }
         },
         "name": "35-40",
         "r": [
          0,
          0,
          0,
          0
         ],
         "showlegend": true,
         "subplot": "polar",
         "theta": [
          "Medial",
          "Lateral",
          "Anterior",
          "Posterior"
         ],
         "type": "barpolar"
        },
        {
         "hovertemplate": "depth=30-35<br>resorb=%{r}<br>quad=%{theta}<extra></extra>",
         "legendgroup": "30-35",
         "marker": {
          "color": "#fdca26",
          "pattern": {
           "shape": ""
          }
         },
         "name": "30-35",
         "r": [
          0,
          0,
          0,
          0
         ],
         "showlegend": true,
         "subplot": "polar",
         "theta": [
          "Posterior",
          "Anterior",
          "Medial",
          "Lateral"
         ],
         "type": "barpolar"
        },
        {
         "hovertemplate": "depth=25-30<br>resorb=%{r}<br>quad=%{theta}<extra></extra>",
         "legendgroup": "25-30",
         "marker": {
          "color": "#fb9f3a",
          "pattern": {
           "shape": ""
          }
         },
         "name": "25-30",
         "r": [
          0,
          0,
          6.456529,
          0
         ],
         "showlegend": true,
         "subplot": "polar",
         "theta": [
          "Posterior",
          "Medial",
          "Lateral",
          "Anterior"
         ],
         "type": "barpolar"
        },
        {
         "hovertemplate": "depth=20-25<br>resorb=%{r}<br>quad=%{theta}<extra></extra>",
         "legendgroup": "20-25",
         "marker": {
          "color": "#ed7953",
          "pattern": {
           "shape": ""
          }
         },
         "name": "20-25",
         "r": [
          0.06840575,
          0,
          37.886157,
          0.01720475
         ],
         "showlegend": true,
         "subplot": "polar",
         "theta": [
          "Posterior",
          "Medial",
          "Lateral",
          "Anterior"
         ],
         "type": "barpolar"
        },
        {
         "hovertemplate": "depth=15-20<br>resorb=%{r}<br>quad=%{theta}<extra></extra>",
         "legendgroup": "15-20",
         "marker": {
          "color": "#d8576b",
          "pattern": {
           "shape": ""
          }
         },
         "name": "15-20",
         "r": [
          7.354332,
          0.6237512500000001,
          56.044077375,
          2.899624375
         ],
         "showlegend": true,
         "subplot": "polar",
         "theta": [
          "Posterior",
          "Anterior",
          "Lateral",
          "Medial"
         ],
         "type": "barpolar"
        },
        {
         "hovertemplate": "depth=10-15<br>resorb=%{r}<br>quad=%{theta}<extra></extra>",
         "legendgroup": "10-15",
         "marker": {
          "color": "#bd3786",
          "pattern": {
           "shape": ""
          }
         },
         "name": "10-15",
         "r": [
          26.851400125,
          2.110434625,
          61.919903375,
          15.786705625000002
         ],
         "showlegend": true,
         "subplot": "polar",
         "theta": [
          "Posterior",
          "Anterior",
          "Lateral",
          "Medial"
         ],
         "type": "barpolar"
        },
        {
         "hovertemplate": "depth=5-10<br>resorb=%{r}<br>quad=%{theta}<extra></extra>",
         "legendgroup": "5-10",
         "marker": {
          "color": "#9c179e",
          "pattern": {
           "shape": ""
          }
         },
         "name": "5-10",
         "r": [
          48.809671375,
          77.665235625,
          33.085278,
          19.1035025
         ],
         "showlegend": true,
         "subplot": "polar",
         "theta": [
          "Posterior",
          "Lateral",
          "Medial",
          "Anterior"
         ],
         "type": "barpolar"
        },
        {
         "hovertemplate": "depth=0-5<br>resorb=%{r}<br>quad=%{theta}<extra></extra>",
         "legendgroup": "0-5",
         "marker": {
          "color": "#7201a8",
          "pattern": {
           "shape": ""
          }
         },
         "name": "0-5",
         "r": [
          51.351743625,
          37.97693525,
          87.67115525,
          42.472111875
         ],
         "showlegend": true,
         "subplot": "polar",
         "theta": [
          "Posterior",
          "Anterior",
          "Lateral",
          "Medial"
         ],
         "type": "barpolar"
        }
       ],
       "layout": {
        "barmode": "relative",
        "legend": {
         "title": {
          "text": "depth"
         },
         "tracegroupgap": 0
        },
        "margin": {
         "t": 60
        },
        "polar": {
         "angularaxis": {
          "direction": "clockwise",
          "rotation": 90
         },
         "domain": {
          "x": [
           0,
           1
          ],
          "y": [
           0,
           1
          ]
         }
        },
        "template": {
         "data": {
          "bar": [
           {
            "error_x": {
             "color": "#f2f5fa"
            },
            "error_y": {
             "color": "#f2f5fa"
            },
            "marker": {
             "line": {
              "color": "rgb(17,17,17)",
              "width": 0.5
             },
             "pattern": {
              "fillmode": "overlay",
              "size": 10,
              "solidity": 0.2
             }
            },
            "type": "bar"
           }
          ],
          "barpolar": [
           {
            "marker": {
             "line": {
              "color": "rgb(17,17,17)",
              "width": 0.5
             },
             "pattern": {
              "fillmode": "overlay",
              "size": 10,
              "solidity": 0.2
             }
            },
            "type": "barpolar"
           }
          ],
          "carpet": [
           {
            "aaxis": {
             "endlinecolor": "#A2B1C6",
             "gridcolor": "#506784",
             "linecolor": "#506784",
             "minorgridcolor": "#506784",
             "startlinecolor": "#A2B1C6"
            },
            "baxis": {
             "endlinecolor": "#A2B1C6",
             "gridcolor": "#506784",
             "linecolor": "#506784",
             "minorgridcolor": "#506784",
             "startlinecolor": "#A2B1C6"
            },
            "type": "carpet"
           }
          ],
          "choropleth": [
           {
            "colorbar": {
             "outlinewidth": 0,
             "ticks": ""
            },
            "type": "choropleth"
           }
          ],
          "contour": [
           {
            "colorbar": {
             "outlinewidth": 0,
             "ticks": ""
            },
            "colorscale": [
             [
              0,
              "#0d0887"
             ],
             [
              0.1111111111111111,
              "#46039f"
             ],
             [
              0.2222222222222222,
              "#7201a8"
             ],
             [
              0.3333333333333333,
              "#9c179e"
             ],
             [
              0.4444444444444444,
              "#bd3786"
             ],
             [
              0.5555555555555556,
              "#d8576b"
             ],
             [
              0.6666666666666666,
              "#ed7953"
             ],
             [
              0.7777777777777778,
              "#fb9f3a"
             ],
             [
              0.8888888888888888,
              "#fdca26"
             ],
             [
              1,
              "#f0f921"
             ]
            ],
            "type": "contour"
           }
          ],
          "contourcarpet": [
           {
            "colorbar": {
             "outlinewidth": 0,
             "ticks": ""
            },
            "type": "contourcarpet"
           }
          ],
          "heatmap": [
           {
            "colorbar": {
             "outlinewidth": 0,
             "ticks": ""
            },
            "colorscale": [
             [
              0,
              "#0d0887"
             ],
             [
              0.1111111111111111,
              "#46039f"
             ],
             [
              0.2222222222222222,
              "#7201a8"
             ],
             [
              0.3333333333333333,
              "#9c179e"
             ],
             [
              0.4444444444444444,
              "#bd3786"
             ],
             [
              0.5555555555555556,
              "#d8576b"
             ],
             [
              0.6666666666666666,
              "#ed7953"
             ],
             [
              0.7777777777777778,
              "#fb9f3a"
             ],
             [
              0.8888888888888888,
              "#fdca26"
             ],
             [
              1,
              "#f0f921"
             ]
            ],
            "type": "heatmap"
           }
          ],
          "heatmapgl": [
           {
            "colorbar": {
             "outlinewidth": 0,
             "ticks": ""
            },
            "colorscale": [
             [
              0,
              "#0d0887"
             ],
             [
              0.1111111111111111,
              "#46039f"
             ],
             [
              0.2222222222222222,
              "#7201a8"
             ],
             [
              0.3333333333333333,
              "#9c179e"
             ],
             [
              0.4444444444444444,
              "#bd3786"
             ],
             [
              0.5555555555555556,
              "#d8576b"
             ],
             [
              0.6666666666666666,
              "#ed7953"
             ],
             [
              0.7777777777777778,
              "#fb9f3a"
             ],
             [
              0.8888888888888888,
              "#fdca26"
             ],
             [
              1,
              "#f0f921"
             ]
            ],
            "type": "heatmapgl"
           }
          ],
          "histogram": [
           {
            "marker": {
             "pattern": {
              "fillmode": "overlay",
              "size": 10,
              "solidity": 0.2
             }
            },
            "type": "histogram"
           }
          ],
          "histogram2d": [
           {
            "colorbar": {
             "outlinewidth": 0,
             "ticks": ""
            },
            "colorscale": [
             [
              0,
              "#0d0887"
             ],
             [
              0.1111111111111111,
              "#46039f"
             ],
             [
              0.2222222222222222,
              "#7201a8"
             ],
             [
              0.3333333333333333,
              "#9c179e"
             ],
             [
              0.4444444444444444,
              "#bd3786"
             ],
             [
              0.5555555555555556,
              "#d8576b"
             ],
             [
              0.6666666666666666,
              "#ed7953"
             ],
             [
              0.7777777777777778,
              "#fb9f3a"
             ],
             [
              0.8888888888888888,
              "#fdca26"
             ],
             [
              1,
              "#f0f921"
             ]
            ],
            "type": "histogram2d"
           }
          ],
          "histogram2dcontour": [
           {
            "colorbar": {
             "outlinewidth": 0,
             "ticks": ""
            },
            "colorscale": [
             [
              0,
              "#0d0887"
             ],
             [
              0.1111111111111111,
              "#46039f"
             ],
             [
              0.2222222222222222,
              "#7201a8"
             ],
             [
              0.3333333333333333,
              "#9c179e"
             ],
             [
              0.4444444444444444,
              "#bd3786"
             ],
             [
              0.5555555555555556,
              "#d8576b"
             ],
             [
              0.6666666666666666,
              "#ed7953"
             ],
             [
              0.7777777777777778,
              "#fb9f3a"
             ],
             [
              0.8888888888888888,
              "#fdca26"
             ],
             [
              1,
              "#f0f921"
             ]
            ],
            "type": "histogram2dcontour"
           }
          ],
          "mesh3d": [
           {
            "colorbar": {
             "outlinewidth": 0,
             "ticks": ""
            },
            "type": "mesh3d"
           }
          ],
          "parcoords": [
           {
            "line": {
             "colorbar": {
              "outlinewidth": 0,
              "ticks": ""
             }
            },
            "type": "parcoords"
           }
          ],
          "pie": [
           {
            "automargin": true,
            "type": "pie"
           }
          ],
          "scatter": [
           {
            "marker": {
             "line": {
              "color": "#283442"
             }
            },
            "type": "scatter"
           }
          ],
          "scatter3d": [
           {
            "line": {
             "colorbar": {
              "outlinewidth": 0,
              "ticks": ""
             }
            },
            "marker": {
             "colorbar": {
              "outlinewidth": 0,
              "ticks": ""
             }
            },
            "type": "scatter3d"
           }
          ],
          "scattercarpet": [
           {
            "marker": {
             "colorbar": {
              "outlinewidth": 0,
              "ticks": ""
             }
            },
            "type": "scattercarpet"
           }
          ],
          "scattergeo": [
           {
            "marker": {
             "colorbar": {
              "outlinewidth": 0,
              "ticks": ""
             }
            },
            "type": "scattergeo"
           }
          ],
          "scattergl": [
           {
            "marker": {
             "line": {
              "color": "#283442"
             }
            },
            "type": "scattergl"
           }
          ],
          "scattermapbox": [
           {
            "marker": {
             "colorbar": {
              "outlinewidth": 0,
              "ticks": ""
             }
            },
            "type": "scattermapbox"
           }
          ],
          "scatterpolar": [
           {
            "marker": {
             "colorbar": {
              "outlinewidth": 0,
              "ticks": ""
             }
            },
            "type": "scatterpolar"
           }
          ],
          "scatterpolargl": [
           {
            "marker": {
             "colorbar": {
              "outlinewidth": 0,
              "ticks": ""
             }
            },
            "type": "scatterpolargl"
           }
          ],
          "scatterternary": [
           {
            "marker": {
             "colorbar": {
              "outlinewidth": 0,
              "ticks": ""
             }
            },
            "type": "scatterternary"
           }
          ],
          "surface": [
           {
            "colorbar": {
             "outlinewidth": 0,
             "ticks": ""
            },
            "colorscale": [
             [
              0,
              "#0d0887"
             ],
             [
              0.1111111111111111,
              "#46039f"
             ],
             [
              0.2222222222222222,
              "#7201a8"
             ],
             [
              0.3333333333333333,
              "#9c179e"
             ],
             [
              0.4444444444444444,
              "#bd3786"
             ],
             [
              0.5555555555555556,
              "#d8576b"
             ],
             [
              0.6666666666666666,
              "#ed7953"
             ],
             [
              0.7777777777777778,
              "#fb9f3a"
             ],
             [
              0.8888888888888888,
              "#fdca26"
             ],
             [
              1,
              "#f0f921"
             ]
            ],
            "type": "surface"
           }
          ],
          "table": [
           {
            "cells": {
             "fill": {
              "color": "#506784"
             },
             "line": {
              "color": "rgb(17,17,17)"
             }
            },
            "header": {
             "fill": {
              "color": "#2a3f5f"
             },
             "line": {
              "color": "rgb(17,17,17)"
             }
            },
            "type": "table"
           }
          ]
         },
         "layout": {
          "annotationdefaults": {
           "arrowcolor": "#f2f5fa",
           "arrowhead": 0,
           "arrowwidth": 1
          },
          "autotypenumbers": "strict",
          "coloraxis": {
           "colorbar": {
            "outlinewidth": 0,
            "ticks": ""
           }
          },
          "colorscale": {
           "diverging": [
            [
             0,
             "#8e0152"
            ],
            [
             0.1,
             "#c51b7d"
            ],
            [
             0.2,
             "#de77ae"
            ],
            [
             0.3,
             "#f1b6da"
            ],
            [
             0.4,
             "#fde0ef"
            ],
            [
             0.5,
             "#f7f7f7"
            ],
            [
             0.6,
             "#e6f5d0"
            ],
            [
             0.7,
             "#b8e186"
            ],
            [
             0.8,
             "#7fbc41"
            ],
            [
             0.9,
             "#4d9221"
            ],
            [
             1,
             "#276419"
            ]
           ],
           "sequential": [
            [
             0,
             "#0d0887"
            ],
            [
             0.1111111111111111,
             "#46039f"
            ],
            [
             0.2222222222222222,
             "#7201a8"
            ],
            [
             0.3333333333333333,
             "#9c179e"
            ],
            [
             0.4444444444444444,
             "#bd3786"
            ],
            [
             0.5555555555555556,
             "#d8576b"
            ],
            [
             0.6666666666666666,
             "#ed7953"
            ],
            [
             0.7777777777777778,
             "#fb9f3a"
            ],
            [
             0.8888888888888888,
             "#fdca26"
            ],
            [
             1,
             "#f0f921"
            ]
           ],
           "sequentialminus": [
            [
             0,
             "#0d0887"
            ],
            [
             0.1111111111111111,
             "#46039f"
            ],
            [
             0.2222222222222222,
             "#7201a8"
            ],
            [
             0.3333333333333333,
             "#9c179e"
            ],
            [
             0.4444444444444444,
             "#bd3786"
            ],
            [
             0.5555555555555556,
             "#d8576b"
            ],
            [
             0.6666666666666666,
             "#ed7953"
            ],
            [
             0.7777777777777778,
             "#fb9f3a"
            ],
            [
             0.8888888888888888,
             "#fdca26"
            ],
            [
             1,
             "#f0f921"
            ]
           ]
          },
          "colorway": [
           "#636efa",
           "#EF553B",
           "#00cc96",
           "#ab63fa",
           "#FFA15A",
           "#19d3f3",
           "#FF6692",
           "#B6E880",
           "#FF97FF",
           "#FECB52"
          ],
          "font": {
           "color": "#f2f5fa"
          },
          "geo": {
           "bgcolor": "rgb(17,17,17)",
           "lakecolor": "rgb(17,17,17)",
           "landcolor": "rgb(17,17,17)",
           "showlakes": true,
           "showland": true,
           "subunitcolor": "#506784"
          },
          "hoverlabel": {
           "align": "left"
          },
          "hovermode": "closest",
          "mapbox": {
           "style": "dark"
          },
          "paper_bgcolor": "rgb(17,17,17)",
          "plot_bgcolor": "rgb(17,17,17)",
          "polar": {
           "angularaxis": {
            "gridcolor": "#506784",
            "linecolor": "#506784",
            "ticks": ""
           },
           "bgcolor": "rgb(17,17,17)",
           "radialaxis": {
            "gridcolor": "#506784",
            "linecolor": "#506784",
            "ticks": ""
           }
          },
          "scene": {
           "xaxis": {
            "backgroundcolor": "rgb(17,17,17)",
            "gridcolor": "#506784",
            "gridwidth": 2,
            "linecolor": "#506784",
            "showbackground": true,
            "ticks": "",
            "zerolinecolor": "#C8D4E3"
           },
           "yaxis": {
            "backgroundcolor": "rgb(17,17,17)",
            "gridcolor": "#506784",
            "gridwidth": 2,
            "linecolor": "#506784",
            "showbackground": true,
            "ticks": "",
            "zerolinecolor": "#C8D4E3"
           },
           "zaxis": {
            "backgroundcolor": "rgb(17,17,17)",
            "gridcolor": "#506784",
            "gridwidth": 2,
            "linecolor": "#506784",
            "showbackground": true,
            "ticks": "",
            "zerolinecolor": "#C8D4E3"
           }
          },
          "shapedefaults": {
           "line": {
            "color": "#f2f5fa"
           }
          },
          "sliderdefaults": {
           "bgcolor": "#C8D4E3",
           "bordercolor": "rgb(17,17,17)",
           "borderwidth": 1,
           "tickwidth": 0
          },
          "ternary": {
           "aaxis": {
            "gridcolor": "#506784",
            "linecolor": "#506784",
            "ticks": ""
           },
           "baxis": {
            "gridcolor": "#506784",
            "linecolor": "#506784",
            "ticks": ""
           },
           "bgcolor": "rgb(17,17,17)",
           "caxis": {
            "gridcolor": "#506784",
            "linecolor": "#506784",
            "ticks": ""
           }
          },
          "title": {
           "x": 0.05
          },
          "updatemenudefaults": {
           "bgcolor": "#506784",
           "borderwidth": 0
          },
          "xaxis": {
           "automargin": true,
           "gridcolor": "#283442",
           "linecolor": "#506784",
           "ticks": "",
           "title": {
            "standoff": 15
           },
           "zerolinecolor": "#283442",
           "zerolinewidth": 2
          },
          "yaxis": {
           "automargin": true,
           "gridcolor": "#283442",
           "linecolor": "#506784",
           "ticks": "",
           "title": {
            "standoff": 15
           },
           "zerolinecolor": "#283442",
           "zerolinewidth": 2
          }
         }
        }
       }
      }
     },
     "metadata": {},
     "output_type": "display_data"
    }
   ],
   "source": [
    "fig = px.bar_polar(df_graph, r=\"resorb\", theta=\"quad\",\n",
    "                   color=\"depth\", template=\"plotly_dark\",\n",
    "                   color_discrete_sequence= px.colors.sequential.Plasma_r)\n",
    "fig.show()"
   ]
  },
  {
   "cell_type": "code",
   "execution_count": 54,
   "metadata": {},
   "outputs": [
    {
     "name": "stdout",
     "output_type": "stream",
     "text": [
      "Dash is running on http://127.0.0.1:8050/\n",
      "\n",
      "Dash is running on http://127.0.0.1:8050/\n",
      "\n",
      " * Serving Flask app '__main__' (lazy loading)\n",
      " * Environment: production\n",
      "\u001b[31m   WARNING: This is a development server. Do not use it in a production deployment.\u001b[0m\n",
      "\u001b[2m   Use a production WSGI server instead.\u001b[0m\n",
      " * Debug mode: on\n"
     ]
    }
   ],
   "source": [
    "import plotly.graph_objects as go # or plotly.express as px\n",
    "from dash import Dash, html, dcc\n",
    "\n",
    "app = Dash()\n",
    "app.layout = html.Div([\n",
    "    dcc.Graph(figure=fig)\n",
    "])\n",
    "\n",
    "app.run_server(debug=True, use_reloader=False)  # Turn off reloader if inside Jupyter\n"
   ]
  },
  {
   "cell_type": "code",
   "execution_count": 4,
   "metadata": {},
   "outputs": [
    {
     "name": "stdout",
     "output_type": "stream",
     "text": [
      "Dash is running on http://127.0.0.1:8050/\n",
      "\n",
      "Dash is running on http://127.0.0.1:8050/\n",
      "\n",
      "Dash is running on http://127.0.0.1:8050/\n",
      "\n",
      "Dash is running on http://127.0.0.1:8050/\n",
      "\n",
      " * Serving Flask app '__main__' (lazy loading)\n",
      " * Environment: production\n",
      "\u001b[31m   WARNING: This is a development server. Do not use it in a production deployment.\u001b[0m\n",
      "\u001b[2m   Use a production WSGI server instead.\u001b[0m\n",
      " * Debug mode: on\n"
     ]
    }
   ],
   "source": [
    "# Run this app with `python app.py` and\n",
    "# visit http://127.0.0.1:8050/ in your web browser.\n",
    "\n",
    "from dash import Dash, html, dcc\n",
    "\n",
    "app = Dash()\n",
    "\n",
    "app.layout = html.Div([\n",
    "    html.Div(children=[\n",
    "        html.Label('Dropdown'),\n",
    "        dcc.Dropdown(['New York City', 'Montréal', 'San Francisco'], 'Montréal'),\n",
    "\n",
    "        html.Br(),\n",
    "        html.Label('Multi-Select Dropdown'),\n",
    "        dcc.Dropdown(['New York City', 'Montréal', 'San Francisco'],\n",
    "                     ['Montréal', 'San Francisco'],\n",
    "                     multi=True),\n",
    "\n",
    "        html.Br(),\n",
    "        html.Label('Radio Items'),\n",
    "        dcc.RadioItems(['New York City', 'Montréal', 'San Francisco'], 'Montréal'),\n",
    "    ], style={'padding': 10, 'flex': 1}),\n",
    "\n",
    "    html.Div(children=[\n",
    "        html.Label('Checkboxes'),\n",
    "        dcc.Checklist(['New York City', 'Montréal', 'San Francisco'],\n",
    "                      ['Montréal', 'San Francisco']\n",
    "        ),\n",
    "\n",
    "        html.Br(),\n",
    "        html.Label('Text Input'),\n",
    "        dcc.Input(value='MTL', type='text'),\n",
    "\n",
    "        html.Br(),\n",
    "        html.Label('Slider'),\n",
    "        dcc.Slider(\n",
    "            min=0,\n",
    "            max=9,\n",
    "            marks={i: f'Label {i}' if i == 1 else str(i) for i in range(1, 6)},\n",
    "            value=5,\n",
    "        ),\n",
    "    ], style={'padding': 10, 'flex': 1})\n",
    "], style={'display': 'flex', 'flex-direction': 'row'})\n",
    "\n",
    "if __name__ == '__main__':\n",
    "    app.run_server(debug=True, use_reloader=False)"
   ]
  }
 ],
 "metadata": {
  "interpreter": {
   "hash": "dfcb3b07e3aa4fc33dcd5c9162d93dcbe7b742d3e283bbe2dfe28ca095ad838d"
  },
  "kernelspec": {
   "display_name": "Python 3.9.10 ('base')",
   "language": "python",
   "name": "python3"
  },
  "language_info": {
   "codemirror_mode": {
    "name": "ipython",
    "version": 3
   },
   "file_extension": ".py",
   "mimetype": "text/x-python",
   "name": "python",
   "nbconvert_exporter": "python",
   "pygments_lexer": "ipython3",
   "version": "3.9.10"
  },
  "orig_nbformat": 4
 },
 "nbformat": 4,
 "nbformat_minor": 2
}
