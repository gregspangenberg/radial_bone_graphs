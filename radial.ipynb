{
 "cells": [
  {
   "cell_type": "code",
   "execution_count": 116,
   "metadata": {},
   "outputs": [],
   "source": [
    "import pathlib\n",
    "import pandas as pd\n",
    "import numpy as np\n",
    "import plotly.express as px\n",
    "import plotly.graph_objects as go\n",
    "import matplotlib.pyplot as plt"
   ]
  },
  {
   "cell_type": "code",
   "execution_count": 117,
   "metadata": {},
   "outputs": [
    {
     "data": {
      "text/plain": [
       "[[PosixPath('data/16-03079L_sed-std.csv'),\n",
       "  PosixPath('data/16-03079L_sed-val.csv'),\n",
       "  PosixPath('data/16-03079L_sed-var.csv')],\n",
       " [PosixPath('data/16-05049L_sed-std.csv'),\n",
       "  PosixPath('data/16-05049L_sed-val.csv'),\n",
       "  PosixPath('data/16-05049L_sed-var.csv')],\n",
       " [PosixPath('data/16-06011L_sed-std.csv'),\n",
       "  PosixPath('data/16-06011L_sed-val.csv'),\n",
       "  PosixPath('data/16-06011L_sed-var.csv')],\n",
       " [PosixPath('data/16-06018L_sed-std.csv'),\n",
       "  PosixPath('data/16-06018L_sed-val.csv'),\n",
       "  PosixPath('data/16-06018L_sed-var.csv')],\n",
       " [PosixPath('data/16-06030L_sed-std.csv'),\n",
       "  PosixPath('data/16-06030L_sed-val.csv'),\n",
       "  PosixPath('data/16-06030L_sed-var.csv')],\n",
       " [PosixPath('data/16-06057L_sed-std.csv'),\n",
       "  PosixPath('data/16-06057L_sed-val.csv'),\n",
       "  PosixPath('data/16-06057L_sed-var.csv')],\n",
       " [PosixPath('data/16-07002L_sed-std.csv'),\n",
       "  PosixPath('data/16-07002L_sed-val.csv'),\n",
       "  PosixPath('data/16-07002L_sed-var.csv')],\n",
       " [PosixPath('data/16-07005L_sed-std.csv'),\n",
       "  PosixPath('data/16-07005L_sed-val.csv'),\n",
       "  PosixPath('data/16-07005L_sed-var.csv')]]"
      ]
     },
     "execution_count": 117,
     "metadata": {},
     "output_type": "execute_result"
    }
   ],
   "source": [
    "def chunks(l,n):\n",
    "    \"\"\" split l into n sized chunks\"\"\"\n",
    "    return [l[i:i + n] for i in range(0, len(l), n)] \n",
    "\n",
    "files = [x for x in pathlib.Path('data').glob('**/*')]\n",
    "files.sort()\n",
    "\n",
    "files = chunks((files),3)\n",
    "files"
   ]
  },
  {
   "cell_type": "code",
   "execution_count": 118,
   "metadata": {},
   "outputs": [
    {
     "data": {
      "text/html": [
       "<div>\n",
       "<style scoped>\n",
       "    .dataframe tbody tr th:only-of-type {\n",
       "        vertical-align: middle;\n",
       "    }\n",
       "\n",
       "    .dataframe tbody tr th {\n",
       "        vertical-align: top;\n",
       "    }\n",
       "\n",
       "    .dataframe thead th {\n",
       "        text-align: right;\n",
       "    }\n",
       "</style>\n",
       "<table border=\"1\" class=\"dataframe\">\n",
       "  <thead>\n",
       "    <tr style=\"text-align: right;\">\n",
       "      <th></th>\n",
       "      <th>MedialCortical_SUP_75Above Threshold</th>\n",
       "      <th>MedialCortical_SUP_75Within Threshold</th>\n",
       "      <th>MedialCortical_SUP_75Below Threshold</th>\n",
       "      <th>LateralCortical_SUP_75Above Threshold</th>\n",
       "      <th>LateralCortical_SUP_75Within Threshold</th>\n",
       "      <th>LateralCortical_SUP_75Below Threshold</th>\n",
       "      <th>AnteriorCortical_SUP_75Above Threshold</th>\n",
       "      <th>AnteriorCortical_SUP_75Within Threshold</th>\n",
       "      <th>AnteriorCortical_SUP_75Below Threshold</th>\n",
       "      <th>PosteriorCortical_SUP_75Above Threshold</th>\n",
       "      <th>...</th>\n",
       "      <th>MedialTrabecular_SUP_45Below Threshold</th>\n",
       "      <th>LateralTrabecular_SUP_45Above Threshold</th>\n",
       "      <th>LateralTrabecular_SUP_45Within Threshold</th>\n",
       "      <th>LateralTrabecular_SUP_45Below Threshold</th>\n",
       "      <th>AnteriorTrabecular_SUP_45Above Threshold</th>\n",
       "      <th>AnteriorTrabecular_SUP_45Within Threshold</th>\n",
       "      <th>AnteriorTrabecular_SUP_45Below Threshold</th>\n",
       "      <th>PosteriorTrabecular_SUP_45Above Threshold</th>\n",
       "      <th>PosteriorTrabecular_SUP_45Within Threshold</th>\n",
       "      <th>PosteriorTrabecular_SUP_45Below Threshold</th>\n",
       "    </tr>\n",
       "  </thead>\n",
       "  <tbody>\n",
       "    <tr>\n",
       "      <th>0</th>\n",
       "      <td>5.235378</td>\n",
       "      <td>4.768755</td>\n",
       "      <td>89.995867</td>\n",
       "      <td>2.348587</td>\n",
       "      <td>11.875119</td>\n",
       "      <td>85.776294</td>\n",
       "      <td>11.445244</td>\n",
       "      <td>31.743071</td>\n",
       "      <td>56.811684</td>\n",
       "      <td>18.319076</td>\n",
       "      <td>...</td>\n",
       "      <td>46.635507</td>\n",
       "      <td>47.363695</td>\n",
       "      <td>24.232700</td>\n",
       "      <td>28.403605</td>\n",
       "      <td>54.401835</td>\n",
       "      <td>23.239934</td>\n",
       "      <td>22.358231</td>\n",
       "      <td>43.441971</td>\n",
       "      <td>36.322139</td>\n",
       "      <td>20.235890</td>\n",
       "    </tr>\n",
       "    <tr>\n",
       "      <th>1</th>\n",
       "      <td>9.194569</td>\n",
       "      <td>41.453903</td>\n",
       "      <td>49.351527</td>\n",
       "      <td>20.998050</td>\n",
       "      <td>17.558022</td>\n",
       "      <td>61.443928</td>\n",
       "      <td>33.177214</td>\n",
       "      <td>61.072097</td>\n",
       "      <td>5.750688</td>\n",
       "      <td>11.198928</td>\n",
       "      <td>...</td>\n",
       "      <td>17.026857</td>\n",
       "      <td>35.706911</td>\n",
       "      <td>44.388935</td>\n",
       "      <td>19.904154</td>\n",
       "      <td>67.560813</td>\n",
       "      <td>30.473488</td>\n",
       "      <td>1.965699</td>\n",
       "      <td>17.813818</td>\n",
       "      <td>67.042500</td>\n",
       "      <td>15.143682</td>\n",
       "    </tr>\n",
       "    <tr>\n",
       "      <th>2</th>\n",
       "      <td>14.138885</td>\n",
       "      <td>79.904691</td>\n",
       "      <td>5.956423</td>\n",
       "      <td>24.721367</td>\n",
       "      <td>7.306760</td>\n",
       "      <td>67.971874</td>\n",
       "      <td>63.316207</td>\n",
       "      <td>35.724801</td>\n",
       "      <td>0.958992</td>\n",
       "      <td>12.122818</td>\n",
       "      <td>...</td>\n",
       "      <td>9.507850</td>\n",
       "      <td>42.253989</td>\n",
       "      <td>47.789792</td>\n",
       "      <td>9.956219</td>\n",
       "      <td>83.389771</td>\n",
       "      <td>15.497041</td>\n",
       "      <td>1.113188</td>\n",
       "      <td>4.633480</td>\n",
       "      <td>77.334570</td>\n",
       "      <td>18.031949</td>\n",
       "    </tr>\n",
       "    <tr>\n",
       "      <th>3</th>\n",
       "      <td>25.996154</td>\n",
       "      <td>67.229724</td>\n",
       "      <td>6.774122</td>\n",
       "      <td>20.504880</td>\n",
       "      <td>30.262125</td>\n",
       "      <td>49.232995</td>\n",
       "      <td>48.048766</td>\n",
       "      <td>51.951234</td>\n",
       "      <td>0.000000</td>\n",
       "      <td>0.756612</td>\n",
       "      <td>...</td>\n",
       "      <td>8.656102</td>\n",
       "      <td>32.077021</td>\n",
       "      <td>64.255864</td>\n",
       "      <td>3.667114</td>\n",
       "      <td>75.117077</td>\n",
       "      <td>24.143901</td>\n",
       "      <td>0.739021</td>\n",
       "      <td>16.387479</td>\n",
       "      <td>69.512188</td>\n",
       "      <td>14.100333</td>\n",
       "    </tr>\n",
       "    <tr>\n",
       "      <th>4</th>\n",
       "      <td>19.581142</td>\n",
       "      <td>80.418858</td>\n",
       "      <td>0.000000</td>\n",
       "      <td>25.188453</td>\n",
       "      <td>66.575015</td>\n",
       "      <td>8.236531</td>\n",
       "      <td>36.530411</td>\n",
       "      <td>63.469589</td>\n",
       "      <td>0.000000</td>\n",
       "      <td>0.000000</td>\n",
       "      <td>...</td>\n",
       "      <td>15.036487</td>\n",
       "      <td>35.137741</td>\n",
       "      <td>62.877673</td>\n",
       "      <td>1.984586</td>\n",
       "      <td>48.517372</td>\n",
       "      <td>46.177196</td>\n",
       "      <td>5.305432</td>\n",
       "      <td>25.542630</td>\n",
       "      <td>70.523151</td>\n",
       "      <td>3.934219</td>\n",
       "    </tr>\n",
       "    <tr>\n",
       "      <th>5</th>\n",
       "      <td>0.660788</td>\n",
       "      <td>99.339212</td>\n",
       "      <td>0.000000</td>\n",
       "      <td>4.700696</td>\n",
       "      <td>95.299304</td>\n",
       "      <td>0.000000</td>\n",
       "      <td>12.632664</td>\n",
       "      <td>87.367336</td>\n",
       "      <td>0.000000</td>\n",
       "      <td>0.000000</td>\n",
       "      <td>...</td>\n",
       "      <td>22.495595</td>\n",
       "      <td>42.943501</td>\n",
       "      <td>56.575359</td>\n",
       "      <td>0.481139</td>\n",
       "      <td>31.831250</td>\n",
       "      <td>46.901777</td>\n",
       "      <td>21.266973</td>\n",
       "      <td>36.380599</td>\n",
       "      <td>60.587599</td>\n",
       "      <td>3.031802</td>\n",
       "    </tr>\n",
       "    <tr>\n",
       "      <th>6</th>\n",
       "      <td>0.000000</td>\n",
       "      <td>100.000000</td>\n",
       "      <td>0.000000</td>\n",
       "      <td>0.000000</td>\n",
       "      <td>100.000000</td>\n",
       "      <td>0.000000</td>\n",
       "      <td>0.000000</td>\n",
       "      <td>100.000000</td>\n",
       "      <td>0.000000</td>\n",
       "      <td>0.000000</td>\n",
       "      <td>...</td>\n",
       "      <td>27.017457</td>\n",
       "      <td>58.627576</td>\n",
       "      <td>39.827373</td>\n",
       "      <td>1.545052</td>\n",
       "      <td>36.663121</td>\n",
       "      <td>44.475695</td>\n",
       "      <td>18.861184</td>\n",
       "      <td>55.037079</td>\n",
       "      <td>43.047133</td>\n",
       "      <td>1.915787</td>\n",
       "    </tr>\n",
       "    <tr>\n",
       "      <th>7</th>\n",
       "      <td>0.000000</td>\n",
       "      <td>100.000000</td>\n",
       "      <td>0.000000</td>\n",
       "      <td>0.000000</td>\n",
       "      <td>100.000000</td>\n",
       "      <td>0.000000</td>\n",
       "      <td>0.000000</td>\n",
       "      <td>100.000000</td>\n",
       "      <td>0.000000</td>\n",
       "      <td>0.000000</td>\n",
       "      <td>...</td>\n",
       "      <td>22.448823</td>\n",
       "      <td>74.958613</td>\n",
       "      <td>24.435688</td>\n",
       "      <td>0.605699</td>\n",
       "      <td>42.261268</td>\n",
       "      <td>43.029379</td>\n",
       "      <td>14.709352</td>\n",
       "      <td>53.372924</td>\n",
       "      <td>39.132537</td>\n",
       "      <td>7.494539</td>\n",
       "    </tr>\n",
       "  </tbody>\n",
       "</table>\n",
       "<p>8 rows × 48 columns</p>\n",
       "</div>"
      ],
      "text/plain": [
       "   MedialCortical_SUP_75Above Threshold  \\\n",
       "0                              5.235378   \n",
       "1                              9.194569   \n",
       "2                             14.138885   \n",
       "3                             25.996154   \n",
       "4                             19.581142   \n",
       "5                              0.660788   \n",
       "6                              0.000000   \n",
       "7                              0.000000   \n",
       "\n",
       "   MedialCortical_SUP_75Within Threshold  \\\n",
       "0                               4.768755   \n",
       "1                              41.453903   \n",
       "2                              79.904691   \n",
       "3                              67.229724   \n",
       "4                              80.418858   \n",
       "5                              99.339212   \n",
       "6                             100.000000   \n",
       "7                             100.000000   \n",
       "\n",
       "   MedialCortical_SUP_75Below Threshold  \\\n",
       "0                             89.995867   \n",
       "1                             49.351527   \n",
       "2                              5.956423   \n",
       "3                              6.774122   \n",
       "4                              0.000000   \n",
       "5                              0.000000   \n",
       "6                              0.000000   \n",
       "7                              0.000000   \n",
       "\n",
       "   LateralCortical_SUP_75Above Threshold  \\\n",
       "0                               2.348587   \n",
       "1                              20.998050   \n",
       "2                              24.721367   \n",
       "3                              20.504880   \n",
       "4                              25.188453   \n",
       "5                               4.700696   \n",
       "6                               0.000000   \n",
       "7                               0.000000   \n",
       "\n",
       "   LateralCortical_SUP_75Within Threshold  \\\n",
       "0                               11.875119   \n",
       "1                               17.558022   \n",
       "2                                7.306760   \n",
       "3                               30.262125   \n",
       "4                               66.575015   \n",
       "5                               95.299304   \n",
       "6                              100.000000   \n",
       "7                              100.000000   \n",
       "\n",
       "   LateralCortical_SUP_75Below Threshold  \\\n",
       "0                              85.776294   \n",
       "1                              61.443928   \n",
       "2                              67.971874   \n",
       "3                              49.232995   \n",
       "4                               8.236531   \n",
       "5                               0.000000   \n",
       "6                               0.000000   \n",
       "7                               0.000000   \n",
       "\n",
       "   AnteriorCortical_SUP_75Above Threshold  \\\n",
       "0                               11.445244   \n",
       "1                               33.177214   \n",
       "2                               63.316207   \n",
       "3                               48.048766   \n",
       "4                               36.530411   \n",
       "5                               12.632664   \n",
       "6                                0.000000   \n",
       "7                                0.000000   \n",
       "\n",
       "   AnteriorCortical_SUP_75Within Threshold  \\\n",
       "0                                31.743071   \n",
       "1                                61.072097   \n",
       "2                                35.724801   \n",
       "3                                51.951234   \n",
       "4                                63.469589   \n",
       "5                                87.367336   \n",
       "6                               100.000000   \n",
       "7                               100.000000   \n",
       "\n",
       "   AnteriorCortical_SUP_75Below Threshold  \\\n",
       "0                               56.811684   \n",
       "1                                5.750688   \n",
       "2                                0.958992   \n",
       "3                                0.000000   \n",
       "4                                0.000000   \n",
       "5                                0.000000   \n",
       "6                                0.000000   \n",
       "7                                0.000000   \n",
       "\n",
       "   PosteriorCortical_SUP_75Above Threshold  ...  \\\n",
       "0                                18.319076  ...   \n",
       "1                                11.198928  ...   \n",
       "2                                12.122818  ...   \n",
       "3                                 0.756612  ...   \n",
       "4                                 0.000000  ...   \n",
       "5                                 0.000000  ...   \n",
       "6                                 0.000000  ...   \n",
       "7                                 0.000000  ...   \n",
       "\n",
       "   MedialTrabecular_SUP_45Below Threshold  \\\n",
       "0                               46.635507   \n",
       "1                               17.026857   \n",
       "2                                9.507850   \n",
       "3                                8.656102   \n",
       "4                               15.036487   \n",
       "5                               22.495595   \n",
       "6                               27.017457   \n",
       "7                               22.448823   \n",
       "\n",
       "   LateralTrabecular_SUP_45Above Threshold  \\\n",
       "0                                47.363695   \n",
       "1                                35.706911   \n",
       "2                                42.253989   \n",
       "3                                32.077021   \n",
       "4                                35.137741   \n",
       "5                                42.943501   \n",
       "6                                58.627576   \n",
       "7                                74.958613   \n",
       "\n",
       "   LateralTrabecular_SUP_45Within Threshold  \\\n",
       "0                                 24.232700   \n",
       "1                                 44.388935   \n",
       "2                                 47.789792   \n",
       "3                                 64.255864   \n",
       "4                                 62.877673   \n",
       "5                                 56.575359   \n",
       "6                                 39.827373   \n",
       "7                                 24.435688   \n",
       "\n",
       "   LateralTrabecular_SUP_45Below Threshold  \\\n",
       "0                                28.403605   \n",
       "1                                19.904154   \n",
       "2                                 9.956219   \n",
       "3                                 3.667114   \n",
       "4                                 1.984586   \n",
       "5                                 0.481139   \n",
       "6                                 1.545052   \n",
       "7                                 0.605699   \n",
       "\n",
       "   AnteriorTrabecular_SUP_45Above Threshold  \\\n",
       "0                                 54.401835   \n",
       "1                                 67.560813   \n",
       "2                                 83.389771   \n",
       "3                                 75.117077   \n",
       "4                                 48.517372   \n",
       "5                                 31.831250   \n",
       "6                                 36.663121   \n",
       "7                                 42.261268   \n",
       "\n",
       "   AnteriorTrabecular_SUP_45Within Threshold  \\\n",
       "0                                  23.239934   \n",
       "1                                  30.473488   \n",
       "2                                  15.497041   \n",
       "3                                  24.143901   \n",
       "4                                  46.177196   \n",
       "5                                  46.901777   \n",
       "6                                  44.475695   \n",
       "7                                  43.029379   \n",
       "\n",
       "   AnteriorTrabecular_SUP_45Below Threshold  \\\n",
       "0                                 22.358231   \n",
       "1                                  1.965699   \n",
       "2                                  1.113188   \n",
       "3                                  0.739021   \n",
       "4                                  5.305432   \n",
       "5                                 21.266973   \n",
       "6                                 18.861184   \n",
       "7                                 14.709352   \n",
       "\n",
       "   PosteriorTrabecular_SUP_45Above Threshold  \\\n",
       "0                                  43.441971   \n",
       "1                                  17.813818   \n",
       "2                                   4.633480   \n",
       "3                                  16.387479   \n",
       "4                                  25.542630   \n",
       "5                                  36.380599   \n",
       "6                                  55.037079   \n",
       "7                                  53.372924   \n",
       "\n",
       "   PosteriorTrabecular_SUP_45Within Threshold  \\\n",
       "0                                   36.322139   \n",
       "1                                   67.042500   \n",
       "2                                   77.334570   \n",
       "3                                   69.512188   \n",
       "4                                   70.523151   \n",
       "5                                   60.587599   \n",
       "6                                   43.047133   \n",
       "7                                   39.132537   \n",
       "\n",
       "   PosteriorTrabecular_SUP_45Below Threshold  \n",
       "0                                  20.235890  \n",
       "1                                  15.143682  \n",
       "2                                  18.031949  \n",
       "3                                  14.100333  \n",
       "4                                   3.934219  \n",
       "5                                   3.031802  \n",
       "6                                   1.915787  \n",
       "7                                   7.494539  \n",
       "\n",
       "[8 rows x 48 columns]"
      ]
     },
     "execution_count": 118,
     "metadata": {},
     "output_type": "execute_result"
    }
   ],
   "source": [
    "pd.read_csv('data/16-06011L_sed-val.csv')"
   ]
  },
  {
   "cell_type": "markdown",
   "metadata": {},
   "source": [
    "concatenate along axis=1 for subgroup then concatenate along axis=0 for total group"
   ]
  },
  {
   "cell_type": "code",
   "execution_count": 119,
   "metadata": {},
   "outputs": [
    {
     "data": {
      "text/html": [
       "<div>\n",
       "<style scoped>\n",
       "    .dataframe tbody tr th:only-of-type {\n",
       "        vertical-align: middle;\n",
       "    }\n",
       "\n",
       "    .dataframe tbody tr th {\n",
       "        vertical-align: top;\n",
       "    }\n",
       "\n",
       "    .dataframe thead th {\n",
       "        text-align: right;\n",
       "    }\n",
       "</style>\n",
       "<table border=\"1\" class=\"dataframe\">\n",
       "  <thead>\n",
       "    <tr style=\"text-align: right;\">\n",
       "      <th></th>\n",
       "      <th>MedialCortical_STD_75Above Threshold</th>\n",
       "      <th>MedialCortical_STD_75Within Threshold</th>\n",
       "      <th>MedialCortical_STD_75Below Threshold</th>\n",
       "      <th>LateralCortical_STD_75Above Threshold</th>\n",
       "      <th>LateralCortical_STD_75Within Threshold</th>\n",
       "      <th>LateralCortical_STD_75Below Threshold</th>\n",
       "      <th>AnteriorCortical_STD_75Above Threshold</th>\n",
       "      <th>AnteriorCortical_STD_75Within Threshold</th>\n",
       "      <th>AnteriorCortical_STD_75Below Threshold</th>\n",
       "      <th>PosteriorCortical_STD_75Above Threshold</th>\n",
       "      <th>...</th>\n",
       "      <th>MedialTrabecular_INF_45Below Threshold</th>\n",
       "      <th>LateralTrabecular_INF_45Above Threshold</th>\n",
       "      <th>LateralTrabecular_INF_45Within Threshold</th>\n",
       "      <th>LateralTrabecular_INF_45Below Threshold</th>\n",
       "      <th>AnteriorTrabecular_INF_45Above Threshold</th>\n",
       "      <th>AnteriorTrabecular_INF_45Within Threshold</th>\n",
       "      <th>AnteriorTrabecular_INF_45Below Threshold</th>\n",
       "      <th>PosteriorTrabecular_INF_45Above Threshold</th>\n",
       "      <th>PosteriorTrabecular_INF_45Within Threshold</th>\n",
       "      <th>PosteriorTrabecular_INF_45Below Threshold</th>\n",
       "    </tr>\n",
       "  </thead>\n",
       "  <tbody>\n",
       "    <tr>\n",
       "      <th>16-03079L</th>\n",
       "      <td>0.000000</td>\n",
       "      <td>46.761542</td>\n",
       "      <td>53.238458</td>\n",
       "      <td>6.353945</td>\n",
       "      <td>24.249616</td>\n",
       "      <td>69.396439</td>\n",
       "      <td>13.866700</td>\n",
       "      <td>32.025012</td>\n",
       "      <td>54.108287</td>\n",
       "      <td>22.620979</td>\n",
       "      <td>...</td>\n",
       "      <td>50.865813</td>\n",
       "      <td>52.246186</td>\n",
       "      <td>20.587586</td>\n",
       "      <td>27.166228</td>\n",
       "      <td>55.789903</td>\n",
       "      <td>16.589571</td>\n",
       "      <td>27.620526</td>\n",
       "      <td>69.151274</td>\n",
       "      <td>15.592628</td>\n",
       "      <td>15.256098</td>\n",
       "    </tr>\n",
       "    <tr>\n",
       "      <th>16-03079L</th>\n",
       "      <td>5.761448</td>\n",
       "      <td>68.057348</td>\n",
       "      <td>26.181204</td>\n",
       "      <td>0.439695</td>\n",
       "      <td>64.337635</td>\n",
       "      <td>35.222670</td>\n",
       "      <td>10.558104</td>\n",
       "      <td>80.007540</td>\n",
       "      <td>9.434357</td>\n",
       "      <td>25.561475</td>\n",
       "      <td>...</td>\n",
       "      <td>13.918417</td>\n",
       "      <td>34.989272</td>\n",
       "      <td>18.360180</td>\n",
       "      <td>46.650548</td>\n",
       "      <td>53.603064</td>\n",
       "      <td>21.202750</td>\n",
       "      <td>25.194186</td>\n",
       "      <td>60.553066</td>\n",
       "      <td>18.987959</td>\n",
       "      <td>20.458975</td>\n",
       "    </tr>\n",
       "    <tr>\n",
       "      <th>16-03079L</th>\n",
       "      <td>5.905381</td>\n",
       "      <td>87.195782</td>\n",
       "      <td>6.898837</td>\n",
       "      <td>0.000000</td>\n",
       "      <td>93.299978</td>\n",
       "      <td>6.700022</td>\n",
       "      <td>0.000000</td>\n",
       "      <td>100.000000</td>\n",
       "      <td>0.000000</td>\n",
       "      <td>24.315519</td>\n",
       "      <td>...</td>\n",
       "      <td>0.749219</td>\n",
       "      <td>16.646580</td>\n",
       "      <td>24.794460</td>\n",
       "      <td>58.558960</td>\n",
       "      <td>48.965748</td>\n",
       "      <td>29.186980</td>\n",
       "      <td>21.847272</td>\n",
       "      <td>50.679158</td>\n",
       "      <td>26.561509</td>\n",
       "      <td>22.759333</td>\n",
       "    </tr>\n",
       "    <tr>\n",
       "      <th>16-03079L</th>\n",
       "      <td>20.743416</td>\n",
       "      <td>79.256584</td>\n",
       "      <td>0.000000</td>\n",
       "      <td>0.000000</td>\n",
       "      <td>87.703136</td>\n",
       "      <td>12.296864</td>\n",
       "      <td>0.000000</td>\n",
       "      <td>99.044086</td>\n",
       "      <td>0.955914</td>\n",
       "      <td>1.144955</td>\n",
       "      <td>...</td>\n",
       "      <td>0.177986</td>\n",
       "      <td>18.729699</td>\n",
       "      <td>32.623988</td>\n",
       "      <td>48.646312</td>\n",
       "      <td>67.819558</td>\n",
       "      <td>26.585153</td>\n",
       "      <td>5.595289</td>\n",
       "      <td>56.955914</td>\n",
       "      <td>28.736756</td>\n",
       "      <td>14.307330</td>\n",
       "    </tr>\n",
       "    <tr>\n",
       "      <th>16-03079L</th>\n",
       "      <td>8.398480</td>\n",
       "      <td>91.601520</td>\n",
       "      <td>0.000000</td>\n",
       "      <td>0.000000</td>\n",
       "      <td>99.045054</td>\n",
       "      <td>0.954946</td>\n",
       "      <td>0.000000</td>\n",
       "      <td>99.862362</td>\n",
       "      <td>0.137638</td>\n",
       "      <td>0.000000</td>\n",
       "      <td>...</td>\n",
       "      <td>0.748644</td>\n",
       "      <td>46.859156</td>\n",
       "      <td>33.407487</td>\n",
       "      <td>19.733356</td>\n",
       "      <td>82.722982</td>\n",
       "      <td>16.552682</td>\n",
       "      <td>0.724337</td>\n",
       "      <td>51.682162</td>\n",
       "      <td>44.606059</td>\n",
       "      <td>3.711779</td>\n",
       "    </tr>\n",
       "    <tr>\n",
       "      <th>...</th>\n",
       "      <td>...</td>\n",
       "      <td>...</td>\n",
       "      <td>...</td>\n",
       "      <td>...</td>\n",
       "      <td>...</td>\n",
       "      <td>...</td>\n",
       "      <td>...</td>\n",
       "      <td>...</td>\n",
       "      <td>...</td>\n",
       "      <td>...</td>\n",
       "      <td>...</td>\n",
       "      <td>...</td>\n",
       "      <td>...</td>\n",
       "      <td>...</td>\n",
       "      <td>...</td>\n",
       "      <td>...</td>\n",
       "      <td>...</td>\n",
       "      <td>...</td>\n",
       "      <td>...</td>\n",
       "      <td>...</td>\n",
       "      <td>...</td>\n",
       "    </tr>\n",
       "    <tr>\n",
       "      <th>16-07005L</th>\n",
       "      <td>13.885325</td>\n",
       "      <td>85.987167</td>\n",
       "      <td>0.127507</td>\n",
       "      <td>4.064236</td>\n",
       "      <td>28.766257</td>\n",
       "      <td>67.169507</td>\n",
       "      <td>22.313470</td>\n",
       "      <td>77.686530</td>\n",
       "      <td>0.000000</td>\n",
       "      <td>49.303794</td>\n",
       "      <td>...</td>\n",
       "      <td>0.051044</td>\n",
       "      <td>13.353397</td>\n",
       "      <td>26.948323</td>\n",
       "      <td>59.698280</td>\n",
       "      <td>54.259442</td>\n",
       "      <td>39.046257</td>\n",
       "      <td>6.694301</td>\n",
       "      <td>43.178399</td>\n",
       "      <td>29.974942</td>\n",
       "      <td>26.846658</td>\n",
       "    </tr>\n",
       "    <tr>\n",
       "      <th>16-07005L</th>\n",
       "      <td>3.160513</td>\n",
       "      <td>96.839487</td>\n",
       "      <td>0.000000</td>\n",
       "      <td>0.078481</td>\n",
       "      <td>50.226844</td>\n",
       "      <td>49.694675</td>\n",
       "      <td>9.394484</td>\n",
       "      <td>90.605516</td>\n",
       "      <td>0.000000</td>\n",
       "      <td>35.031517</td>\n",
       "      <td>...</td>\n",
       "      <td>0.072019</td>\n",
       "      <td>24.297553</td>\n",
       "      <td>38.410867</td>\n",
       "      <td>37.291579</td>\n",
       "      <td>77.369559</td>\n",
       "      <td>21.922964</td>\n",
       "      <td>0.707477</td>\n",
       "      <td>42.100681</td>\n",
       "      <td>44.934842</td>\n",
       "      <td>12.964477</td>\n",
       "    </tr>\n",
       "    <tr>\n",
       "      <th>16-07005L</th>\n",
       "      <td>0.000000</td>\n",
       "      <td>100.000000</td>\n",
       "      <td>0.000000</td>\n",
       "      <td>0.000000</td>\n",
       "      <td>97.543956</td>\n",
       "      <td>2.456044</td>\n",
       "      <td>0.000000</td>\n",
       "      <td>100.000000</td>\n",
       "      <td>0.000000</td>\n",
       "      <td>1.476988</td>\n",
       "      <td>...</td>\n",
       "      <td>0.401545</td>\n",
       "      <td>54.930540</td>\n",
       "      <td>37.200052</td>\n",
       "      <td>7.869408</td>\n",
       "      <td>87.390022</td>\n",
       "      <td>12.551360</td>\n",
       "      <td>0.058617</td>\n",
       "      <td>28.508801</td>\n",
       "      <td>66.254293</td>\n",
       "      <td>5.236905</td>\n",
       "    </tr>\n",
       "    <tr>\n",
       "      <th>16-07005L</th>\n",
       "      <td>0.000000</td>\n",
       "      <td>100.000000</td>\n",
       "      <td>0.000000</td>\n",
       "      <td>0.000000</td>\n",
       "      <td>100.000000</td>\n",
       "      <td>0.000000</td>\n",
       "      <td>0.000000</td>\n",
       "      <td>100.000000</td>\n",
       "      <td>0.000000</td>\n",
       "      <td>0.000000</td>\n",
       "      <td>...</td>\n",
       "      <td>0.051946</td>\n",
       "      <td>52.442670</td>\n",
       "      <td>46.329246</td>\n",
       "      <td>1.228084</td>\n",
       "      <td>75.690081</td>\n",
       "      <td>22.626269</td>\n",
       "      <td>1.683650</td>\n",
       "      <td>32.011288</td>\n",
       "      <td>54.262871</td>\n",
       "      <td>13.725841</td>\n",
       "    </tr>\n",
       "    <tr>\n",
       "      <th>16-07005L</th>\n",
       "      <td>0.000000</td>\n",
       "      <td>100.000000</td>\n",
       "      <td>0.000000</td>\n",
       "      <td>0.000000</td>\n",
       "      <td>100.000000</td>\n",
       "      <td>0.000000</td>\n",
       "      <td>0.000000</td>\n",
       "      <td>100.000000</td>\n",
       "      <td>0.000000</td>\n",
       "      <td>0.000000</td>\n",
       "      <td>...</td>\n",
       "      <td>0.243187</td>\n",
       "      <td>31.917140</td>\n",
       "      <td>58.585021</td>\n",
       "      <td>9.497839</td>\n",
       "      <td>69.626431</td>\n",
       "      <td>28.710213</td>\n",
       "      <td>1.663356</td>\n",
       "      <td>65.193358</td>\n",
       "      <td>26.927482</td>\n",
       "      <td>7.879160</td>\n",
       "    </tr>\n",
       "  </tbody>\n",
       "</table>\n",
       "<p>64 rows × 144 columns</p>\n",
       "</div>"
      ],
      "text/plain": [
       "           MedialCortical_STD_75Above Threshold  \\\n",
       "16-03079L                              0.000000   \n",
       "16-03079L                              5.761448   \n",
       "16-03079L                              5.905381   \n",
       "16-03079L                             20.743416   \n",
       "16-03079L                              8.398480   \n",
       "...                                         ...   \n",
       "16-07005L                             13.885325   \n",
       "16-07005L                              3.160513   \n",
       "16-07005L                              0.000000   \n",
       "16-07005L                              0.000000   \n",
       "16-07005L                              0.000000   \n",
       "\n",
       "           MedialCortical_STD_75Within Threshold  \\\n",
       "16-03079L                              46.761542   \n",
       "16-03079L                              68.057348   \n",
       "16-03079L                              87.195782   \n",
       "16-03079L                              79.256584   \n",
       "16-03079L                              91.601520   \n",
       "...                                          ...   \n",
       "16-07005L                              85.987167   \n",
       "16-07005L                              96.839487   \n",
       "16-07005L                             100.000000   \n",
       "16-07005L                             100.000000   \n",
       "16-07005L                             100.000000   \n",
       "\n",
       "           MedialCortical_STD_75Below Threshold  \\\n",
       "16-03079L                             53.238458   \n",
       "16-03079L                             26.181204   \n",
       "16-03079L                              6.898837   \n",
       "16-03079L                              0.000000   \n",
       "16-03079L                              0.000000   \n",
       "...                                         ...   \n",
       "16-07005L                              0.127507   \n",
       "16-07005L                              0.000000   \n",
       "16-07005L                              0.000000   \n",
       "16-07005L                              0.000000   \n",
       "16-07005L                              0.000000   \n",
       "\n",
       "           LateralCortical_STD_75Above Threshold  \\\n",
       "16-03079L                               6.353945   \n",
       "16-03079L                               0.439695   \n",
       "16-03079L                               0.000000   \n",
       "16-03079L                               0.000000   \n",
       "16-03079L                               0.000000   \n",
       "...                                          ...   \n",
       "16-07005L                               4.064236   \n",
       "16-07005L                               0.078481   \n",
       "16-07005L                               0.000000   \n",
       "16-07005L                               0.000000   \n",
       "16-07005L                               0.000000   \n",
       "\n",
       "           LateralCortical_STD_75Within Threshold  \\\n",
       "16-03079L                               24.249616   \n",
       "16-03079L                               64.337635   \n",
       "16-03079L                               93.299978   \n",
       "16-03079L                               87.703136   \n",
       "16-03079L                               99.045054   \n",
       "...                                           ...   \n",
       "16-07005L                               28.766257   \n",
       "16-07005L                               50.226844   \n",
       "16-07005L                               97.543956   \n",
       "16-07005L                              100.000000   \n",
       "16-07005L                              100.000000   \n",
       "\n",
       "           LateralCortical_STD_75Below Threshold  \\\n",
       "16-03079L                              69.396439   \n",
       "16-03079L                              35.222670   \n",
       "16-03079L                               6.700022   \n",
       "16-03079L                              12.296864   \n",
       "16-03079L                               0.954946   \n",
       "...                                          ...   \n",
       "16-07005L                              67.169507   \n",
       "16-07005L                              49.694675   \n",
       "16-07005L                               2.456044   \n",
       "16-07005L                               0.000000   \n",
       "16-07005L                               0.000000   \n",
       "\n",
       "           AnteriorCortical_STD_75Above Threshold  \\\n",
       "16-03079L                               13.866700   \n",
       "16-03079L                               10.558104   \n",
       "16-03079L                                0.000000   \n",
       "16-03079L                                0.000000   \n",
       "16-03079L                                0.000000   \n",
       "...                                           ...   \n",
       "16-07005L                               22.313470   \n",
       "16-07005L                                9.394484   \n",
       "16-07005L                                0.000000   \n",
       "16-07005L                                0.000000   \n",
       "16-07005L                                0.000000   \n",
       "\n",
       "           AnteriorCortical_STD_75Within Threshold  \\\n",
       "16-03079L                                32.025012   \n",
       "16-03079L                                80.007540   \n",
       "16-03079L                               100.000000   \n",
       "16-03079L                                99.044086   \n",
       "16-03079L                                99.862362   \n",
       "...                                            ...   \n",
       "16-07005L                                77.686530   \n",
       "16-07005L                                90.605516   \n",
       "16-07005L                               100.000000   \n",
       "16-07005L                               100.000000   \n",
       "16-07005L                               100.000000   \n",
       "\n",
       "           AnteriorCortical_STD_75Below Threshold  \\\n",
       "16-03079L                               54.108287   \n",
       "16-03079L                                9.434357   \n",
       "16-03079L                                0.000000   \n",
       "16-03079L                                0.955914   \n",
       "16-03079L                                0.137638   \n",
       "...                                           ...   \n",
       "16-07005L                                0.000000   \n",
       "16-07005L                                0.000000   \n",
       "16-07005L                                0.000000   \n",
       "16-07005L                                0.000000   \n",
       "16-07005L                                0.000000   \n",
       "\n",
       "           PosteriorCortical_STD_75Above Threshold  ...  \\\n",
       "16-03079L                                22.620979  ...   \n",
       "16-03079L                                25.561475  ...   \n",
       "16-03079L                                24.315519  ...   \n",
       "16-03079L                                 1.144955  ...   \n",
       "16-03079L                                 0.000000  ...   \n",
       "...                                            ...  ...   \n",
       "16-07005L                                49.303794  ...   \n",
       "16-07005L                                35.031517  ...   \n",
       "16-07005L                                 1.476988  ...   \n",
       "16-07005L                                 0.000000  ...   \n",
       "16-07005L                                 0.000000  ...   \n",
       "\n",
       "           MedialTrabecular_INF_45Below Threshold  \\\n",
       "16-03079L                               50.865813   \n",
       "16-03079L                               13.918417   \n",
       "16-03079L                                0.749219   \n",
       "16-03079L                                0.177986   \n",
       "16-03079L                                0.748644   \n",
       "...                                           ...   \n",
       "16-07005L                                0.051044   \n",
       "16-07005L                                0.072019   \n",
       "16-07005L                                0.401545   \n",
       "16-07005L                                0.051946   \n",
       "16-07005L                                0.243187   \n",
       "\n",
       "           LateralTrabecular_INF_45Above Threshold  \\\n",
       "16-03079L                                52.246186   \n",
       "16-03079L                                34.989272   \n",
       "16-03079L                                16.646580   \n",
       "16-03079L                                18.729699   \n",
       "16-03079L                                46.859156   \n",
       "...                                            ...   \n",
       "16-07005L                                13.353397   \n",
       "16-07005L                                24.297553   \n",
       "16-07005L                                54.930540   \n",
       "16-07005L                                52.442670   \n",
       "16-07005L                                31.917140   \n",
       "\n",
       "           LateralTrabecular_INF_45Within Threshold  \\\n",
       "16-03079L                                 20.587586   \n",
       "16-03079L                                 18.360180   \n",
       "16-03079L                                 24.794460   \n",
       "16-03079L                                 32.623988   \n",
       "16-03079L                                 33.407487   \n",
       "...                                             ...   \n",
       "16-07005L                                 26.948323   \n",
       "16-07005L                                 38.410867   \n",
       "16-07005L                                 37.200052   \n",
       "16-07005L                                 46.329246   \n",
       "16-07005L                                 58.585021   \n",
       "\n",
       "           LateralTrabecular_INF_45Below Threshold  \\\n",
       "16-03079L                                27.166228   \n",
       "16-03079L                                46.650548   \n",
       "16-03079L                                58.558960   \n",
       "16-03079L                                48.646312   \n",
       "16-03079L                                19.733356   \n",
       "...                                            ...   \n",
       "16-07005L                                59.698280   \n",
       "16-07005L                                37.291579   \n",
       "16-07005L                                 7.869408   \n",
       "16-07005L                                 1.228084   \n",
       "16-07005L                                 9.497839   \n",
       "\n",
       "           AnteriorTrabecular_INF_45Above Threshold  \\\n",
       "16-03079L                                 55.789903   \n",
       "16-03079L                                 53.603064   \n",
       "16-03079L                                 48.965748   \n",
       "16-03079L                                 67.819558   \n",
       "16-03079L                                 82.722982   \n",
       "...                                             ...   \n",
       "16-07005L                                 54.259442   \n",
       "16-07005L                                 77.369559   \n",
       "16-07005L                                 87.390022   \n",
       "16-07005L                                 75.690081   \n",
       "16-07005L                                 69.626431   \n",
       "\n",
       "           AnteriorTrabecular_INF_45Within Threshold  \\\n",
       "16-03079L                                  16.589571   \n",
       "16-03079L                                  21.202750   \n",
       "16-03079L                                  29.186980   \n",
       "16-03079L                                  26.585153   \n",
       "16-03079L                                  16.552682   \n",
       "...                                              ...   \n",
       "16-07005L                                  39.046257   \n",
       "16-07005L                                  21.922964   \n",
       "16-07005L                                  12.551360   \n",
       "16-07005L                                  22.626269   \n",
       "16-07005L                                  28.710213   \n",
       "\n",
       "           AnteriorTrabecular_INF_45Below Threshold  \\\n",
       "16-03079L                                 27.620526   \n",
       "16-03079L                                 25.194186   \n",
       "16-03079L                                 21.847272   \n",
       "16-03079L                                  5.595289   \n",
       "16-03079L                                  0.724337   \n",
       "...                                             ...   \n",
       "16-07005L                                  6.694301   \n",
       "16-07005L                                  0.707477   \n",
       "16-07005L                                  0.058617   \n",
       "16-07005L                                  1.683650   \n",
       "16-07005L                                  1.663356   \n",
       "\n",
       "           PosteriorTrabecular_INF_45Above Threshold  \\\n",
       "16-03079L                                  69.151274   \n",
       "16-03079L                                  60.553066   \n",
       "16-03079L                                  50.679158   \n",
       "16-03079L                                  56.955914   \n",
       "16-03079L                                  51.682162   \n",
       "...                                              ...   \n",
       "16-07005L                                  43.178399   \n",
       "16-07005L                                  42.100681   \n",
       "16-07005L                                  28.508801   \n",
       "16-07005L                                  32.011288   \n",
       "16-07005L                                  65.193358   \n",
       "\n",
       "           PosteriorTrabecular_INF_45Within Threshold  \\\n",
       "16-03079L                                   15.592628   \n",
       "16-03079L                                   18.987959   \n",
       "16-03079L                                   26.561509   \n",
       "16-03079L                                   28.736756   \n",
       "16-03079L                                   44.606059   \n",
       "...                                               ...   \n",
       "16-07005L                                   29.974942   \n",
       "16-07005L                                   44.934842   \n",
       "16-07005L                                   66.254293   \n",
       "16-07005L                                   54.262871   \n",
       "16-07005L                                   26.927482   \n",
       "\n",
       "           PosteriorTrabecular_INF_45Below Threshold  \n",
       "16-03079L                                  15.256098  \n",
       "16-03079L                                  20.458975  \n",
       "16-03079L                                  22.759333  \n",
       "16-03079L                                  14.307330  \n",
       "16-03079L                                   3.711779  \n",
       "...                                              ...  \n",
       "16-07005L                                  26.846658  \n",
       "16-07005L                                  12.964477  \n",
       "16-07005L                                   5.236905  \n",
       "16-07005L                                  13.725841  \n",
       "16-07005L                                   7.879160  \n",
       "\n",
       "[64 rows x 144 columns]"
      ]
     },
     "execution_count": 119,
     "metadata": {},
     "output_type": "execute_result"
    }
   ],
   "source": [
    "df = pd.DataFrame()\n",
    "\n",
    "for files_sub in files:\n",
    "    df_sub = pd.concat([pd.read_csv(f).assign(name=f.stem.rsplit('-',1)[0].split('_')[0]) for f in files_sub], axis= 1)\n",
    "    df = pd.concat([df,df_sub], axis=0)\n",
    "\n",
    "df = df.set_index('name')\n",
    "\n",
    "# index is 3-tuple for some reason instead of string, fix this\n",
    "indx = [i[0] for i in df.index]\n",
    "df.index = indx\n",
    "\n",
    "\n",
    "df"
   ]
  },
  {
   "cell_type": "code",
   "execution_count": 120,
   "metadata": {},
   "outputs": [
    {
     "data": {
      "text/html": [
       "<div>\n",
       "<style scoped>\n",
       "    .dataframe tbody tr th:only-of-type {\n",
       "        vertical-align: middle;\n",
       "    }\n",
       "\n",
       "    .dataframe tbody tr th {\n",
       "        vertical-align: top;\n",
       "    }\n",
       "\n",
       "    .dataframe thead th {\n",
       "        text-align: right;\n",
       "    }\n",
       "</style>\n",
       "<table border=\"1\" class=\"dataframe\">\n",
       "  <thead>\n",
       "    <tr style=\"text-align: right;\">\n",
       "      <th></th>\n",
       "      <th>MedialCortical_STD_75</th>\n",
       "      <th>LateralCortical_STD_75</th>\n",
       "      <th>AnteriorCortical_STD_75</th>\n",
       "      <th>PosteriorCortical_STD_75</th>\n",
       "      <th>MedialCortical_STD_45</th>\n",
       "      <th>LateralCortical_STD_45</th>\n",
       "      <th>AnteriorCortical_STD_45</th>\n",
       "      <th>PosteriorCortical_STD_45</th>\n",
       "      <th>MedialTrabecular_STD_75</th>\n",
       "      <th>LateralTrabecular_STD_75</th>\n",
       "      <th>...</th>\n",
       "      <th>AnteriorCortical_INF_45</th>\n",
       "      <th>PosteriorCortical_INF_45</th>\n",
       "      <th>MedialTrabecular_INF_75</th>\n",
       "      <th>LateralTrabecular_INF_75</th>\n",
       "      <th>AnteriorTrabecular_INF_75</th>\n",
       "      <th>PosteriorTrabecular_INF_75</th>\n",
       "      <th>MedialTrabecular_INF_45</th>\n",
       "      <th>LateralTrabecular_INF_45</th>\n",
       "      <th>AnteriorTrabecular_INF_45</th>\n",
       "      <th>PosteriorTrabecular_INF_45</th>\n",
       "    </tr>\n",
       "    <tr>\n",
       "      <th>specimen</th>\n",
       "      <th></th>\n",
       "      <th></th>\n",
       "      <th></th>\n",
       "      <th></th>\n",
       "      <th></th>\n",
       "      <th></th>\n",
       "      <th></th>\n",
       "      <th></th>\n",
       "      <th></th>\n",
       "      <th></th>\n",
       "      <th></th>\n",
       "      <th></th>\n",
       "      <th></th>\n",
       "      <th></th>\n",
       "      <th></th>\n",
       "      <th></th>\n",
       "      <th></th>\n",
       "      <th></th>\n",
       "      <th></th>\n",
       "      <th></th>\n",
       "      <th></th>\n",
       "    </tr>\n",
       "  </thead>\n",
       "  <tbody>\n",
       "    <tr>\n",
       "      <th>16-03079L</th>\n",
       "      <td>(0.0, 46.761542, 53.238458)</td>\n",
       "      <td>(6.353945, 24.249616, 69.396439)</td>\n",
       "      <td>(13.8667, 32.025012, 54.108287)</td>\n",
       "      <td>(22.620979, 40.305399, 37.073622)</td>\n",
       "      <td>(0.0, 49.58105, 50.41895)</td>\n",
       "      <td>(7.099514, 24.940782, 67.959704)</td>\n",
       "      <td>(13.643281, 29.131096, 57.225623)</td>\n",
       "      <td>(22.908938, 39.603065, 37.487996)</td>\n",
       "      <td>(7.30538, 60.250401, 32.444218)</td>\n",
       "      <td>(62.757192, 18.112046, 19.130762)</td>\n",
       "      <td>...</td>\n",
       "      <td>(23.089009, 11.634007, 65.276985)</td>\n",
       "      <td>(33.831433, 9.992332, 56.176236)</td>\n",
       "      <td>(15.592777, 31.853386, 52.553837)</td>\n",
       "      <td>(48.203381, 22.58555, 29.21107)</td>\n",
       "      <td>(54.145154, 16.46741, 29.387436)</td>\n",
       "      <td>(66.09134, 17.781396, 16.127264)</td>\n",
       "      <td>(16.371786, 32.762401, 50.865813)</td>\n",
       "      <td>(52.246186, 20.587586, 27.166228)</td>\n",
       "      <td>(55.789903, 16.589571, 27.620526)</td>\n",
       "      <td>(69.151274, 15.592628, 15.256098)</td>\n",
       "    </tr>\n",
       "    <tr>\n",
       "      <th>16-03079L</th>\n",
       "      <td>(5.761448, 68.057348, 26.181204)</td>\n",
       "      <td>(0.439695, 64.337635, 35.22267)</td>\n",
       "      <td>(10.558104, 80.00754, 9.434357)</td>\n",
       "      <td>(25.561475, 64.154219, 10.284306)</td>\n",
       "      <td>(5.099936, 71.515808, 23.384256)</td>\n",
       "      <td>(0.557003, 61.864248, 37.578749)</td>\n",
       "      <td>(11.173855, 79.231324, 9.594822)</td>\n",
       "      <td>(25.540399, 63.885131, 10.57447)</td>\n",
       "      <td>(23.259889, 66.859337, 9.880774)</td>\n",
       "      <td>(66.208052, 31.464299, 2.327649)</td>\n",
       "      <td>...</td>\n",
       "      <td>(22.485279, 36.490461, 41.024261)</td>\n",
       "      <td>(34.62957, 8.80907, 56.56136)</td>\n",
       "      <td>(61.328225, 25.940789, 12.730986)</td>\n",
       "      <td>(32.386089, 19.089551, 48.52436)</td>\n",
       "      <td>(51.793915, 21.240529, 26.965556)</td>\n",
       "      <td>(58.22547, 19.718817, 22.055713)</td>\n",
       "      <td>(59.941773, 26.13981, 13.918417)</td>\n",
       "      <td>(34.989272, 18.36018, 46.650548)</td>\n",
       "      <td>(53.603064, 21.20275, 25.194186)</td>\n",
       "      <td>(60.553066, 18.987959, 20.458975)</td>\n",
       "    </tr>\n",
       "    <tr>\n",
       "      <th>16-03079L</th>\n",
       "      <td>(5.905381, 87.195782, 6.898837)</td>\n",
       "      <td>(0.0, 93.299978, 6.700022)</td>\n",
       "      <td>(0.0, 100.0, 0.0)</td>\n",
       "      <td>(24.315519, 75.684481, 0.0)</td>\n",
       "      <td>(9.23223, 85.452377, 5.315394)</td>\n",
       "      <td>(0.208259, 92.230499, 7.561243)</td>\n",
       "      <td>(0.0, 100.0, 0.0)</td>\n",
       "      <td>(22.822767, 77.177233, 0.0)</td>\n",
       "      <td>(64.986727, 33.892245, 1.121028)</td>\n",
       "      <td>(33.450008, 66.131802, 0.41819)</td>\n",
       "      <td>...</td>\n",
       "      <td>(30.227569, 66.56722, 3.205211)</td>\n",
       "      <td>(38.172387, 14.097161, 47.730452)</td>\n",
       "      <td>(93.294634, 5.987204, 0.718162)</td>\n",
       "      <td>(15.796329, 23.452276, 60.751395)</td>\n",
       "      <td>(48.367927, 28.025684, 23.606389)</td>\n",
       "      <td>(48.988177, 27.095029, 23.916795)</td>\n",
       "      <td>(93.1874, 6.063382, 0.749219)</td>\n",
       "      <td>(16.64658, 24.79446, 58.55896)</td>\n",
       "      <td>(48.965748, 29.18698, 21.847272)</td>\n",
       "      <td>(50.679158, 26.561509, 22.759333)</td>\n",
       "    </tr>\n",
       "    <tr>\n",
       "      <th>16-03079L</th>\n",
       "      <td>(20.743416, 79.256584, 0.0)</td>\n",
       "      <td>(0.0, 87.703136, 12.296864)</td>\n",
       "      <td>(0.0, 99.044086, 0.955914)</td>\n",
       "      <td>(1.144955, 98.855045, 0.0)</td>\n",
       "      <td>(19.49051, 80.50949, 0.0)</td>\n",
       "      <td>(0.0, 88.441504, 11.558496)</td>\n",
       "      <td>(0.0, 99.243122, 0.756878)</td>\n",
       "      <td>(0.67015, 99.32985, 0.0)</td>\n",
       "      <td>(80.149143, 19.123625, 0.727231)</td>\n",
       "      <td>(11.007296, 88.482254, 0.510449)</td>\n",
       "      <td>...</td>\n",
       "      <td>(43.769797, 56.230203, 0.0)</td>\n",
       "      <td>(55.587414, 20.10189, 24.310696)</td>\n",
       "      <td>(91.468817, 8.353197, 0.177986)</td>\n",
       "      <td>(17.966959, 30.088918, 51.944123)</td>\n",
       "      <td>(67.431043, 26.635446, 5.933511)</td>\n",
       "      <td>(56.84553, 27.918302, 15.236168)</td>\n",
       "      <td>(91.216252, 8.605763, 0.177986)</td>\n",
       "      <td>(18.729699, 32.623988, 48.646312)</td>\n",
       "      <td>(67.819558, 26.585153, 5.595289)</td>\n",
       "      <td>(56.955914, 28.736756, 14.30733)</td>\n",
       "    </tr>\n",
       "    <tr>\n",
       "      <th>16-03079L</th>\n",
       "      <td>(8.39848, 91.60152, 0.0)</td>\n",
       "      <td>(0.0, 99.045054, 0.954946)</td>\n",
       "      <td>(0.0, 99.862362, 0.137638)</td>\n",
       "      <td>(0.0, 100.0, 0.0)</td>\n",
       "      <td>(3.715353, 96.284647, 0.0)</td>\n",
       "      <td>(0.0, 99.188023, 0.811977)</td>\n",
       "      <td>(0.0, 99.862362, 0.137638)</td>\n",
       "      <td>(0.0, 100.0, 0.0)</td>\n",
       "      <td>(73.730034, 25.407854, 0.862113)</td>\n",
       "      <td>(5.865153, 92.89285, 1.241997)</td>\n",
       "      <td>...</td>\n",
       "      <td>(32.859481, 61.617086, 5.523434)</td>\n",
       "      <td>(55.6577, 42.444997, 1.897303)</td>\n",
       "      <td>(85.581637, 13.601952, 0.816411)</td>\n",
       "      <td>(44.940943, 33.405768, 21.653289)</td>\n",
       "      <td>(83.03293, 16.174527, 0.792543)</td>\n",
       "      <td>(50.185264, 45.763107, 4.051628)</td>\n",
       "      <td>(85.247289, 14.004067, 0.748644)</td>\n",
       "      <td>(46.859156, 33.407487, 19.733356)</td>\n",
       "      <td>(82.722982, 16.552682, 0.724337)</td>\n",
       "      <td>(51.682162, 44.606059, 3.711779)</td>\n",
       "    </tr>\n",
       "    <tr>\n",
       "      <th>...</th>\n",
       "      <td>...</td>\n",
       "      <td>...</td>\n",
       "      <td>...</td>\n",
       "      <td>...</td>\n",
       "      <td>...</td>\n",
       "      <td>...</td>\n",
       "      <td>...</td>\n",
       "      <td>...</td>\n",
       "      <td>...</td>\n",
       "      <td>...</td>\n",
       "      <td>...</td>\n",
       "      <td>...</td>\n",
       "      <td>...</td>\n",
       "      <td>...</td>\n",
       "      <td>...</td>\n",
       "      <td>...</td>\n",
       "      <td>...</td>\n",
       "      <td>...</td>\n",
       "      <td>...</td>\n",
       "      <td>...</td>\n",
       "      <td>...</td>\n",
       "    </tr>\n",
       "    <tr>\n",
       "      <th>16-07005L</th>\n",
       "      <td>(13.885325, 85.987167, 0.127507)</td>\n",
       "      <td>(4.064236, 28.766257, 67.169507)</td>\n",
       "      <td>(22.31347, 77.68653, 0.0)</td>\n",
       "      <td>(49.303794, 50.696206, 0.0)</td>\n",
       "      <td>(26.908796, 73.091204, 0.0)</td>\n",
       "      <td>(5.844891, 26.276091, 67.879017)</td>\n",
       "      <td>(40.511208, 59.488792, 0.0)</td>\n",
       "      <td>(35.383299, 62.421146, 2.195555)</td>\n",
       "      <td>(80.945004, 18.089504, 0.965492)</td>\n",
       "      <td>(13.677204, 74.597098, 11.725698)</td>\n",
       "      <td>...</td>\n",
       "      <td>(80.859891, 19.140109, 0.0)</td>\n",
       "      <td>(43.450028, 32.301923, 24.248049)</td>\n",
       "      <td>(90.959114, 8.989841, 0.051044)</td>\n",
       "      <td>(12.661493, 22.143369, 65.195138)</td>\n",
       "      <td>(51.940718, 35.955012, 12.10427)</td>\n",
       "      <td>(43.215121, 30.001044, 26.783835)</td>\n",
       "      <td>(91.87738, 8.071576, 0.051044)</td>\n",
       "      <td>(13.353397, 26.948323, 59.69828)</td>\n",
       "      <td>(54.259442, 39.046257, 6.694301)</td>\n",
       "      <td>(43.178399, 29.974942, 26.846658)</td>\n",
       "    </tr>\n",
       "    <tr>\n",
       "      <th>16-07005L</th>\n",
       "      <td>(3.160513, 96.839487, 0.0)</td>\n",
       "      <td>(0.078481, 50.226844, 49.694675)</td>\n",
       "      <td>(9.394484, 90.605516, 0.0)</td>\n",
       "      <td>(35.031517, 64.968483, 0.0)</td>\n",
       "      <td>(11.567045, 88.432955, 0.0)</td>\n",
       "      <td>(1.488371, 50.171827, 48.339803)</td>\n",
       "      <td>(14.830539, 85.169461, 0.0)</td>\n",
       "      <td>(2.309959, 97.690041, 0.0)</td>\n",
       "      <td>(80.499206, 19.124963, 0.375831)</td>\n",
       "      <td>(13.093668, 84.377971, 2.528361)</td>\n",
       "      <td>...</td>\n",
       "      <td>(57.102142, 42.897858, 0.0)</td>\n",
       "      <td>(44.041691, 50.029989, 5.92832)</td>\n",
       "      <td>(87.663643, 12.264338, 0.072019)</td>\n",
       "      <td>(22.507343, 35.521961, 41.970696)</td>\n",
       "      <td>(74.107678, 24.779389, 1.112933)</td>\n",
       "      <td>(38.599869, 48.136069, 13.264062)</td>\n",
       "      <td>(88.070801, 11.85718, 0.072019)</td>\n",
       "      <td>(24.297553, 38.410867, 37.291579)</td>\n",
       "      <td>(77.369559, 21.922964, 0.707477)</td>\n",
       "      <td>(42.100681, 44.934842, 12.964477)</td>\n",
       "    </tr>\n",
       "    <tr>\n",
       "      <th>16-07005L</th>\n",
       "      <td>(0.0, 100.0, 0.0)</td>\n",
       "      <td>(0.0, 97.543956, 2.456044)</td>\n",
       "      <td>(0.0, 100.0, 0.0)</td>\n",
       "      <td>(1.476988, 98.523012, 0.0)</td>\n",
       "      <td>(0.806979, 99.193021, 0.0)</td>\n",
       "      <td>(0.394381, 98.755444, 0.850175)</td>\n",
       "      <td>(0.0, 100.0, 0.0)</td>\n",
       "      <td>(0.0, 100.0, 0.0)</td>\n",
       "      <td>(75.896273, 23.590407, 0.51332)</td>\n",
       "      <td>(22.58073, 77.153797, 0.265473)</td>\n",
       "      <td>...</td>\n",
       "      <td>(1.99086, 97.797256, 0.211884)</td>\n",
       "      <td>(33.046434, 66.805854, 0.147712)</td>\n",
       "      <td>(83.752043, 15.846413, 0.401545)</td>\n",
       "      <td>(49.415945, 40.203921, 10.380134)</td>\n",
       "      <td>(84.46248, 15.478902, 0.058617)</td>\n",
       "      <td>(27.981007, 66.422777, 5.596216)</td>\n",
       "      <td>(83.984966, 15.613489, 0.401545)</td>\n",
       "      <td>(54.93054, 37.200052, 7.869408)</td>\n",
       "      <td>(87.390022, 12.55136, 0.058617)</td>\n",
       "      <td>(28.508801, 66.254293, 5.236905)</td>\n",
       "    </tr>\n",
       "    <tr>\n",
       "      <th>16-07005L</th>\n",
       "      <td>(0.0, 100.0, 0.0)</td>\n",
       "      <td>(0.0, 100.0, 0.0)</td>\n",
       "      <td>(0.0, 100.0, 0.0)</td>\n",
       "      <td>(0.0, 100.0, 0.0)</td>\n",
       "      <td>(0.0, 100.0, 0.0)</td>\n",
       "      <td>(0.0, 100.0, 0.0)</td>\n",
       "      <td>(0.0, 100.0, 0.0)</td>\n",
       "      <td>(0.0, 100.0, 0.0)</td>\n",
       "      <td>(73.625346, 26.322709, 0.051946)</td>\n",
       "      <td>(20.992438, 77.977416, 1.030146)</td>\n",
       "      <td>...</td>\n",
       "      <td>(0.0, 100.0, 0.0)</td>\n",
       "      <td>(8.654039, 91.345961, 0.0)</td>\n",
       "      <td>(78.982816, 20.965238, 0.051946)</td>\n",
       "      <td>(47.743926, 50.685532, 1.570542)</td>\n",
       "      <td>(73.339098, 25.368438, 1.292463)</td>\n",
       "      <td>(34.230113, 50.293729, 15.476158)</td>\n",
       "      <td>(78.653599, 21.294455, 0.051946)</td>\n",
       "      <td>(52.44267, 46.329246, 1.228084)</td>\n",
       "      <td>(75.690081, 22.626269, 1.68365)</td>\n",
       "      <td>(32.011288, 54.262871, 13.725841)</td>\n",
       "    </tr>\n",
       "    <tr>\n",
       "      <th>16-07005L</th>\n",
       "      <td>(0.0, 100.0, 0.0)</td>\n",
       "      <td>(0.0, 100.0, 0.0)</td>\n",
       "      <td>(0.0, 100.0, 0.0)</td>\n",
       "      <td>(0.0, 100.0, 0.0)</td>\n",
       "      <td>(0.0, 100.0, 0.0)</td>\n",
       "      <td>(0.0, 100.0, 0.0)</td>\n",
       "      <td>(0.0, 100.0, 0.0)</td>\n",
       "      <td>(0.0, 100.0, 0.0)</td>\n",
       "      <td>(63.435945, 36.387363, 0.176693)</td>\n",
       "      <td>(19.319597, 73.085896, 7.594507)</td>\n",
       "      <td>...</td>\n",
       "      <td>(0.0, 100.0, 0.0)</td>\n",
       "      <td>(0.0, 100.0, 0.0)</td>\n",
       "      <td>(67.293306, 32.427113, 0.279581)</td>\n",
       "      <td>(31.500041, 58.04156, 10.4584)</td>\n",
       "      <td>(69.494319, 29.763613, 0.742067)</td>\n",
       "      <td>(68.313342, 23.747415, 7.939243)</td>\n",
       "      <td>(66.979906, 32.776908, 0.243187)</td>\n",
       "      <td>(31.91714, 58.585021, 9.497839)</td>\n",
       "      <td>(69.626431, 28.710213, 1.663356)</td>\n",
       "      <td>(65.193358, 26.927482, 7.87916)</td>\n",
       "    </tr>\n",
       "  </tbody>\n",
       "</table>\n",
       "<p>64 rows × 48 columns</p>\n",
       "</div>"
      ],
      "text/plain": [
       "                      MedialCortical_STD_75            LateralCortical_STD_75  \\\n",
       "specimen                                                                        \n",
       "16-03079L       (0.0, 46.761542, 53.238458)  (6.353945, 24.249616, 69.396439)   \n",
       "16-03079L  (5.761448, 68.057348, 26.181204)   (0.439695, 64.337635, 35.22267)   \n",
       "16-03079L   (5.905381, 87.195782, 6.898837)        (0.0, 93.299978, 6.700022)   \n",
       "16-03079L       (20.743416, 79.256584, 0.0)       (0.0, 87.703136, 12.296864)   \n",
       "16-03079L          (8.39848, 91.60152, 0.0)        (0.0, 99.045054, 0.954946)   \n",
       "...                                     ...                               ...   \n",
       "16-07005L  (13.885325, 85.987167, 0.127507)  (4.064236, 28.766257, 67.169507)   \n",
       "16-07005L        (3.160513, 96.839487, 0.0)  (0.078481, 50.226844, 49.694675)   \n",
       "16-07005L                 (0.0, 100.0, 0.0)        (0.0, 97.543956, 2.456044)   \n",
       "16-07005L                 (0.0, 100.0, 0.0)                 (0.0, 100.0, 0.0)   \n",
       "16-07005L                 (0.0, 100.0, 0.0)                 (0.0, 100.0, 0.0)   \n",
       "\n",
       "                   AnteriorCortical_STD_75           PosteriorCortical_STD_75  \\\n",
       "specimen                                                                        \n",
       "16-03079L  (13.8667, 32.025012, 54.108287)  (22.620979, 40.305399, 37.073622)   \n",
       "16-03079L  (10.558104, 80.00754, 9.434357)  (25.561475, 64.154219, 10.284306)   \n",
       "16-03079L                (0.0, 100.0, 0.0)        (24.315519, 75.684481, 0.0)   \n",
       "16-03079L       (0.0, 99.044086, 0.955914)         (1.144955, 98.855045, 0.0)   \n",
       "16-03079L       (0.0, 99.862362, 0.137638)                  (0.0, 100.0, 0.0)   \n",
       "...                                    ...                                ...   \n",
       "16-07005L        (22.31347, 77.68653, 0.0)        (49.303794, 50.696206, 0.0)   \n",
       "16-07005L       (9.394484, 90.605516, 0.0)        (35.031517, 64.968483, 0.0)   \n",
       "16-07005L                (0.0, 100.0, 0.0)         (1.476988, 98.523012, 0.0)   \n",
       "16-07005L                (0.0, 100.0, 0.0)                  (0.0, 100.0, 0.0)   \n",
       "16-07005L                (0.0, 100.0, 0.0)                  (0.0, 100.0, 0.0)   \n",
       "\n",
       "                      MedialCortical_STD_45            LateralCortical_STD_45  \\\n",
       "specimen                                                                        \n",
       "16-03079L         (0.0, 49.58105, 50.41895)  (7.099514, 24.940782, 67.959704)   \n",
       "16-03079L  (5.099936, 71.515808, 23.384256)  (0.557003, 61.864248, 37.578749)   \n",
       "16-03079L    (9.23223, 85.452377, 5.315394)   (0.208259, 92.230499, 7.561243)   \n",
       "16-03079L         (19.49051, 80.50949, 0.0)       (0.0, 88.441504, 11.558496)   \n",
       "16-03079L        (3.715353, 96.284647, 0.0)        (0.0, 99.188023, 0.811977)   \n",
       "...                                     ...                               ...   \n",
       "16-07005L       (26.908796, 73.091204, 0.0)  (5.844891, 26.276091, 67.879017)   \n",
       "16-07005L       (11.567045, 88.432955, 0.0)  (1.488371, 50.171827, 48.339803)   \n",
       "16-07005L        (0.806979, 99.193021, 0.0)   (0.394381, 98.755444, 0.850175)   \n",
       "16-07005L                 (0.0, 100.0, 0.0)                 (0.0, 100.0, 0.0)   \n",
       "16-07005L                 (0.0, 100.0, 0.0)                 (0.0, 100.0, 0.0)   \n",
       "\n",
       "                     AnteriorCortical_STD_45  \\\n",
       "specimen                                       \n",
       "16-03079L  (13.643281, 29.131096, 57.225623)   \n",
       "16-03079L   (11.173855, 79.231324, 9.594822)   \n",
       "16-03079L                  (0.0, 100.0, 0.0)   \n",
       "16-03079L         (0.0, 99.243122, 0.756878)   \n",
       "16-03079L         (0.0, 99.862362, 0.137638)   \n",
       "...                                      ...   \n",
       "16-07005L        (40.511208, 59.488792, 0.0)   \n",
       "16-07005L        (14.830539, 85.169461, 0.0)   \n",
       "16-07005L                  (0.0, 100.0, 0.0)   \n",
       "16-07005L                  (0.0, 100.0, 0.0)   \n",
       "16-07005L                  (0.0, 100.0, 0.0)   \n",
       "\n",
       "                    PosteriorCortical_STD_45  \\\n",
       "specimen                                       \n",
       "16-03079L  (22.908938, 39.603065, 37.487996)   \n",
       "16-03079L   (25.540399, 63.885131, 10.57447)   \n",
       "16-03079L        (22.822767, 77.177233, 0.0)   \n",
       "16-03079L           (0.67015, 99.32985, 0.0)   \n",
       "16-03079L                  (0.0, 100.0, 0.0)   \n",
       "...                                      ...   \n",
       "16-07005L   (35.383299, 62.421146, 2.195555)   \n",
       "16-07005L         (2.309959, 97.690041, 0.0)   \n",
       "16-07005L                  (0.0, 100.0, 0.0)   \n",
       "16-07005L                  (0.0, 100.0, 0.0)   \n",
       "16-07005L                  (0.0, 100.0, 0.0)   \n",
       "\n",
       "                    MedialTrabecular_STD_75  \\\n",
       "specimen                                      \n",
       "16-03079L   (7.30538, 60.250401, 32.444218)   \n",
       "16-03079L  (23.259889, 66.859337, 9.880774)   \n",
       "16-03079L  (64.986727, 33.892245, 1.121028)   \n",
       "16-03079L  (80.149143, 19.123625, 0.727231)   \n",
       "16-03079L  (73.730034, 25.407854, 0.862113)   \n",
       "...                                     ...   \n",
       "16-07005L  (80.945004, 18.089504, 0.965492)   \n",
       "16-07005L  (80.499206, 19.124963, 0.375831)   \n",
       "16-07005L   (75.896273, 23.590407, 0.51332)   \n",
       "16-07005L  (73.625346, 26.322709, 0.051946)   \n",
       "16-07005L  (63.435945, 36.387363, 0.176693)   \n",
       "\n",
       "                    LateralTrabecular_STD_75  ...  \\\n",
       "specimen                                      ...   \n",
       "16-03079L  (62.757192, 18.112046, 19.130762)  ...   \n",
       "16-03079L   (66.208052, 31.464299, 2.327649)  ...   \n",
       "16-03079L    (33.450008, 66.131802, 0.41819)  ...   \n",
       "16-03079L   (11.007296, 88.482254, 0.510449)  ...   \n",
       "16-03079L     (5.865153, 92.89285, 1.241997)  ...   \n",
       "...                                      ...  ...   \n",
       "16-07005L  (13.677204, 74.597098, 11.725698)  ...   \n",
       "16-07005L   (13.093668, 84.377971, 2.528361)  ...   \n",
       "16-07005L    (22.58073, 77.153797, 0.265473)  ...   \n",
       "16-07005L   (20.992438, 77.977416, 1.030146)  ...   \n",
       "16-07005L   (19.319597, 73.085896, 7.594507)  ...   \n",
       "\n",
       "                     AnteriorCortical_INF_45  \\\n",
       "specimen                                       \n",
       "16-03079L  (23.089009, 11.634007, 65.276985)   \n",
       "16-03079L  (22.485279, 36.490461, 41.024261)   \n",
       "16-03079L    (30.227569, 66.56722, 3.205211)   \n",
       "16-03079L        (43.769797, 56.230203, 0.0)   \n",
       "16-03079L   (32.859481, 61.617086, 5.523434)   \n",
       "...                                      ...   \n",
       "16-07005L        (80.859891, 19.140109, 0.0)   \n",
       "16-07005L        (57.102142, 42.897858, 0.0)   \n",
       "16-07005L     (1.99086, 97.797256, 0.211884)   \n",
       "16-07005L                  (0.0, 100.0, 0.0)   \n",
       "16-07005L                  (0.0, 100.0, 0.0)   \n",
       "\n",
       "                    PosteriorCortical_INF_45  \\\n",
       "specimen                                       \n",
       "16-03079L   (33.831433, 9.992332, 56.176236)   \n",
       "16-03079L      (34.62957, 8.80907, 56.56136)   \n",
       "16-03079L  (38.172387, 14.097161, 47.730452)   \n",
       "16-03079L   (55.587414, 20.10189, 24.310696)   \n",
       "16-03079L     (55.6577, 42.444997, 1.897303)   \n",
       "...                                      ...   \n",
       "16-07005L  (43.450028, 32.301923, 24.248049)   \n",
       "16-07005L    (44.041691, 50.029989, 5.92832)   \n",
       "16-07005L   (33.046434, 66.805854, 0.147712)   \n",
       "16-07005L         (8.654039, 91.345961, 0.0)   \n",
       "16-07005L                  (0.0, 100.0, 0.0)   \n",
       "\n",
       "                     MedialTrabecular_INF_75  \\\n",
       "specimen                                       \n",
       "16-03079L  (15.592777, 31.853386, 52.553837)   \n",
       "16-03079L  (61.328225, 25.940789, 12.730986)   \n",
       "16-03079L    (93.294634, 5.987204, 0.718162)   \n",
       "16-03079L    (91.468817, 8.353197, 0.177986)   \n",
       "16-03079L   (85.581637, 13.601952, 0.816411)   \n",
       "...                                      ...   \n",
       "16-07005L    (90.959114, 8.989841, 0.051044)   \n",
       "16-07005L   (87.663643, 12.264338, 0.072019)   \n",
       "16-07005L   (83.752043, 15.846413, 0.401545)   \n",
       "16-07005L   (78.982816, 20.965238, 0.051946)   \n",
       "16-07005L   (67.293306, 32.427113, 0.279581)   \n",
       "\n",
       "                    LateralTrabecular_INF_75  \\\n",
       "specimen                                       \n",
       "16-03079L    (48.203381, 22.58555, 29.21107)   \n",
       "16-03079L   (32.386089, 19.089551, 48.52436)   \n",
       "16-03079L  (15.796329, 23.452276, 60.751395)   \n",
       "16-03079L  (17.966959, 30.088918, 51.944123)   \n",
       "16-03079L  (44.940943, 33.405768, 21.653289)   \n",
       "...                                      ...   \n",
       "16-07005L  (12.661493, 22.143369, 65.195138)   \n",
       "16-07005L  (22.507343, 35.521961, 41.970696)   \n",
       "16-07005L  (49.415945, 40.203921, 10.380134)   \n",
       "16-07005L   (47.743926, 50.685532, 1.570542)   \n",
       "16-07005L     (31.500041, 58.04156, 10.4584)   \n",
       "\n",
       "                   AnteriorTrabecular_INF_75  \\\n",
       "specimen                                       \n",
       "16-03079L   (54.145154, 16.46741, 29.387436)   \n",
       "16-03079L  (51.793915, 21.240529, 26.965556)   \n",
       "16-03079L  (48.367927, 28.025684, 23.606389)   \n",
       "16-03079L   (67.431043, 26.635446, 5.933511)   \n",
       "16-03079L    (83.03293, 16.174527, 0.792543)   \n",
       "...                                      ...   \n",
       "16-07005L   (51.940718, 35.955012, 12.10427)   \n",
       "16-07005L   (74.107678, 24.779389, 1.112933)   \n",
       "16-07005L    (84.46248, 15.478902, 0.058617)   \n",
       "16-07005L   (73.339098, 25.368438, 1.292463)   \n",
       "16-07005L   (69.494319, 29.763613, 0.742067)   \n",
       "\n",
       "                  PosteriorTrabecular_INF_75  \\\n",
       "specimen                                       \n",
       "16-03079L   (66.09134, 17.781396, 16.127264)   \n",
       "16-03079L   (58.22547, 19.718817, 22.055713)   \n",
       "16-03079L  (48.988177, 27.095029, 23.916795)   \n",
       "16-03079L   (56.84553, 27.918302, 15.236168)   \n",
       "16-03079L   (50.185264, 45.763107, 4.051628)   \n",
       "...                                      ...   \n",
       "16-07005L  (43.215121, 30.001044, 26.783835)   \n",
       "16-07005L  (38.599869, 48.136069, 13.264062)   \n",
       "16-07005L   (27.981007, 66.422777, 5.596216)   \n",
       "16-07005L  (34.230113, 50.293729, 15.476158)   \n",
       "16-07005L   (68.313342, 23.747415, 7.939243)   \n",
       "\n",
       "                     MedialTrabecular_INF_45  \\\n",
       "specimen                                       \n",
       "16-03079L  (16.371786, 32.762401, 50.865813)   \n",
       "16-03079L   (59.941773, 26.13981, 13.918417)   \n",
       "16-03079L      (93.1874, 6.063382, 0.749219)   \n",
       "16-03079L    (91.216252, 8.605763, 0.177986)   \n",
       "16-03079L   (85.247289, 14.004067, 0.748644)   \n",
       "...                                      ...   \n",
       "16-07005L     (91.87738, 8.071576, 0.051044)   \n",
       "16-07005L    (88.070801, 11.85718, 0.072019)   \n",
       "16-07005L   (83.984966, 15.613489, 0.401545)   \n",
       "16-07005L   (78.653599, 21.294455, 0.051946)   \n",
       "16-07005L   (66.979906, 32.776908, 0.243187)   \n",
       "\n",
       "                    LateralTrabecular_INF_45  \\\n",
       "specimen                                       \n",
       "16-03079L  (52.246186, 20.587586, 27.166228)   \n",
       "16-03079L   (34.989272, 18.36018, 46.650548)   \n",
       "16-03079L     (16.64658, 24.79446, 58.55896)   \n",
       "16-03079L  (18.729699, 32.623988, 48.646312)   \n",
       "16-03079L  (46.859156, 33.407487, 19.733356)   \n",
       "...                                      ...   \n",
       "16-07005L   (13.353397, 26.948323, 59.69828)   \n",
       "16-07005L  (24.297553, 38.410867, 37.291579)   \n",
       "16-07005L    (54.93054, 37.200052, 7.869408)   \n",
       "16-07005L    (52.44267, 46.329246, 1.228084)   \n",
       "16-07005L    (31.91714, 58.585021, 9.497839)   \n",
       "\n",
       "                   AnteriorTrabecular_INF_45  \\\n",
       "specimen                                       \n",
       "16-03079L  (55.789903, 16.589571, 27.620526)   \n",
       "16-03079L   (53.603064, 21.20275, 25.194186)   \n",
       "16-03079L   (48.965748, 29.18698, 21.847272)   \n",
       "16-03079L   (67.819558, 26.585153, 5.595289)   \n",
       "16-03079L   (82.722982, 16.552682, 0.724337)   \n",
       "...                                      ...   \n",
       "16-07005L   (54.259442, 39.046257, 6.694301)   \n",
       "16-07005L   (77.369559, 21.922964, 0.707477)   \n",
       "16-07005L    (87.390022, 12.55136, 0.058617)   \n",
       "16-07005L    (75.690081, 22.626269, 1.68365)   \n",
       "16-07005L   (69.626431, 28.710213, 1.663356)   \n",
       "\n",
       "                  PosteriorTrabecular_INF_45  \n",
       "specimen                                      \n",
       "16-03079L  (69.151274, 15.592628, 15.256098)  \n",
       "16-03079L  (60.553066, 18.987959, 20.458975)  \n",
       "16-03079L  (50.679158, 26.561509, 22.759333)  \n",
       "16-03079L   (56.955914, 28.736756, 14.30733)  \n",
       "16-03079L   (51.682162, 44.606059, 3.711779)  \n",
       "...                                      ...  \n",
       "16-07005L  (43.178399, 29.974942, 26.846658)  \n",
       "16-07005L  (42.100681, 44.934842, 12.964477)  \n",
       "16-07005L   (28.508801, 66.254293, 5.236905)  \n",
       "16-07005L  (32.011288, 54.262871, 13.725841)  \n",
       "16-07005L    (65.193358, 26.927482, 7.87916)  \n",
       "\n",
       "[64 rows x 48 columns]"
      ]
     },
     "execution_count": 120,
     "metadata": {},
     "output_type": "execute_result"
    }
   ],
   "source": [
    "i = 0\n",
    "df_cat = pd.DataFrame()\n",
    "for x in range(3,len(df.columns)+3, 3):\n",
    "    col_name = str(df.iloc[:,i:x].columns[0])\n",
    "    sub = df.iloc[:,i:x].apply(tuple,axis=1).rename(col_name)\n",
    "    df_cat = pd.concat([df_cat,sub.reset_index(drop=True)], axis=1)\n",
    "    i=x\n",
    "\n",
    "df_cat['specimen'] = indx\n",
    "df_cat = df_cat.set_index('specimen')\n",
    "df_cat.columns = df_cat.columns.str.rstrip('Above Threshold')\n",
    "df_cat"
   ]
  },
  {
   "cell_type": "code",
   "execution_count": 121,
   "metadata": {},
   "outputs": [
    {
     "data": {
      "text/html": [
       "<div>\n",
       "<style scoped>\n",
       "    .dataframe tbody tr th:only-of-type {\n",
       "        vertical-align: middle;\n",
       "    }\n",
       "\n",
       "    .dataframe tbody tr th {\n",
       "        vertical-align: top;\n",
       "    }\n",
       "\n",
       "    .dataframe thead th {\n",
       "        text-align: right;\n",
       "    }\n",
       "</style>\n",
       "<table border=\"1\" class=\"dataframe\">\n",
       "  <thead>\n",
       "    <tr style=\"text-align: right;\">\n",
       "      <th></th>\n",
       "      <th>MedialCortical_STD_75Above Threshold</th>\n",
       "      <th>MedialCortical_STD_75Within Threshold</th>\n",
       "      <th>MedialCortical_STD_75Below Threshold</th>\n",
       "      <th>LateralCortical_STD_75Above Threshold</th>\n",
       "      <th>LateralCortical_STD_75Within Threshold</th>\n",
       "      <th>LateralCortical_STD_75Below Threshold</th>\n",
       "      <th>AnteriorCortical_STD_75Above Threshold</th>\n",
       "      <th>AnteriorCortical_STD_75Within Threshold</th>\n",
       "      <th>AnteriorCortical_STD_75Below Threshold</th>\n",
       "      <th>PosteriorCortical_STD_75Above Threshold</th>\n",
       "      <th>...</th>\n",
       "      <th>MedialTrabecular_INF_45Below Threshold</th>\n",
       "      <th>LateralTrabecular_INF_45Above Threshold</th>\n",
       "      <th>LateralTrabecular_INF_45Within Threshold</th>\n",
       "      <th>LateralTrabecular_INF_45Below Threshold</th>\n",
       "      <th>AnteriorTrabecular_INF_45Above Threshold</th>\n",
       "      <th>AnteriorTrabecular_INF_45Within Threshold</th>\n",
       "      <th>AnteriorTrabecular_INF_45Below Threshold</th>\n",
       "      <th>PosteriorTrabecular_INF_45Above Threshold</th>\n",
       "      <th>PosteriorTrabecular_INF_45Within Threshold</th>\n",
       "      <th>PosteriorTrabecular_INF_45Below Threshold</th>\n",
       "    </tr>\n",
       "  </thead>\n",
       "  <tbody>\n",
       "    <tr>\n",
       "      <th>16-03079L</th>\n",
       "      <td>0.000000</td>\n",
       "      <td>46.761542</td>\n",
       "      <td>53.238458</td>\n",
       "      <td>6.353945</td>\n",
       "      <td>24.249616</td>\n",
       "      <td>69.396439</td>\n",
       "      <td>13.866700</td>\n",
       "      <td>32.025012</td>\n",
       "      <td>54.108287</td>\n",
       "      <td>22.620979</td>\n",
       "      <td>...</td>\n",
       "      <td>50.865813</td>\n",
       "      <td>52.246186</td>\n",
       "      <td>20.587586</td>\n",
       "      <td>27.166228</td>\n",
       "      <td>55.789903</td>\n",
       "      <td>16.589571</td>\n",
       "      <td>27.620526</td>\n",
       "      <td>69.151274</td>\n",
       "      <td>15.592628</td>\n",
       "      <td>15.256098</td>\n",
       "    </tr>\n",
       "    <tr>\n",
       "      <th>16-03079L</th>\n",
       "      <td>5.761448</td>\n",
       "      <td>68.057348</td>\n",
       "      <td>26.181204</td>\n",
       "      <td>0.439695</td>\n",
       "      <td>64.337635</td>\n",
       "      <td>35.222670</td>\n",
       "      <td>10.558104</td>\n",
       "      <td>80.007540</td>\n",
       "      <td>9.434357</td>\n",
       "      <td>25.561475</td>\n",
       "      <td>...</td>\n",
       "      <td>13.918417</td>\n",
       "      <td>34.989272</td>\n",
       "      <td>18.360180</td>\n",
       "      <td>46.650548</td>\n",
       "      <td>53.603064</td>\n",
       "      <td>21.202750</td>\n",
       "      <td>25.194186</td>\n",
       "      <td>60.553066</td>\n",
       "      <td>18.987959</td>\n",
       "      <td>20.458975</td>\n",
       "    </tr>\n",
       "    <tr>\n",
       "      <th>16-03079L</th>\n",
       "      <td>5.905381</td>\n",
       "      <td>87.195782</td>\n",
       "      <td>6.898837</td>\n",
       "      <td>0.000000</td>\n",
       "      <td>93.299978</td>\n",
       "      <td>6.700022</td>\n",
       "      <td>0.000000</td>\n",
       "      <td>100.000000</td>\n",
       "      <td>0.000000</td>\n",
       "      <td>24.315519</td>\n",
       "      <td>...</td>\n",
       "      <td>0.749219</td>\n",
       "      <td>16.646580</td>\n",
       "      <td>24.794460</td>\n",
       "      <td>58.558960</td>\n",
       "      <td>48.965748</td>\n",
       "      <td>29.186980</td>\n",
       "      <td>21.847272</td>\n",
       "      <td>50.679158</td>\n",
       "      <td>26.561509</td>\n",
       "      <td>22.759333</td>\n",
       "    </tr>\n",
       "    <tr>\n",
       "      <th>16-03079L</th>\n",
       "      <td>20.743416</td>\n",
       "      <td>79.256584</td>\n",
       "      <td>0.000000</td>\n",
       "      <td>0.000000</td>\n",
       "      <td>87.703136</td>\n",
       "      <td>12.296864</td>\n",
       "      <td>0.000000</td>\n",
       "      <td>99.044086</td>\n",
       "      <td>0.955914</td>\n",
       "      <td>1.144955</td>\n",
       "      <td>...</td>\n",
       "      <td>0.177986</td>\n",
       "      <td>18.729699</td>\n",
       "      <td>32.623988</td>\n",
       "      <td>48.646312</td>\n",
       "      <td>67.819558</td>\n",
       "      <td>26.585153</td>\n",
       "      <td>5.595289</td>\n",
       "      <td>56.955914</td>\n",
       "      <td>28.736756</td>\n",
       "      <td>14.307330</td>\n",
       "    </tr>\n",
       "    <tr>\n",
       "      <th>16-03079L</th>\n",
       "      <td>8.398480</td>\n",
       "      <td>91.601520</td>\n",
       "      <td>0.000000</td>\n",
       "      <td>0.000000</td>\n",
       "      <td>99.045054</td>\n",
       "      <td>0.954946</td>\n",
       "      <td>0.000000</td>\n",
       "      <td>99.862362</td>\n",
       "      <td>0.137638</td>\n",
       "      <td>0.000000</td>\n",
       "      <td>...</td>\n",
       "      <td>0.748644</td>\n",
       "      <td>46.859156</td>\n",
       "      <td>33.407487</td>\n",
       "      <td>19.733356</td>\n",
       "      <td>82.722982</td>\n",
       "      <td>16.552682</td>\n",
       "      <td>0.724337</td>\n",
       "      <td>51.682162</td>\n",
       "      <td>44.606059</td>\n",
       "      <td>3.711779</td>\n",
       "    </tr>\n",
       "    <tr>\n",
       "      <th>...</th>\n",
       "      <td>...</td>\n",
       "      <td>...</td>\n",
       "      <td>...</td>\n",
       "      <td>...</td>\n",
       "      <td>...</td>\n",
       "      <td>...</td>\n",
       "      <td>...</td>\n",
       "      <td>...</td>\n",
       "      <td>...</td>\n",
       "      <td>...</td>\n",
       "      <td>...</td>\n",
       "      <td>...</td>\n",
       "      <td>...</td>\n",
       "      <td>...</td>\n",
       "      <td>...</td>\n",
       "      <td>...</td>\n",
       "      <td>...</td>\n",
       "      <td>...</td>\n",
       "      <td>...</td>\n",
       "      <td>...</td>\n",
       "      <td>...</td>\n",
       "    </tr>\n",
       "    <tr>\n",
       "      <th>16-07005L</th>\n",
       "      <td>13.885325</td>\n",
       "      <td>85.987167</td>\n",
       "      <td>0.127507</td>\n",
       "      <td>4.064236</td>\n",
       "      <td>28.766257</td>\n",
       "      <td>67.169507</td>\n",
       "      <td>22.313470</td>\n",
       "      <td>77.686530</td>\n",
       "      <td>0.000000</td>\n",
       "      <td>49.303794</td>\n",
       "      <td>...</td>\n",
       "      <td>0.051044</td>\n",
       "      <td>13.353397</td>\n",
       "      <td>26.948323</td>\n",
       "      <td>59.698280</td>\n",
       "      <td>54.259442</td>\n",
       "      <td>39.046257</td>\n",
       "      <td>6.694301</td>\n",
       "      <td>43.178399</td>\n",
       "      <td>29.974942</td>\n",
       "      <td>26.846658</td>\n",
       "    </tr>\n",
       "    <tr>\n",
       "      <th>16-07005L</th>\n",
       "      <td>3.160513</td>\n",
       "      <td>96.839487</td>\n",
       "      <td>0.000000</td>\n",
       "      <td>0.078481</td>\n",
       "      <td>50.226844</td>\n",
       "      <td>49.694675</td>\n",
       "      <td>9.394484</td>\n",
       "      <td>90.605516</td>\n",
       "      <td>0.000000</td>\n",
       "      <td>35.031517</td>\n",
       "      <td>...</td>\n",
       "      <td>0.072019</td>\n",
       "      <td>24.297553</td>\n",
       "      <td>38.410867</td>\n",
       "      <td>37.291579</td>\n",
       "      <td>77.369559</td>\n",
       "      <td>21.922964</td>\n",
       "      <td>0.707477</td>\n",
       "      <td>42.100681</td>\n",
       "      <td>44.934842</td>\n",
       "      <td>12.964477</td>\n",
       "    </tr>\n",
       "    <tr>\n",
       "      <th>16-07005L</th>\n",
       "      <td>0.000000</td>\n",
       "      <td>100.000000</td>\n",
       "      <td>0.000000</td>\n",
       "      <td>0.000000</td>\n",
       "      <td>97.543956</td>\n",
       "      <td>2.456044</td>\n",
       "      <td>0.000000</td>\n",
       "      <td>100.000000</td>\n",
       "      <td>0.000000</td>\n",
       "      <td>1.476988</td>\n",
       "      <td>...</td>\n",
       "      <td>0.401545</td>\n",
       "      <td>54.930540</td>\n",
       "      <td>37.200052</td>\n",
       "      <td>7.869408</td>\n",
       "      <td>87.390022</td>\n",
       "      <td>12.551360</td>\n",
       "      <td>0.058617</td>\n",
       "      <td>28.508801</td>\n",
       "      <td>66.254293</td>\n",
       "      <td>5.236905</td>\n",
       "    </tr>\n",
       "    <tr>\n",
       "      <th>16-07005L</th>\n",
       "      <td>0.000000</td>\n",
       "      <td>100.000000</td>\n",
       "      <td>0.000000</td>\n",
       "      <td>0.000000</td>\n",
       "      <td>100.000000</td>\n",
       "      <td>0.000000</td>\n",
       "      <td>0.000000</td>\n",
       "      <td>100.000000</td>\n",
       "      <td>0.000000</td>\n",
       "      <td>0.000000</td>\n",
       "      <td>...</td>\n",
       "      <td>0.051946</td>\n",
       "      <td>52.442670</td>\n",
       "      <td>46.329246</td>\n",
       "      <td>1.228084</td>\n",
       "      <td>75.690081</td>\n",
       "      <td>22.626269</td>\n",
       "      <td>1.683650</td>\n",
       "      <td>32.011288</td>\n",
       "      <td>54.262871</td>\n",
       "      <td>13.725841</td>\n",
       "    </tr>\n",
       "    <tr>\n",
       "      <th>16-07005L</th>\n",
       "      <td>0.000000</td>\n",
       "      <td>100.000000</td>\n",
       "      <td>0.000000</td>\n",
       "      <td>0.000000</td>\n",
       "      <td>100.000000</td>\n",
       "      <td>0.000000</td>\n",
       "      <td>0.000000</td>\n",
       "      <td>100.000000</td>\n",
       "      <td>0.000000</td>\n",
       "      <td>0.000000</td>\n",
       "      <td>...</td>\n",
       "      <td>0.243187</td>\n",
       "      <td>31.917140</td>\n",
       "      <td>58.585021</td>\n",
       "      <td>9.497839</td>\n",
       "      <td>69.626431</td>\n",
       "      <td>28.710213</td>\n",
       "      <td>1.663356</td>\n",
       "      <td>65.193358</td>\n",
       "      <td>26.927482</td>\n",
       "      <td>7.879160</td>\n",
       "    </tr>\n",
       "  </tbody>\n",
       "</table>\n",
       "<p>64 rows × 144 columns</p>\n",
       "</div>"
      ],
      "text/plain": [
       "           MedialCortical_STD_75Above Threshold  \\\n",
       "16-03079L                              0.000000   \n",
       "16-03079L                              5.761448   \n",
       "16-03079L                              5.905381   \n",
       "16-03079L                             20.743416   \n",
       "16-03079L                              8.398480   \n",
       "...                                         ...   \n",
       "16-07005L                             13.885325   \n",
       "16-07005L                              3.160513   \n",
       "16-07005L                              0.000000   \n",
       "16-07005L                              0.000000   \n",
       "16-07005L                              0.000000   \n",
       "\n",
       "           MedialCortical_STD_75Within Threshold  \\\n",
       "16-03079L                              46.761542   \n",
       "16-03079L                              68.057348   \n",
       "16-03079L                              87.195782   \n",
       "16-03079L                              79.256584   \n",
       "16-03079L                              91.601520   \n",
       "...                                          ...   \n",
       "16-07005L                              85.987167   \n",
       "16-07005L                              96.839487   \n",
       "16-07005L                             100.000000   \n",
       "16-07005L                             100.000000   \n",
       "16-07005L                             100.000000   \n",
       "\n",
       "           MedialCortical_STD_75Below Threshold  \\\n",
       "16-03079L                             53.238458   \n",
       "16-03079L                             26.181204   \n",
       "16-03079L                              6.898837   \n",
       "16-03079L                              0.000000   \n",
       "16-03079L                              0.000000   \n",
       "...                                         ...   \n",
       "16-07005L                              0.127507   \n",
       "16-07005L                              0.000000   \n",
       "16-07005L                              0.000000   \n",
       "16-07005L                              0.000000   \n",
       "16-07005L                              0.000000   \n",
       "\n",
       "           LateralCortical_STD_75Above Threshold  \\\n",
       "16-03079L                               6.353945   \n",
       "16-03079L                               0.439695   \n",
       "16-03079L                               0.000000   \n",
       "16-03079L                               0.000000   \n",
       "16-03079L                               0.000000   \n",
       "...                                          ...   \n",
       "16-07005L                               4.064236   \n",
       "16-07005L                               0.078481   \n",
       "16-07005L                               0.000000   \n",
       "16-07005L                               0.000000   \n",
       "16-07005L                               0.000000   \n",
       "\n",
       "           LateralCortical_STD_75Within Threshold  \\\n",
       "16-03079L                               24.249616   \n",
       "16-03079L                               64.337635   \n",
       "16-03079L                               93.299978   \n",
       "16-03079L                               87.703136   \n",
       "16-03079L                               99.045054   \n",
       "...                                           ...   \n",
       "16-07005L                               28.766257   \n",
       "16-07005L                               50.226844   \n",
       "16-07005L                               97.543956   \n",
       "16-07005L                              100.000000   \n",
       "16-07005L                              100.000000   \n",
       "\n",
       "           LateralCortical_STD_75Below Threshold  \\\n",
       "16-03079L                              69.396439   \n",
       "16-03079L                              35.222670   \n",
       "16-03079L                               6.700022   \n",
       "16-03079L                              12.296864   \n",
       "16-03079L                               0.954946   \n",
       "...                                          ...   \n",
       "16-07005L                              67.169507   \n",
       "16-07005L                              49.694675   \n",
       "16-07005L                               2.456044   \n",
       "16-07005L                               0.000000   \n",
       "16-07005L                               0.000000   \n",
       "\n",
       "           AnteriorCortical_STD_75Above Threshold  \\\n",
       "16-03079L                               13.866700   \n",
       "16-03079L                               10.558104   \n",
       "16-03079L                                0.000000   \n",
       "16-03079L                                0.000000   \n",
       "16-03079L                                0.000000   \n",
       "...                                           ...   \n",
       "16-07005L                               22.313470   \n",
       "16-07005L                                9.394484   \n",
       "16-07005L                                0.000000   \n",
       "16-07005L                                0.000000   \n",
       "16-07005L                                0.000000   \n",
       "\n",
       "           AnteriorCortical_STD_75Within Threshold  \\\n",
       "16-03079L                                32.025012   \n",
       "16-03079L                                80.007540   \n",
       "16-03079L                               100.000000   \n",
       "16-03079L                                99.044086   \n",
       "16-03079L                                99.862362   \n",
       "...                                            ...   \n",
       "16-07005L                                77.686530   \n",
       "16-07005L                                90.605516   \n",
       "16-07005L                               100.000000   \n",
       "16-07005L                               100.000000   \n",
       "16-07005L                               100.000000   \n",
       "\n",
       "           AnteriorCortical_STD_75Below Threshold  \\\n",
       "16-03079L                               54.108287   \n",
       "16-03079L                                9.434357   \n",
       "16-03079L                                0.000000   \n",
       "16-03079L                                0.955914   \n",
       "16-03079L                                0.137638   \n",
       "...                                           ...   \n",
       "16-07005L                                0.000000   \n",
       "16-07005L                                0.000000   \n",
       "16-07005L                                0.000000   \n",
       "16-07005L                                0.000000   \n",
       "16-07005L                                0.000000   \n",
       "\n",
       "           PosteriorCortical_STD_75Above Threshold  ...  \\\n",
       "16-03079L                                22.620979  ...   \n",
       "16-03079L                                25.561475  ...   \n",
       "16-03079L                                24.315519  ...   \n",
       "16-03079L                                 1.144955  ...   \n",
       "16-03079L                                 0.000000  ...   \n",
       "...                                            ...  ...   \n",
       "16-07005L                                49.303794  ...   \n",
       "16-07005L                                35.031517  ...   \n",
       "16-07005L                                 1.476988  ...   \n",
       "16-07005L                                 0.000000  ...   \n",
       "16-07005L                                 0.000000  ...   \n",
       "\n",
       "           MedialTrabecular_INF_45Below Threshold  \\\n",
       "16-03079L                               50.865813   \n",
       "16-03079L                               13.918417   \n",
       "16-03079L                                0.749219   \n",
       "16-03079L                                0.177986   \n",
       "16-03079L                                0.748644   \n",
       "...                                           ...   \n",
       "16-07005L                                0.051044   \n",
       "16-07005L                                0.072019   \n",
       "16-07005L                                0.401545   \n",
       "16-07005L                                0.051946   \n",
       "16-07005L                                0.243187   \n",
       "\n",
       "           LateralTrabecular_INF_45Above Threshold  \\\n",
       "16-03079L                                52.246186   \n",
       "16-03079L                                34.989272   \n",
       "16-03079L                                16.646580   \n",
       "16-03079L                                18.729699   \n",
       "16-03079L                                46.859156   \n",
       "...                                            ...   \n",
       "16-07005L                                13.353397   \n",
       "16-07005L                                24.297553   \n",
       "16-07005L                                54.930540   \n",
       "16-07005L                                52.442670   \n",
       "16-07005L                                31.917140   \n",
       "\n",
       "           LateralTrabecular_INF_45Within Threshold  \\\n",
       "16-03079L                                 20.587586   \n",
       "16-03079L                                 18.360180   \n",
       "16-03079L                                 24.794460   \n",
       "16-03079L                                 32.623988   \n",
       "16-03079L                                 33.407487   \n",
       "...                                             ...   \n",
       "16-07005L                                 26.948323   \n",
       "16-07005L                                 38.410867   \n",
       "16-07005L                                 37.200052   \n",
       "16-07005L                                 46.329246   \n",
       "16-07005L                                 58.585021   \n",
       "\n",
       "           LateralTrabecular_INF_45Below Threshold  \\\n",
       "16-03079L                                27.166228   \n",
       "16-03079L                                46.650548   \n",
       "16-03079L                                58.558960   \n",
       "16-03079L                                48.646312   \n",
       "16-03079L                                19.733356   \n",
       "...                                            ...   \n",
       "16-07005L                                59.698280   \n",
       "16-07005L                                37.291579   \n",
       "16-07005L                                 7.869408   \n",
       "16-07005L                                 1.228084   \n",
       "16-07005L                                 9.497839   \n",
       "\n",
       "           AnteriorTrabecular_INF_45Above Threshold  \\\n",
       "16-03079L                                 55.789903   \n",
       "16-03079L                                 53.603064   \n",
       "16-03079L                                 48.965748   \n",
       "16-03079L                                 67.819558   \n",
       "16-03079L                                 82.722982   \n",
       "...                                             ...   \n",
       "16-07005L                                 54.259442   \n",
       "16-07005L                                 77.369559   \n",
       "16-07005L                                 87.390022   \n",
       "16-07005L                                 75.690081   \n",
       "16-07005L                                 69.626431   \n",
       "\n",
       "           AnteriorTrabecular_INF_45Within Threshold  \\\n",
       "16-03079L                                  16.589571   \n",
       "16-03079L                                  21.202750   \n",
       "16-03079L                                  29.186980   \n",
       "16-03079L                                  26.585153   \n",
       "16-03079L                                  16.552682   \n",
       "...                                              ...   \n",
       "16-07005L                                  39.046257   \n",
       "16-07005L                                  21.922964   \n",
       "16-07005L                                  12.551360   \n",
       "16-07005L                                  22.626269   \n",
       "16-07005L                                  28.710213   \n",
       "\n",
       "           AnteriorTrabecular_INF_45Below Threshold  \\\n",
       "16-03079L                                 27.620526   \n",
       "16-03079L                                 25.194186   \n",
       "16-03079L                                 21.847272   \n",
       "16-03079L                                  5.595289   \n",
       "16-03079L                                  0.724337   \n",
       "...                                             ...   \n",
       "16-07005L                                  6.694301   \n",
       "16-07005L                                  0.707477   \n",
       "16-07005L                                  0.058617   \n",
       "16-07005L                                  1.683650   \n",
       "16-07005L                                  1.663356   \n",
       "\n",
       "           PosteriorTrabecular_INF_45Above Threshold  \\\n",
       "16-03079L                                  69.151274   \n",
       "16-03079L                                  60.553066   \n",
       "16-03079L                                  50.679158   \n",
       "16-03079L                                  56.955914   \n",
       "16-03079L                                  51.682162   \n",
       "...                                              ...   \n",
       "16-07005L                                  43.178399   \n",
       "16-07005L                                  42.100681   \n",
       "16-07005L                                  28.508801   \n",
       "16-07005L                                  32.011288   \n",
       "16-07005L                                  65.193358   \n",
       "\n",
       "           PosteriorTrabecular_INF_45Within Threshold  \\\n",
       "16-03079L                                   15.592628   \n",
       "16-03079L                                   18.987959   \n",
       "16-03079L                                   26.561509   \n",
       "16-03079L                                   28.736756   \n",
       "16-03079L                                   44.606059   \n",
       "...                                               ...   \n",
       "16-07005L                                   29.974942   \n",
       "16-07005L                                   44.934842   \n",
       "16-07005L                                   66.254293   \n",
       "16-07005L                                   54.262871   \n",
       "16-07005L                                   26.927482   \n",
       "\n",
       "           PosteriorTrabecular_INF_45Below Threshold  \n",
       "16-03079L                                  15.256098  \n",
       "16-03079L                                  20.458975  \n",
       "16-03079L                                  22.759333  \n",
       "16-03079L                                  14.307330  \n",
       "16-03079L                                   3.711779  \n",
       "...                                              ...  \n",
       "16-07005L                                  26.846658  \n",
       "16-07005L                                  12.964477  \n",
       "16-07005L                                   5.236905  \n",
       "16-07005L                                  13.725841  \n",
       "16-07005L                                   7.879160  \n",
       "\n",
       "[64 rows x 144 columns]"
      ]
     },
     "execution_count": 121,
     "metadata": {},
     "output_type": "execute_result"
    }
   ],
   "source": [
    "df"
   ]
  },
  {
   "cell_type": "code",
   "execution_count": 122,
   "metadata": {},
   "outputs": [],
   "source": [
    "# add in depth to both\n",
    "df_cat.insert(0,'depth',(['0-5','5-10','10-15','15-20','20-25','25-30','30-35','35-40']*8))\n",
    "df.insert(0,'depth',(['0-5','5-10','10-15','15-20','20-25','25-30','30-35','35-40']*8))"
   ]
  },
  {
   "cell_type": "code",
   "execution_count": 123,
   "metadata": {},
   "outputs": [],
   "source": [
    "# dataframe with only values above threshold, ie. remodelling\n",
    "df_a = df.filter(like='Above', axis=1)\n",
    "\n",
    "df_a75 = df_a.filter(like='75', axis=1) # remodelling, 75 degree loading scenario\n",
    "df_a45 = df_a.filter(like='45', axis=1) # remodelling, 45 degree loading scenario\n",
    "\n",
    "df_a45c = df_a45.filter(like='Cortical', axis=1)\n",
    "df_a45t = df_a45.filter(like='Trabecular', axis=1)\n",
    "\n",
    "\n"
   ]
  },
  {
   "cell_type": "markdown",
   "metadata": {},
   "source": [
    "The tuples in the dataframe are of the form (above,within,below)"
   ]
  },
  {
   "cell_type": "markdown",
   "metadata": {},
   "source": [
    "what if we were to combine all into one column with another column indicating position (medial, lateral, anterior, posterior) by the angle theta\n",
    "- medial (0)\n",
    "- anterior (90)\n",
    "- lateral (180)\n",
    "- posterior (270)"
   ]
  },
  {
   "cell_type": "code",
   "execution_count": 124,
   "metadata": {},
   "outputs": [
    {
     "data": {
      "text/html": [
       "<div>\n",
       "<style scoped>\n",
       "    .dataframe tbody tr th:only-of-type {\n",
       "        vertical-align: middle;\n",
       "    }\n",
       "\n",
       "    .dataframe tbody tr th {\n",
       "        vertical-align: top;\n",
       "    }\n",
       "\n",
       "    .dataframe thead th {\n",
       "        text-align: right;\n",
       "    }\n",
       "</style>\n",
       "<table border=\"1\" class=\"dataframe\">\n",
       "  <thead>\n",
       "    <tr style=\"text-align: right;\">\n",
       "      <th></th>\n",
       "      <th>specimen</th>\n",
       "      <th>depth</th>\n",
       "      <th>MedialCortical_STD_75Above Threshold</th>\n",
       "      <th>LateralCortical_STD_75Above Threshold</th>\n",
       "      <th>AnteriorCortical_STD_75Above Threshold</th>\n",
       "      <th>PosteriorCortical_STD_75Above Threshold</th>\n",
       "      <th>MedialCortical_STD_45Above Threshold</th>\n",
       "      <th>LateralCortical_STD_45Above Threshold</th>\n",
       "      <th>AnteriorCortical_STD_45Above Threshold</th>\n",
       "      <th>PosteriorCortical_STD_45Above Threshold</th>\n",
       "      <th>...</th>\n",
       "      <th>AnteriorCortical_INF_45Above Threshold</th>\n",
       "      <th>PosteriorCortical_INF_45Above Threshold</th>\n",
       "      <th>MedialTrabecular_INF_75Above Threshold</th>\n",
       "      <th>LateralTrabecular_INF_75Above Threshold</th>\n",
       "      <th>AnteriorTrabecular_INF_75Above Threshold</th>\n",
       "      <th>PosteriorTrabecular_INF_75Above Threshold</th>\n",
       "      <th>MedialTrabecular_INF_45Above Threshold</th>\n",
       "      <th>LateralTrabecular_INF_45Above Threshold</th>\n",
       "      <th>AnteriorTrabecular_INF_45Above Threshold</th>\n",
       "      <th>PosteriorTrabecular_INF_45Above Threshold</th>\n",
       "    </tr>\n",
       "  </thead>\n",
       "  <tbody>\n",
       "    <tr>\n",
       "      <th>0</th>\n",
       "      <td>16-03079L</td>\n",
       "      <td>0-5</td>\n",
       "      <td>0.000000</td>\n",
       "      <td>6.353945</td>\n",
       "      <td>13.866700</td>\n",
       "      <td>22.620979</td>\n",
       "      <td>0.000000</td>\n",
       "      <td>7.099514</td>\n",
       "      <td>13.643281</td>\n",
       "      <td>22.908938</td>\n",
       "      <td>...</td>\n",
       "      <td>23.089009</td>\n",
       "      <td>33.831433</td>\n",
       "      <td>15.592777</td>\n",
       "      <td>48.203381</td>\n",
       "      <td>54.145154</td>\n",
       "      <td>66.091340</td>\n",
       "      <td>16.371786</td>\n",
       "      <td>52.246186</td>\n",
       "      <td>55.789903</td>\n",
       "      <td>69.151274</td>\n",
       "    </tr>\n",
       "    <tr>\n",
       "      <th>1</th>\n",
       "      <td>16-03079L</td>\n",
       "      <td>5-10</td>\n",
       "      <td>5.761448</td>\n",
       "      <td>0.439695</td>\n",
       "      <td>10.558104</td>\n",
       "      <td>25.561475</td>\n",
       "      <td>5.099936</td>\n",
       "      <td>0.557003</td>\n",
       "      <td>11.173855</td>\n",
       "      <td>25.540399</td>\n",
       "      <td>...</td>\n",
       "      <td>22.485279</td>\n",
       "      <td>34.629570</td>\n",
       "      <td>61.328225</td>\n",
       "      <td>32.386089</td>\n",
       "      <td>51.793915</td>\n",
       "      <td>58.225470</td>\n",
       "      <td>59.941773</td>\n",
       "      <td>34.989272</td>\n",
       "      <td>53.603064</td>\n",
       "      <td>60.553066</td>\n",
       "    </tr>\n",
       "    <tr>\n",
       "      <th>2</th>\n",
       "      <td>16-03079L</td>\n",
       "      <td>10-15</td>\n",
       "      <td>5.905381</td>\n",
       "      <td>0.000000</td>\n",
       "      <td>0.000000</td>\n",
       "      <td>24.315519</td>\n",
       "      <td>9.232230</td>\n",
       "      <td>0.208259</td>\n",
       "      <td>0.000000</td>\n",
       "      <td>22.822767</td>\n",
       "      <td>...</td>\n",
       "      <td>30.227569</td>\n",
       "      <td>38.172387</td>\n",
       "      <td>93.294634</td>\n",
       "      <td>15.796329</td>\n",
       "      <td>48.367927</td>\n",
       "      <td>48.988177</td>\n",
       "      <td>93.187400</td>\n",
       "      <td>16.646580</td>\n",
       "      <td>48.965748</td>\n",
       "      <td>50.679158</td>\n",
       "    </tr>\n",
       "    <tr>\n",
       "      <th>3</th>\n",
       "      <td>16-03079L</td>\n",
       "      <td>15-20</td>\n",
       "      <td>20.743416</td>\n",
       "      <td>0.000000</td>\n",
       "      <td>0.000000</td>\n",
       "      <td>1.144955</td>\n",
       "      <td>19.490510</td>\n",
       "      <td>0.000000</td>\n",
       "      <td>0.000000</td>\n",
       "      <td>0.670150</td>\n",
       "      <td>...</td>\n",
       "      <td>43.769797</td>\n",
       "      <td>55.587414</td>\n",
       "      <td>91.468817</td>\n",
       "      <td>17.966959</td>\n",
       "      <td>67.431043</td>\n",
       "      <td>56.845530</td>\n",
       "      <td>91.216252</td>\n",
       "      <td>18.729699</td>\n",
       "      <td>67.819558</td>\n",
       "      <td>56.955914</td>\n",
       "    </tr>\n",
       "    <tr>\n",
       "      <th>4</th>\n",
       "      <td>16-03079L</td>\n",
       "      <td>20-25</td>\n",
       "      <td>8.398480</td>\n",
       "      <td>0.000000</td>\n",
       "      <td>0.000000</td>\n",
       "      <td>0.000000</td>\n",
       "      <td>3.715353</td>\n",
       "      <td>0.000000</td>\n",
       "      <td>0.000000</td>\n",
       "      <td>0.000000</td>\n",
       "      <td>...</td>\n",
       "      <td>32.859481</td>\n",
       "      <td>55.657700</td>\n",
       "      <td>85.581637</td>\n",
       "      <td>44.940943</td>\n",
       "      <td>83.032930</td>\n",
       "      <td>50.185264</td>\n",
       "      <td>85.247289</td>\n",
       "      <td>46.859156</td>\n",
       "      <td>82.722982</td>\n",
       "      <td>51.682162</td>\n",
       "    </tr>\n",
       "    <tr>\n",
       "      <th>...</th>\n",
       "      <td>...</td>\n",
       "      <td>...</td>\n",
       "      <td>...</td>\n",
       "      <td>...</td>\n",
       "      <td>...</td>\n",
       "      <td>...</td>\n",
       "      <td>...</td>\n",
       "      <td>...</td>\n",
       "      <td>...</td>\n",
       "      <td>...</td>\n",
       "      <td>...</td>\n",
       "      <td>...</td>\n",
       "      <td>...</td>\n",
       "      <td>...</td>\n",
       "      <td>...</td>\n",
       "      <td>...</td>\n",
       "      <td>...</td>\n",
       "      <td>...</td>\n",
       "      <td>...</td>\n",
       "      <td>...</td>\n",
       "      <td>...</td>\n",
       "    </tr>\n",
       "    <tr>\n",
       "      <th>59</th>\n",
       "      <td>16-07005L</td>\n",
       "      <td>15-20</td>\n",
       "      <td>13.885325</td>\n",
       "      <td>4.064236</td>\n",
       "      <td>22.313470</td>\n",
       "      <td>49.303794</td>\n",
       "      <td>26.908796</td>\n",
       "      <td>5.844891</td>\n",
       "      <td>40.511208</td>\n",
       "      <td>35.383299</td>\n",
       "      <td>...</td>\n",
       "      <td>80.859891</td>\n",
       "      <td>43.450028</td>\n",
       "      <td>90.959114</td>\n",
       "      <td>12.661493</td>\n",
       "      <td>51.940718</td>\n",
       "      <td>43.215121</td>\n",
       "      <td>91.877380</td>\n",
       "      <td>13.353397</td>\n",
       "      <td>54.259442</td>\n",
       "      <td>43.178399</td>\n",
       "    </tr>\n",
       "    <tr>\n",
       "      <th>60</th>\n",
       "      <td>16-07005L</td>\n",
       "      <td>20-25</td>\n",
       "      <td>3.160513</td>\n",
       "      <td>0.078481</td>\n",
       "      <td>9.394484</td>\n",
       "      <td>35.031517</td>\n",
       "      <td>11.567045</td>\n",
       "      <td>1.488371</td>\n",
       "      <td>14.830539</td>\n",
       "      <td>2.309959</td>\n",
       "      <td>...</td>\n",
       "      <td>57.102142</td>\n",
       "      <td>44.041691</td>\n",
       "      <td>87.663643</td>\n",
       "      <td>22.507343</td>\n",
       "      <td>74.107678</td>\n",
       "      <td>38.599869</td>\n",
       "      <td>88.070801</td>\n",
       "      <td>24.297553</td>\n",
       "      <td>77.369559</td>\n",
       "      <td>42.100681</td>\n",
       "    </tr>\n",
       "    <tr>\n",
       "      <th>61</th>\n",
       "      <td>16-07005L</td>\n",
       "      <td>25-30</td>\n",
       "      <td>0.000000</td>\n",
       "      <td>0.000000</td>\n",
       "      <td>0.000000</td>\n",
       "      <td>1.476988</td>\n",
       "      <td>0.806979</td>\n",
       "      <td>0.394381</td>\n",
       "      <td>0.000000</td>\n",
       "      <td>0.000000</td>\n",
       "      <td>...</td>\n",
       "      <td>1.990860</td>\n",
       "      <td>33.046434</td>\n",
       "      <td>83.752043</td>\n",
       "      <td>49.415945</td>\n",
       "      <td>84.462480</td>\n",
       "      <td>27.981007</td>\n",
       "      <td>83.984966</td>\n",
       "      <td>54.930540</td>\n",
       "      <td>87.390022</td>\n",
       "      <td>28.508801</td>\n",
       "    </tr>\n",
       "    <tr>\n",
       "      <th>62</th>\n",
       "      <td>16-07005L</td>\n",
       "      <td>30-35</td>\n",
       "      <td>0.000000</td>\n",
       "      <td>0.000000</td>\n",
       "      <td>0.000000</td>\n",
       "      <td>0.000000</td>\n",
       "      <td>0.000000</td>\n",
       "      <td>0.000000</td>\n",
       "      <td>0.000000</td>\n",
       "      <td>0.000000</td>\n",
       "      <td>...</td>\n",
       "      <td>0.000000</td>\n",
       "      <td>8.654039</td>\n",
       "      <td>78.982816</td>\n",
       "      <td>47.743926</td>\n",
       "      <td>73.339098</td>\n",
       "      <td>34.230113</td>\n",
       "      <td>78.653599</td>\n",
       "      <td>52.442670</td>\n",
       "      <td>75.690081</td>\n",
       "      <td>32.011288</td>\n",
       "    </tr>\n",
       "    <tr>\n",
       "      <th>63</th>\n",
       "      <td>16-07005L</td>\n",
       "      <td>35-40</td>\n",
       "      <td>0.000000</td>\n",
       "      <td>0.000000</td>\n",
       "      <td>0.000000</td>\n",
       "      <td>0.000000</td>\n",
       "      <td>0.000000</td>\n",
       "      <td>0.000000</td>\n",
       "      <td>0.000000</td>\n",
       "      <td>0.000000</td>\n",
       "      <td>...</td>\n",
       "      <td>0.000000</td>\n",
       "      <td>0.000000</td>\n",
       "      <td>67.293306</td>\n",
       "      <td>31.500041</td>\n",
       "      <td>69.494319</td>\n",
       "      <td>68.313342</td>\n",
       "      <td>66.979906</td>\n",
       "      <td>31.917140</td>\n",
       "      <td>69.626431</td>\n",
       "      <td>65.193358</td>\n",
       "    </tr>\n",
       "  </tbody>\n",
       "</table>\n",
       "<p>64 rows × 50 columns</p>\n",
       "</div>"
      ],
      "text/plain": [
       "     specimen  depth  MedialCortical_STD_75Above Threshold  \\\n",
       "0   16-03079L    0-5                              0.000000   \n",
       "1   16-03079L   5-10                              5.761448   \n",
       "2   16-03079L  10-15                              5.905381   \n",
       "3   16-03079L  15-20                             20.743416   \n",
       "4   16-03079L  20-25                              8.398480   \n",
       "..        ...    ...                                   ...   \n",
       "59  16-07005L  15-20                             13.885325   \n",
       "60  16-07005L  20-25                              3.160513   \n",
       "61  16-07005L  25-30                              0.000000   \n",
       "62  16-07005L  30-35                              0.000000   \n",
       "63  16-07005L  35-40                              0.000000   \n",
       "\n",
       "    LateralCortical_STD_75Above Threshold  \\\n",
       "0                                6.353945   \n",
       "1                                0.439695   \n",
       "2                                0.000000   \n",
       "3                                0.000000   \n",
       "4                                0.000000   \n",
       "..                                    ...   \n",
       "59                               4.064236   \n",
       "60                               0.078481   \n",
       "61                               0.000000   \n",
       "62                               0.000000   \n",
       "63                               0.000000   \n",
       "\n",
       "    AnteriorCortical_STD_75Above Threshold  \\\n",
       "0                                13.866700   \n",
       "1                                10.558104   \n",
       "2                                 0.000000   \n",
       "3                                 0.000000   \n",
       "4                                 0.000000   \n",
       "..                                     ...   \n",
       "59                               22.313470   \n",
       "60                                9.394484   \n",
       "61                                0.000000   \n",
       "62                                0.000000   \n",
       "63                                0.000000   \n",
       "\n",
       "    PosteriorCortical_STD_75Above Threshold  \\\n",
       "0                                 22.620979   \n",
       "1                                 25.561475   \n",
       "2                                 24.315519   \n",
       "3                                  1.144955   \n",
       "4                                  0.000000   \n",
       "..                                      ...   \n",
       "59                                49.303794   \n",
       "60                                35.031517   \n",
       "61                                 1.476988   \n",
       "62                                 0.000000   \n",
       "63                                 0.000000   \n",
       "\n",
       "    MedialCortical_STD_45Above Threshold  \\\n",
       "0                               0.000000   \n",
       "1                               5.099936   \n",
       "2                               9.232230   \n",
       "3                              19.490510   \n",
       "4                               3.715353   \n",
       "..                                   ...   \n",
       "59                             26.908796   \n",
       "60                             11.567045   \n",
       "61                              0.806979   \n",
       "62                              0.000000   \n",
       "63                              0.000000   \n",
       "\n",
       "    LateralCortical_STD_45Above Threshold  \\\n",
       "0                                7.099514   \n",
       "1                                0.557003   \n",
       "2                                0.208259   \n",
       "3                                0.000000   \n",
       "4                                0.000000   \n",
       "..                                    ...   \n",
       "59                               5.844891   \n",
       "60                               1.488371   \n",
       "61                               0.394381   \n",
       "62                               0.000000   \n",
       "63                               0.000000   \n",
       "\n",
       "    AnteriorCortical_STD_45Above Threshold  \\\n",
       "0                                13.643281   \n",
       "1                                11.173855   \n",
       "2                                 0.000000   \n",
       "3                                 0.000000   \n",
       "4                                 0.000000   \n",
       "..                                     ...   \n",
       "59                               40.511208   \n",
       "60                               14.830539   \n",
       "61                                0.000000   \n",
       "62                                0.000000   \n",
       "63                                0.000000   \n",
       "\n",
       "    PosteriorCortical_STD_45Above Threshold  ...  \\\n",
       "0                                 22.908938  ...   \n",
       "1                                 25.540399  ...   \n",
       "2                                 22.822767  ...   \n",
       "3                                  0.670150  ...   \n",
       "4                                  0.000000  ...   \n",
       "..                                      ...  ...   \n",
       "59                                35.383299  ...   \n",
       "60                                 2.309959  ...   \n",
       "61                                 0.000000  ...   \n",
       "62                                 0.000000  ...   \n",
       "63                                 0.000000  ...   \n",
       "\n",
       "    AnteriorCortical_INF_45Above Threshold  \\\n",
       "0                                23.089009   \n",
       "1                                22.485279   \n",
       "2                                30.227569   \n",
       "3                                43.769797   \n",
       "4                                32.859481   \n",
       "..                                     ...   \n",
       "59                               80.859891   \n",
       "60                               57.102142   \n",
       "61                                1.990860   \n",
       "62                                0.000000   \n",
       "63                                0.000000   \n",
       "\n",
       "    PosteriorCortical_INF_45Above Threshold  \\\n",
       "0                                 33.831433   \n",
       "1                                 34.629570   \n",
       "2                                 38.172387   \n",
       "3                                 55.587414   \n",
       "4                                 55.657700   \n",
       "..                                      ...   \n",
       "59                                43.450028   \n",
       "60                                44.041691   \n",
       "61                                33.046434   \n",
       "62                                 8.654039   \n",
       "63                                 0.000000   \n",
       "\n",
       "    MedialTrabecular_INF_75Above Threshold  \\\n",
       "0                                15.592777   \n",
       "1                                61.328225   \n",
       "2                                93.294634   \n",
       "3                                91.468817   \n",
       "4                                85.581637   \n",
       "..                                     ...   \n",
       "59                               90.959114   \n",
       "60                               87.663643   \n",
       "61                               83.752043   \n",
       "62                               78.982816   \n",
       "63                               67.293306   \n",
       "\n",
       "    LateralTrabecular_INF_75Above Threshold  \\\n",
       "0                                 48.203381   \n",
       "1                                 32.386089   \n",
       "2                                 15.796329   \n",
       "3                                 17.966959   \n",
       "4                                 44.940943   \n",
       "..                                      ...   \n",
       "59                                12.661493   \n",
       "60                                22.507343   \n",
       "61                                49.415945   \n",
       "62                                47.743926   \n",
       "63                                31.500041   \n",
       "\n",
       "    AnteriorTrabecular_INF_75Above Threshold  \\\n",
       "0                                  54.145154   \n",
       "1                                  51.793915   \n",
       "2                                  48.367927   \n",
       "3                                  67.431043   \n",
       "4                                  83.032930   \n",
       "..                                       ...   \n",
       "59                                 51.940718   \n",
       "60                                 74.107678   \n",
       "61                                 84.462480   \n",
       "62                                 73.339098   \n",
       "63                                 69.494319   \n",
       "\n",
       "    PosteriorTrabecular_INF_75Above Threshold  \\\n",
       "0                                   66.091340   \n",
       "1                                   58.225470   \n",
       "2                                   48.988177   \n",
       "3                                   56.845530   \n",
       "4                                   50.185264   \n",
       "..                                        ...   \n",
       "59                                  43.215121   \n",
       "60                                  38.599869   \n",
       "61                                  27.981007   \n",
       "62                                  34.230113   \n",
       "63                                  68.313342   \n",
       "\n",
       "    MedialTrabecular_INF_45Above Threshold  \\\n",
       "0                                16.371786   \n",
       "1                                59.941773   \n",
       "2                                93.187400   \n",
       "3                                91.216252   \n",
       "4                                85.247289   \n",
       "..                                     ...   \n",
       "59                               91.877380   \n",
       "60                               88.070801   \n",
       "61                               83.984966   \n",
       "62                               78.653599   \n",
       "63                               66.979906   \n",
       "\n",
       "    LateralTrabecular_INF_45Above Threshold  \\\n",
       "0                                 52.246186   \n",
       "1                                 34.989272   \n",
       "2                                 16.646580   \n",
       "3                                 18.729699   \n",
       "4                                 46.859156   \n",
       "..                                      ...   \n",
       "59                                13.353397   \n",
       "60                                24.297553   \n",
       "61                                54.930540   \n",
       "62                                52.442670   \n",
       "63                                31.917140   \n",
       "\n",
       "    AnteriorTrabecular_INF_45Above Threshold  \\\n",
       "0                                  55.789903   \n",
       "1                                  53.603064   \n",
       "2                                  48.965748   \n",
       "3                                  67.819558   \n",
       "4                                  82.722982   \n",
       "..                                       ...   \n",
       "59                                 54.259442   \n",
       "60                                 77.369559   \n",
       "61                                 87.390022   \n",
       "62                                 75.690081   \n",
       "63                                 69.626431   \n",
       "\n",
       "    PosteriorTrabecular_INF_45Above Threshold  \n",
       "0                                   69.151274  \n",
       "1                                   60.553066  \n",
       "2                                   50.679158  \n",
       "3                                   56.955914  \n",
       "4                                   51.682162  \n",
       "..                                        ...  \n",
       "59                                  43.178399  \n",
       "60                                  42.100681  \n",
       "61                                  28.508801  \n",
       "62                                  32.011288  \n",
       "63                                  65.193358  \n",
       "\n",
       "[64 rows x 50 columns]"
      ]
     },
     "execution_count": 124,
     "metadata": {},
     "output_type": "execute_result"
    }
   ],
   "source": [
    "df_a = df_a.reset_index()\n",
    "df_a = df_a.rename({'index':'specimen'},axis=1)\n",
    "df_a.insert(1,'depth',(['0-5','5-10','10-15','15-20','20-25','25-30','30-35','35-40']*8))\n",
    "df_a"
   ]
  },
  {
   "cell_type": "code",
   "execution_count": 125,
   "metadata": {},
   "outputs": [],
   "source": [
    "# sort must be false or 5-10 will be put to the end for no reason\n",
    "df_a = df_a.groupby('depth',sort=False).mean()\n",
    "\n"
   ]
  },
  {
   "cell_type": "code",
   "execution_count": 126,
   "metadata": {},
   "outputs": [
    {
     "data": {
      "text/html": [
       "<div>\n",
       "<style scoped>\n",
       "    .dataframe tbody tr th:only-of-type {\n",
       "        vertical-align: middle;\n",
       "    }\n",
       "\n",
       "    .dataframe tbody tr th {\n",
       "        vertical-align: top;\n",
       "    }\n",
       "\n",
       "    .dataframe thead th {\n",
       "        text-align: right;\n",
       "    }\n",
       "</style>\n",
       "<table border=\"1\" class=\"dataframe\">\n",
       "  <thead>\n",
       "    <tr style=\"text-align: right;\">\n",
       "      <th></th>\n",
       "      <th>depth</th>\n",
       "      <th>id</th>\n",
       "      <th>resorb_pct</th>\n",
       "    </tr>\n",
       "  </thead>\n",
       "  <tbody>\n",
       "    <tr>\n",
       "      <th>0</th>\n",
       "      <td>0-5</td>\n",
       "      <td>MedialCortical_STD_75Above Threshold</td>\n",
       "      <td>0.285905</td>\n",
       "    </tr>\n",
       "    <tr>\n",
       "      <th>1</th>\n",
       "      <td>0-5</td>\n",
       "      <td>LateralCortical_STD_75Above Threshold</td>\n",
       "      <td>0.975479</td>\n",
       "    </tr>\n",
       "    <tr>\n",
       "      <th>2</th>\n",
       "      <td>0-5</td>\n",
       "      <td>AnteriorCortical_STD_75Above Threshold</td>\n",
       "      <td>8.167807</td>\n",
       "    </tr>\n",
       "    <tr>\n",
       "      <th>3</th>\n",
       "      <td>0-5</td>\n",
       "      <td>PosteriorCortical_STD_75Above Threshold</td>\n",
       "      <td>13.262466</td>\n",
       "    </tr>\n",
       "    <tr>\n",
       "      <th>4</th>\n",
       "      <td>0-5</td>\n",
       "      <td>MedialCortical_STD_45Above Threshold</td>\n",
       "      <td>0.538013</td>\n",
       "    </tr>\n",
       "    <tr>\n",
       "      <th>...</th>\n",
       "      <td>...</td>\n",
       "      <td>...</td>\n",
       "      <td>...</td>\n",
       "    </tr>\n",
       "    <tr>\n",
       "      <th>379</th>\n",
       "      <td>35-40</td>\n",
       "      <td>PosteriorTrabecular_INF_75Above Threshold</td>\n",
       "      <td>46.981597</td>\n",
       "    </tr>\n",
       "    <tr>\n",
       "      <th>380</th>\n",
       "      <td>35-40</td>\n",
       "      <td>MedialTrabecular_INF_45Above Threshold</td>\n",
       "      <td>68.189305</td>\n",
       "    </tr>\n",
       "    <tr>\n",
       "      <th>381</th>\n",
       "      <td>35-40</td>\n",
       "      <td>LateralTrabecular_INF_45Above Threshold</td>\n",
       "      <td>39.750985</td>\n",
       "    </tr>\n",
       "    <tr>\n",
       "      <th>382</th>\n",
       "      <td>35-40</td>\n",
       "      <td>AnteriorTrabecular_INF_45Above Threshold</td>\n",
       "      <td>57.586857</td>\n",
       "    </tr>\n",
       "    <tr>\n",
       "      <th>383</th>\n",
       "      <td>35-40</td>\n",
       "      <td>PosteriorTrabecular_INF_45Above Threshold</td>\n",
       "      <td>45.263493</td>\n",
       "    </tr>\n",
       "  </tbody>\n",
       "</table>\n",
       "<p>384 rows × 3 columns</p>\n",
       "</div>"
      ],
      "text/plain": [
       "     depth                                         id  resorb_pct\n",
       "0      0-5       MedialCortical_STD_75Above Threshold    0.285905\n",
       "1      0-5      LateralCortical_STD_75Above Threshold    0.975479\n",
       "2      0-5     AnteriorCortical_STD_75Above Threshold    8.167807\n",
       "3      0-5    PosteriorCortical_STD_75Above Threshold   13.262466\n",
       "4      0-5       MedialCortical_STD_45Above Threshold    0.538013\n",
       "..     ...                                        ...         ...\n",
       "379  35-40  PosteriorTrabecular_INF_75Above Threshold   46.981597\n",
       "380  35-40     MedialTrabecular_INF_45Above Threshold   68.189305\n",
       "381  35-40    LateralTrabecular_INF_45Above Threshold   39.750985\n",
       "382  35-40   AnteriorTrabecular_INF_45Above Threshold   57.586857\n",
       "383  35-40  PosteriorTrabecular_INF_45Above Threshold   45.263493\n",
       "\n",
       "[384 rows x 3 columns]"
      ]
     },
     "execution_count": 126,
     "metadata": {},
     "output_type": "execute_result"
    }
   ],
   "source": [
    "s = df_a.stack()\n",
    "s = s.reset_index()\n",
    "s = s.rename(columns={'level_1':'id', 0:'resorb_pct'})\n",
    "s"
   ]
  },
  {
   "cell_type": "code",
   "execution_count": 127,
   "metadata": {},
   "outputs": [
    {
     "data": {
      "text/html": [
       "<div>\n",
       "<style scoped>\n",
       "    .dataframe tbody tr th:only-of-type {\n",
       "        vertical-align: middle;\n",
       "    }\n",
       "\n",
       "    .dataframe tbody tr th {\n",
       "        vertical-align: top;\n",
       "    }\n",
       "\n",
       "    .dataframe thead th {\n",
       "        text-align: right;\n",
       "    }\n",
       "</style>\n",
       "<table border=\"1\" class=\"dataframe\">\n",
       "  <thead>\n",
       "    <tr style=\"text-align: right;\">\n",
       "      <th></th>\n",
       "      <th>depth</th>\n",
       "      <th>id</th>\n",
       "      <th>resorb_pct</th>\n",
       "      <th>quad</th>\n",
       "    </tr>\n",
       "  </thead>\n",
       "  <tbody>\n",
       "    <tr>\n",
       "      <th>0</th>\n",
       "      <td>0-5</td>\n",
       "      <td>MedialCortical_STD_75Above Threshold</td>\n",
       "      <td>0.285905</td>\n",
       "      <td>med</td>\n",
       "    </tr>\n",
       "    <tr>\n",
       "      <th>1</th>\n",
       "      <td>0-5</td>\n",
       "      <td>LateralCortical_STD_75Above Threshold</td>\n",
       "      <td>0.975479</td>\n",
       "      <td>lat</td>\n",
       "    </tr>\n",
       "    <tr>\n",
       "      <th>2</th>\n",
       "      <td>0-5</td>\n",
       "      <td>AnteriorCortical_STD_75Above Threshold</td>\n",
       "      <td>8.167807</td>\n",
       "      <td>ant</td>\n",
       "    </tr>\n",
       "    <tr>\n",
       "      <th>3</th>\n",
       "      <td>0-5</td>\n",
       "      <td>PosteriorCortical_STD_75Above Threshold</td>\n",
       "      <td>13.262466</td>\n",
       "      <td>pos</td>\n",
       "    </tr>\n",
       "    <tr>\n",
       "      <th>4</th>\n",
       "      <td>0-5</td>\n",
       "      <td>MedialCortical_STD_45Above Threshold</td>\n",
       "      <td>0.538013</td>\n",
       "      <td>med</td>\n",
       "    </tr>\n",
       "    <tr>\n",
       "      <th>...</th>\n",
       "      <td>...</td>\n",
       "      <td>...</td>\n",
       "      <td>...</td>\n",
       "      <td>...</td>\n",
       "    </tr>\n",
       "    <tr>\n",
       "      <th>379</th>\n",
       "      <td>35-40</td>\n",
       "      <td>PosteriorTrabecular_INF_75Above Threshold</td>\n",
       "      <td>46.981597</td>\n",
       "      <td>pos</td>\n",
       "    </tr>\n",
       "    <tr>\n",
       "      <th>380</th>\n",
       "      <td>35-40</td>\n",
       "      <td>MedialTrabecular_INF_45Above Threshold</td>\n",
       "      <td>68.189305</td>\n",
       "      <td>med</td>\n",
       "    </tr>\n",
       "    <tr>\n",
       "      <th>381</th>\n",
       "      <td>35-40</td>\n",
       "      <td>LateralTrabecular_INF_45Above Threshold</td>\n",
       "      <td>39.750985</td>\n",
       "      <td>lat</td>\n",
       "    </tr>\n",
       "    <tr>\n",
       "      <th>382</th>\n",
       "      <td>35-40</td>\n",
       "      <td>AnteriorTrabecular_INF_45Above Threshold</td>\n",
       "      <td>57.586857</td>\n",
       "      <td>ant</td>\n",
       "    </tr>\n",
       "    <tr>\n",
       "      <th>383</th>\n",
       "      <td>35-40</td>\n",
       "      <td>PosteriorTrabecular_INF_45Above Threshold</td>\n",
       "      <td>45.263493</td>\n",
       "      <td>pos</td>\n",
       "    </tr>\n",
       "  </tbody>\n",
       "</table>\n",
       "<p>384 rows × 4 columns</p>\n",
       "</div>"
      ],
      "text/plain": [
       "     depth                                         id  resorb_pct quad\n",
       "0      0-5       MedialCortical_STD_75Above Threshold    0.285905  med\n",
       "1      0-5      LateralCortical_STD_75Above Threshold    0.975479  lat\n",
       "2      0-5     AnteriorCortical_STD_75Above Threshold    8.167807  ant\n",
       "3      0-5    PosteriorCortical_STD_75Above Threshold   13.262466  pos\n",
       "4      0-5       MedialCortical_STD_45Above Threshold    0.538013  med\n",
       "..     ...                                        ...         ...  ...\n",
       "379  35-40  PosteriorTrabecular_INF_75Above Threshold   46.981597  pos\n",
       "380  35-40     MedialTrabecular_INF_45Above Threshold   68.189305  med\n",
       "381  35-40    LateralTrabecular_INF_45Above Threshold   39.750985  lat\n",
       "382  35-40   AnteriorTrabecular_INF_45Above Threshold   57.586857  ant\n",
       "383  35-40  PosteriorTrabecular_INF_45Above Threshold   45.263493  pos\n",
       "\n",
       "[384 rows x 4 columns]"
      ]
     },
     "execution_count": 127,
     "metadata": {},
     "output_type": "execute_result"
    }
   ],
   "source": [
    "conditions = [\n",
    "    (s['id'].str.contains('Lateral')),\n",
    "    (s['id'].str.contains('Medial')),\n",
    "    (s['id'].str.contains('Anterior')),\n",
    "    (s['id'].str.contains('Posterior'))    \n",
    "]\n",
    "choices = ['lat','med','ant','pos']\n",
    "s['quad'] = np.select(conditions, choices)\n",
    "s"
   ]
  },
  {
   "cell_type": "code",
   "execution_count": 128,
   "metadata": {},
   "outputs": [
    {
     "data": {
      "text/html": [
       "<div>\n",
       "<style scoped>\n",
       "    .dataframe tbody tr th:only-of-type {\n",
       "        vertical-align: middle;\n",
       "    }\n",
       "\n",
       "    .dataframe tbody tr th {\n",
       "        vertical-align: top;\n",
       "    }\n",
       "\n",
       "    .dataframe thead th {\n",
       "        text-align: right;\n",
       "    }\n",
       "</style>\n",
       "<table border=\"1\" class=\"dataframe\">\n",
       "  <thead>\n",
       "    <tr style=\"text-align: right;\">\n",
       "      <th></th>\n",
       "      <th>depth</th>\n",
       "      <th>id</th>\n",
       "      <th>resorb_pct</th>\n",
       "      <th>quad</th>\n",
       "      <th>bone_type</th>\n",
       "    </tr>\n",
       "  </thead>\n",
       "  <tbody>\n",
       "    <tr>\n",
       "      <th>0</th>\n",
       "      <td>0-5</td>\n",
       "      <td>MedialCortical_STD_75Above Threshold</td>\n",
       "      <td>0.285905</td>\n",
       "      <td>med</td>\n",
       "      <td>cort</td>\n",
       "    </tr>\n",
       "    <tr>\n",
       "      <th>1</th>\n",
       "      <td>0-5</td>\n",
       "      <td>LateralCortical_STD_75Above Threshold</td>\n",
       "      <td>0.975479</td>\n",
       "      <td>lat</td>\n",
       "      <td>cort</td>\n",
       "    </tr>\n",
       "    <tr>\n",
       "      <th>2</th>\n",
       "      <td>0-5</td>\n",
       "      <td>AnteriorCortical_STD_75Above Threshold</td>\n",
       "      <td>8.167807</td>\n",
       "      <td>ant</td>\n",
       "      <td>cort</td>\n",
       "    </tr>\n",
       "    <tr>\n",
       "      <th>3</th>\n",
       "      <td>0-5</td>\n",
       "      <td>PosteriorCortical_STD_75Above Threshold</td>\n",
       "      <td>13.262466</td>\n",
       "      <td>pos</td>\n",
       "      <td>cort</td>\n",
       "    </tr>\n",
       "    <tr>\n",
       "      <th>4</th>\n",
       "      <td>0-5</td>\n",
       "      <td>MedialCortical_STD_45Above Threshold</td>\n",
       "      <td>0.538013</td>\n",
       "      <td>med</td>\n",
       "      <td>cort</td>\n",
       "    </tr>\n",
       "    <tr>\n",
       "      <th>...</th>\n",
       "      <td>...</td>\n",
       "      <td>...</td>\n",
       "      <td>...</td>\n",
       "      <td>...</td>\n",
       "      <td>...</td>\n",
       "    </tr>\n",
       "    <tr>\n",
       "      <th>379</th>\n",
       "      <td>35-40</td>\n",
       "      <td>PosteriorTrabecular_INF_75Above Threshold</td>\n",
       "      <td>46.981597</td>\n",
       "      <td>pos</td>\n",
       "      <td>trab</td>\n",
       "    </tr>\n",
       "    <tr>\n",
       "      <th>380</th>\n",
       "      <td>35-40</td>\n",
       "      <td>MedialTrabecular_INF_45Above Threshold</td>\n",
       "      <td>68.189305</td>\n",
       "      <td>med</td>\n",
       "      <td>trab</td>\n",
       "    </tr>\n",
       "    <tr>\n",
       "      <th>381</th>\n",
       "      <td>35-40</td>\n",
       "      <td>LateralTrabecular_INF_45Above Threshold</td>\n",
       "      <td>39.750985</td>\n",
       "      <td>lat</td>\n",
       "      <td>trab</td>\n",
       "    </tr>\n",
       "    <tr>\n",
       "      <th>382</th>\n",
       "      <td>35-40</td>\n",
       "      <td>AnteriorTrabecular_INF_45Above Threshold</td>\n",
       "      <td>57.586857</td>\n",
       "      <td>ant</td>\n",
       "      <td>trab</td>\n",
       "    </tr>\n",
       "    <tr>\n",
       "      <th>383</th>\n",
       "      <td>35-40</td>\n",
       "      <td>PosteriorTrabecular_INF_45Above Threshold</td>\n",
       "      <td>45.263493</td>\n",
       "      <td>pos</td>\n",
       "      <td>trab</td>\n",
       "    </tr>\n",
       "  </tbody>\n",
       "</table>\n",
       "<p>384 rows × 5 columns</p>\n",
       "</div>"
      ],
      "text/plain": [
       "     depth                                         id  resorb_pct quad  \\\n",
       "0      0-5       MedialCortical_STD_75Above Threshold    0.285905  med   \n",
       "1      0-5      LateralCortical_STD_75Above Threshold    0.975479  lat   \n",
       "2      0-5     AnteriorCortical_STD_75Above Threshold    8.167807  ant   \n",
       "3      0-5    PosteriorCortical_STD_75Above Threshold   13.262466  pos   \n",
       "4      0-5       MedialCortical_STD_45Above Threshold    0.538013  med   \n",
       "..     ...                                        ...         ...  ...   \n",
       "379  35-40  PosteriorTrabecular_INF_75Above Threshold   46.981597  pos   \n",
       "380  35-40     MedialTrabecular_INF_45Above Threshold   68.189305  med   \n",
       "381  35-40    LateralTrabecular_INF_45Above Threshold   39.750985  lat   \n",
       "382  35-40   AnteriorTrabecular_INF_45Above Threshold   57.586857  ant   \n",
       "383  35-40  PosteriorTrabecular_INF_45Above Threshold   45.263493  pos   \n",
       "\n",
       "    bone_type  \n",
       "0        cort  \n",
       "1        cort  \n",
       "2        cort  \n",
       "3        cort  \n",
       "4        cort  \n",
       "..        ...  \n",
       "379      trab  \n",
       "380      trab  \n",
       "381      trab  \n",
       "382      trab  \n",
       "383      trab  \n",
       "\n",
       "[384 rows x 5 columns]"
      ]
     },
     "execution_count": 128,
     "metadata": {},
     "output_type": "execute_result"
    }
   ],
   "source": [
    "conditions = [\n",
    "    (s['id'].str.contains('Cortical')),\n",
    "    (s['id'].str.contains('Trabecular'))   \n",
    "]\n",
    "choices = ['cort','trab']\n",
    "s['bone_type'] = np.select(conditions, choices)\n",
    "s"
   ]
  },
  {
   "cell_type": "code",
   "execution_count": 129,
   "metadata": {},
   "outputs": [
    {
     "data": {
      "text/html": [
       "<div>\n",
       "<style scoped>\n",
       "    .dataframe tbody tr th:only-of-type {\n",
       "        vertical-align: middle;\n",
       "    }\n",
       "\n",
       "    .dataframe tbody tr th {\n",
       "        vertical-align: top;\n",
       "    }\n",
       "\n",
       "    .dataframe thead th {\n",
       "        text-align: right;\n",
       "    }\n",
       "</style>\n",
       "<table border=\"1\" class=\"dataframe\">\n",
       "  <thead>\n",
       "    <tr style=\"text-align: right;\">\n",
       "      <th></th>\n",
       "      <th>depth</th>\n",
       "      <th>id</th>\n",
       "      <th>resorb_pct</th>\n",
       "      <th>quad</th>\n",
       "      <th>bone_type</th>\n",
       "      <th>load</th>\n",
       "    </tr>\n",
       "  </thead>\n",
       "  <tbody>\n",
       "    <tr>\n",
       "      <th>0</th>\n",
       "      <td>0-5</td>\n",
       "      <td>MedialCortical_STD_75Above Threshold</td>\n",
       "      <td>0.285905</td>\n",
       "      <td>med</td>\n",
       "      <td>cort</td>\n",
       "      <td>75</td>\n",
       "    </tr>\n",
       "    <tr>\n",
       "      <th>1</th>\n",
       "      <td>0-5</td>\n",
       "      <td>LateralCortical_STD_75Above Threshold</td>\n",
       "      <td>0.975479</td>\n",
       "      <td>lat</td>\n",
       "      <td>cort</td>\n",
       "      <td>75</td>\n",
       "    </tr>\n",
       "    <tr>\n",
       "      <th>2</th>\n",
       "      <td>0-5</td>\n",
       "      <td>AnteriorCortical_STD_75Above Threshold</td>\n",
       "      <td>8.167807</td>\n",
       "      <td>ant</td>\n",
       "      <td>cort</td>\n",
       "      <td>75</td>\n",
       "    </tr>\n",
       "    <tr>\n",
       "      <th>3</th>\n",
       "      <td>0-5</td>\n",
       "      <td>PosteriorCortical_STD_75Above Threshold</td>\n",
       "      <td>13.262466</td>\n",
       "      <td>pos</td>\n",
       "      <td>cort</td>\n",
       "      <td>75</td>\n",
       "    </tr>\n",
       "    <tr>\n",
       "      <th>4</th>\n",
       "      <td>0-5</td>\n",
       "      <td>MedialCortical_STD_45Above Threshold</td>\n",
       "      <td>0.538013</td>\n",
       "      <td>med</td>\n",
       "      <td>cort</td>\n",
       "      <td>45</td>\n",
       "    </tr>\n",
       "    <tr>\n",
       "      <th>...</th>\n",
       "      <td>...</td>\n",
       "      <td>...</td>\n",
       "      <td>...</td>\n",
       "      <td>...</td>\n",
       "      <td>...</td>\n",
       "      <td>...</td>\n",
       "    </tr>\n",
       "    <tr>\n",
       "      <th>379</th>\n",
       "      <td>35-40</td>\n",
       "      <td>PosteriorTrabecular_INF_75Above Threshold</td>\n",
       "      <td>46.981597</td>\n",
       "      <td>pos</td>\n",
       "      <td>trab</td>\n",
       "      <td>75</td>\n",
       "    </tr>\n",
       "    <tr>\n",
       "      <th>380</th>\n",
       "      <td>35-40</td>\n",
       "      <td>MedialTrabecular_INF_45Above Threshold</td>\n",
       "      <td>68.189305</td>\n",
       "      <td>med</td>\n",
       "      <td>trab</td>\n",
       "      <td>45</td>\n",
       "    </tr>\n",
       "    <tr>\n",
       "      <th>381</th>\n",
       "      <td>35-40</td>\n",
       "      <td>LateralTrabecular_INF_45Above Threshold</td>\n",
       "      <td>39.750985</td>\n",
       "      <td>lat</td>\n",
       "      <td>trab</td>\n",
       "      <td>45</td>\n",
       "    </tr>\n",
       "    <tr>\n",
       "      <th>382</th>\n",
       "      <td>35-40</td>\n",
       "      <td>AnteriorTrabecular_INF_45Above Threshold</td>\n",
       "      <td>57.586857</td>\n",
       "      <td>ant</td>\n",
       "      <td>trab</td>\n",
       "      <td>45</td>\n",
       "    </tr>\n",
       "    <tr>\n",
       "      <th>383</th>\n",
       "      <td>35-40</td>\n",
       "      <td>PosteriorTrabecular_INF_45Above Threshold</td>\n",
       "      <td>45.263493</td>\n",
       "      <td>pos</td>\n",
       "      <td>trab</td>\n",
       "      <td>45</td>\n",
       "    </tr>\n",
       "  </tbody>\n",
       "</table>\n",
       "<p>384 rows × 6 columns</p>\n",
       "</div>"
      ],
      "text/plain": [
       "     depth                                         id  resorb_pct quad  \\\n",
       "0      0-5       MedialCortical_STD_75Above Threshold    0.285905  med   \n",
       "1      0-5      LateralCortical_STD_75Above Threshold    0.975479  lat   \n",
       "2      0-5     AnteriorCortical_STD_75Above Threshold    8.167807  ant   \n",
       "3      0-5    PosteriorCortical_STD_75Above Threshold   13.262466  pos   \n",
       "4      0-5       MedialCortical_STD_45Above Threshold    0.538013  med   \n",
       "..     ...                                        ...         ...  ...   \n",
       "379  35-40  PosteriorTrabecular_INF_75Above Threshold   46.981597  pos   \n",
       "380  35-40     MedialTrabecular_INF_45Above Threshold   68.189305  med   \n",
       "381  35-40    LateralTrabecular_INF_45Above Threshold   39.750985  lat   \n",
       "382  35-40   AnteriorTrabecular_INF_45Above Threshold   57.586857  ant   \n",
       "383  35-40  PosteriorTrabecular_INF_45Above Threshold   45.263493  pos   \n",
       "\n",
       "    bone_type load  \n",
       "0        cort   75  \n",
       "1        cort   75  \n",
       "2        cort   75  \n",
       "3        cort   75  \n",
       "4        cort   45  \n",
       "..        ...  ...  \n",
       "379      trab   75  \n",
       "380      trab   45  \n",
       "381      trab   45  \n",
       "382      trab   45  \n",
       "383      trab   45  \n",
       "\n",
       "[384 rows x 6 columns]"
      ]
     },
     "execution_count": 129,
     "metadata": {},
     "output_type": "execute_result"
    }
   ],
   "source": [
    "conditions = [\n",
    "    (s['id'].str.contains('45')),\n",
    "    (s['id'].str.contains('75'))   \n",
    "]\n",
    "choices = ['45','75']\n",
    "s['load'] = np.select(conditions, choices)\n",
    "s"
   ]
  },
  {
   "cell_type": "code",
   "execution_count": 130,
   "metadata": {},
   "outputs": [
    {
     "data": {
      "text/html": [
       "<div>\n",
       "<style scoped>\n",
       "    .dataframe tbody tr th:only-of-type {\n",
       "        vertical-align: middle;\n",
       "    }\n",
       "\n",
       "    .dataframe tbody tr th {\n",
       "        vertical-align: top;\n",
       "    }\n",
       "\n",
       "    .dataframe thead th {\n",
       "        text-align: right;\n",
       "    }\n",
       "</style>\n",
       "<table border=\"1\" class=\"dataframe\">\n",
       "  <thead>\n",
       "    <tr style=\"text-align: right;\">\n",
       "      <th></th>\n",
       "      <th>depth</th>\n",
       "      <th>id</th>\n",
       "      <th>resorb_pct</th>\n",
       "      <th>quad</th>\n",
       "      <th>bone_type</th>\n",
       "      <th>load</th>\n",
       "      <th>posi</th>\n",
       "    </tr>\n",
       "  </thead>\n",
       "  <tbody>\n",
       "    <tr>\n",
       "      <th>0</th>\n",
       "      <td>0-5</td>\n",
       "      <td>MedialCortical_STD_75Above Threshold</td>\n",
       "      <td>0.285905</td>\n",
       "      <td>med</td>\n",
       "      <td>cort</td>\n",
       "      <td>75</td>\n",
       "      <td>STD</td>\n",
       "    </tr>\n",
       "    <tr>\n",
       "      <th>1</th>\n",
       "      <td>0-5</td>\n",
       "      <td>LateralCortical_STD_75Above Threshold</td>\n",
       "      <td>0.975479</td>\n",
       "      <td>lat</td>\n",
       "      <td>cort</td>\n",
       "      <td>75</td>\n",
       "      <td>STD</td>\n",
       "    </tr>\n",
       "    <tr>\n",
       "      <th>2</th>\n",
       "      <td>0-5</td>\n",
       "      <td>AnteriorCortical_STD_75Above Threshold</td>\n",
       "      <td>8.167807</td>\n",
       "      <td>ant</td>\n",
       "      <td>cort</td>\n",
       "      <td>75</td>\n",
       "      <td>STD</td>\n",
       "    </tr>\n",
       "    <tr>\n",
       "      <th>3</th>\n",
       "      <td>0-5</td>\n",
       "      <td>PosteriorCortical_STD_75Above Threshold</td>\n",
       "      <td>13.262466</td>\n",
       "      <td>pos</td>\n",
       "      <td>cort</td>\n",
       "      <td>75</td>\n",
       "      <td>STD</td>\n",
       "    </tr>\n",
       "    <tr>\n",
       "      <th>4</th>\n",
       "      <td>0-5</td>\n",
       "      <td>MedialCortical_STD_45Above Threshold</td>\n",
       "      <td>0.538013</td>\n",
       "      <td>med</td>\n",
       "      <td>cort</td>\n",
       "      <td>45</td>\n",
       "      <td>STD</td>\n",
       "    </tr>\n",
       "    <tr>\n",
       "      <th>...</th>\n",
       "      <td>...</td>\n",
       "      <td>...</td>\n",
       "      <td>...</td>\n",
       "      <td>...</td>\n",
       "      <td>...</td>\n",
       "      <td>...</td>\n",
       "      <td>...</td>\n",
       "    </tr>\n",
       "    <tr>\n",
       "      <th>379</th>\n",
       "      <td>35-40</td>\n",
       "      <td>PosteriorTrabecular_INF_75Above Threshold</td>\n",
       "      <td>46.981597</td>\n",
       "      <td>pos</td>\n",
       "      <td>trab</td>\n",
       "      <td>75</td>\n",
       "      <td>INF</td>\n",
       "    </tr>\n",
       "    <tr>\n",
       "      <th>380</th>\n",
       "      <td>35-40</td>\n",
       "      <td>MedialTrabecular_INF_45Above Threshold</td>\n",
       "      <td>68.189305</td>\n",
       "      <td>med</td>\n",
       "      <td>trab</td>\n",
       "      <td>45</td>\n",
       "      <td>INF</td>\n",
       "    </tr>\n",
       "    <tr>\n",
       "      <th>381</th>\n",
       "      <td>35-40</td>\n",
       "      <td>LateralTrabecular_INF_45Above Threshold</td>\n",
       "      <td>39.750985</td>\n",
       "      <td>lat</td>\n",
       "      <td>trab</td>\n",
       "      <td>45</td>\n",
       "      <td>INF</td>\n",
       "    </tr>\n",
       "    <tr>\n",
       "      <th>382</th>\n",
       "      <td>35-40</td>\n",
       "      <td>AnteriorTrabecular_INF_45Above Threshold</td>\n",
       "      <td>57.586857</td>\n",
       "      <td>ant</td>\n",
       "      <td>trab</td>\n",
       "      <td>45</td>\n",
       "      <td>INF</td>\n",
       "    </tr>\n",
       "    <tr>\n",
       "      <th>383</th>\n",
       "      <td>35-40</td>\n",
       "      <td>PosteriorTrabecular_INF_45Above Threshold</td>\n",
       "      <td>45.263493</td>\n",
       "      <td>pos</td>\n",
       "      <td>trab</td>\n",
       "      <td>45</td>\n",
       "      <td>INF</td>\n",
       "    </tr>\n",
       "  </tbody>\n",
       "</table>\n",
       "<p>384 rows × 7 columns</p>\n",
       "</div>"
      ],
      "text/plain": [
       "     depth                                         id  resorb_pct quad  \\\n",
       "0      0-5       MedialCortical_STD_75Above Threshold    0.285905  med   \n",
       "1      0-5      LateralCortical_STD_75Above Threshold    0.975479  lat   \n",
       "2      0-5     AnteriorCortical_STD_75Above Threshold    8.167807  ant   \n",
       "3      0-5    PosteriorCortical_STD_75Above Threshold   13.262466  pos   \n",
       "4      0-5       MedialCortical_STD_45Above Threshold    0.538013  med   \n",
       "..     ...                                        ...         ...  ...   \n",
       "379  35-40  PosteriorTrabecular_INF_75Above Threshold   46.981597  pos   \n",
       "380  35-40     MedialTrabecular_INF_45Above Threshold   68.189305  med   \n",
       "381  35-40    LateralTrabecular_INF_45Above Threshold   39.750985  lat   \n",
       "382  35-40   AnteriorTrabecular_INF_45Above Threshold   57.586857  ant   \n",
       "383  35-40  PosteriorTrabecular_INF_45Above Threshold   45.263493  pos   \n",
       "\n",
       "    bone_type load posi  \n",
       "0        cort   75  STD  \n",
       "1        cort   75  STD  \n",
       "2        cort   75  STD  \n",
       "3        cort   75  STD  \n",
       "4        cort   45  STD  \n",
       "..        ...  ...  ...  \n",
       "379      trab   75  INF  \n",
       "380      trab   45  INF  \n",
       "381      trab   45  INF  \n",
       "382      trab   45  INF  \n",
       "383      trab   45  INF  \n",
       "\n",
       "[384 rows x 7 columns]"
      ]
     },
     "execution_count": 130,
     "metadata": {},
     "output_type": "execute_result"
    }
   ],
   "source": [
    "conditions = [\n",
    "    (s['id'].str.contains('STD')),\n",
    "    (s['id'].str.contains('INF')),\n",
    "    (s['id'].str.contains('SUP'))   \n",
    "]\n",
    "choices = ['STD','INF','SUP']\n",
    "s['posi'] = np.select(conditions, choices)\n",
    "s"
   ]
  },
  {
   "cell_type": "markdown",
   "metadata": {},
   "source": [
    "process is to add all into one dataframe then mean then add all the identifiers like quad, bone type etc."
   ]
  },
  {
   "cell_type": "markdown",
   "metadata": {},
   "source": [
    "Now there lets try plotting one with the new radial graphs"
   ]
  },
  {
   "cell_type": "code",
   "execution_count": null,
   "metadata": {},
   "outputs": [],
   "source": [
    "fig = go.Figure()\n",
    "fig.add_trace(go.Barpolar(\n",
    "    r = \n",
    "))\n"
   ]
  },
  {
   "cell_type": "code",
   "execution_count": 2,
   "metadata": {},
   "outputs": [
    {
     "data": {
      "text/html": [
       "<div>\n",
       "<style scoped>\n",
       "    .dataframe tbody tr th:only-of-type {\n",
       "        vertical-align: middle;\n",
       "    }\n",
       "\n",
       "    .dataframe tbody tr th {\n",
       "        vertical-align: top;\n",
       "    }\n",
       "\n",
       "    .dataframe thead th {\n",
       "        text-align: right;\n",
       "    }\n",
       "</style>\n",
       "<table border=\"1\" class=\"dataframe\">\n",
       "  <thead>\n",
       "    <tr style=\"text-align: right;\">\n",
       "      <th></th>\n",
       "      <th>direction</th>\n",
       "      <th>strength</th>\n",
       "      <th>frequency</th>\n",
       "    </tr>\n",
       "  </thead>\n",
       "  <tbody>\n",
       "    <tr>\n",
       "      <th>0</th>\n",
       "      <td>N</td>\n",
       "      <td>0-1</td>\n",
       "      <td>0.5</td>\n",
       "    </tr>\n",
       "    <tr>\n",
       "      <th>1</th>\n",
       "      <td>NNE</td>\n",
       "      <td>0-1</td>\n",
       "      <td>0.6</td>\n",
       "    </tr>\n",
       "    <tr>\n",
       "      <th>2</th>\n",
       "      <td>NE</td>\n",
       "      <td>0-1</td>\n",
       "      <td>0.5</td>\n",
       "    </tr>\n",
       "    <tr>\n",
       "      <th>3</th>\n",
       "      <td>ENE</td>\n",
       "      <td>0-1</td>\n",
       "      <td>0.4</td>\n",
       "    </tr>\n",
       "    <tr>\n",
       "      <th>4</th>\n",
       "      <td>E</td>\n",
       "      <td>0-1</td>\n",
       "      <td>0.4</td>\n",
       "    </tr>\n",
       "    <tr>\n",
       "      <th>...</th>\n",
       "      <td>...</td>\n",
       "      <td>...</td>\n",
       "      <td>...</td>\n",
       "    </tr>\n",
       "    <tr>\n",
       "      <th>123</th>\n",
       "      <td>WSW</td>\n",
       "      <td>6+</td>\n",
       "      <td>0.1</td>\n",
       "    </tr>\n",
       "    <tr>\n",
       "      <th>124</th>\n",
       "      <td>W</td>\n",
       "      <td>6+</td>\n",
       "      <td>0.9</td>\n",
       "    </tr>\n",
       "    <tr>\n",
       "      <th>125</th>\n",
       "      <td>WNW</td>\n",
       "      <td>6+</td>\n",
       "      <td>2.2</td>\n",
       "    </tr>\n",
       "    <tr>\n",
       "      <th>126</th>\n",
       "      <td>NW</td>\n",
       "      <td>6+</td>\n",
       "      <td>1.5</td>\n",
       "    </tr>\n",
       "    <tr>\n",
       "      <th>127</th>\n",
       "      <td>NNW</td>\n",
       "      <td>6+</td>\n",
       "      <td>0.2</td>\n",
       "    </tr>\n",
       "  </tbody>\n",
       "</table>\n",
       "<p>128 rows × 3 columns</p>\n",
       "</div>"
      ],
      "text/plain": [
       "    direction strength  frequency\n",
       "0           N      0-1        0.5\n",
       "1         NNE      0-1        0.6\n",
       "2          NE      0-1        0.5\n",
       "3         ENE      0-1        0.4\n",
       "4           E      0-1        0.4\n",
       "..        ...      ...        ...\n",
       "123       WSW       6+        0.1\n",
       "124         W       6+        0.9\n",
       "125       WNW       6+        2.2\n",
       "126        NW       6+        1.5\n",
       "127       NNW       6+        0.2\n",
       "\n",
       "[128 rows x 3 columns]"
      ]
     },
     "execution_count": 2,
     "metadata": {},
     "output_type": "execute_result"
    }
   ],
   "source": [
    "df_win = px.data.wind()\n",
    "df_win"
   ]
  },
  {
   "cell_type": "code",
   "execution_count": 89,
   "metadata": {},
   "outputs": [
    {
     "data": {
      "application/vnd.plotly.v1+json": {
       "config": {
        "plotlyServerURL": "https://plot.ly"
       },
       "data": [
        {
         "hovertemplate": "strength=0-1<br>frequency=%{r}<br>direction=%{theta}<extra></extra>",
         "legendgroup": "0-1",
         "marker": {
          "color": "#f0f921",
          "pattern": {
           "shape": ""
          }
         },
         "name": "0-1",
         "r": [
          0.5,
          0.6,
          0.5,
          0.4,
          0.4,
          0.3,
          0.4,
          0.4,
          0.6,
          0.4,
          0.5,
          0.6,
          0.6,
          0.5,
          0.4,
          0.1
         ],
         "showlegend": true,
         "subplot": "polar",
         "theta": [
          "N",
          "NNE",
          "NE",
          "ENE",
          "E",
          "ESE",
          "SE",
          "SSE",
          "S",
          "SSW",
          "SW",
          "WSW",
          "W",
          "WNW",
          "NW",
          "NNW"
         ],
         "type": "barpolar"
        },
        {
         "hovertemplate": "strength=1-2<br>frequency=%{r}<br>direction=%{theta}<extra></extra>",
         "legendgroup": "1-2",
         "marker": {
          "color": "#fdca26",
          "pattern": {
           "shape": ""
          }
         },
         "name": "1-2",
         "r": [
          1.6,
          1.8,
          1.5,
          1.6,
          1.6,
          1.2,
          1.5,
          1.7,
          2.2,
          2,
          2.3,
          2.4,
          2.3,
          2.6,
          2.3,
          0.8
         ],
         "showlegend": true,
         "subplot": "polar",
         "theta": [
          "N",
          "NNE",
          "NE",
          "ENE",
          "E",
          "ESE",
          "SE",
          "SSE",
          "S",
          "SSW",
          "SW",
          "WSW",
          "W",
          "WNW",
          "NW",
          "NNW"
         ],
         "type": "barpolar"
        },
        {
         "hovertemplate": "strength=2-3<br>frequency=%{r}<br>direction=%{theta}<extra></extra>",
         "legendgroup": "2-3",
         "marker": {
          "color": "#fb9f3a",
          "pattern": {
           "shape": ""
          }
         },
         "name": "2-3",
         "r": [
          0.9,
          1.3,
          1.6,
          0.9,
          1,
          0.6,
          0.6,
          0.9,
          1.4,
          1.7,
          1.9,
          2.2,
          1.8,
          1.7,
          1.8,
          0.8
         ],
         "showlegend": true,
         "subplot": "polar",
         "theta": [
          "N",
          "NNE",
          "NE",
          "ENE",
          "E",
          "ESE",
          "SE",
          "SSE",
          "S",
          "SSW",
          "SW",
          "WSW",
          "W",
          "WNW",
          "NW",
          "NNW"
         ],
         "type": "barpolar"
        },
        {
         "hovertemplate": "strength=3-4<br>frequency=%{r}<br>direction=%{theta}<extra></extra>",
         "legendgroup": "3-4",
         "marker": {
          "color": "#ed7953",
          "pattern": {
           "shape": ""
          }
         },
         "name": "3-4",
         "r": [
          0.9,
          0.8,
          1.2,
          1,
          0.8,
          0.4,
          0.5,
          0.5,
          0.8,
          0.9,
          1.3,
          1.1,
          1.2,
          1.2,
          1.3,
          1
         ],
         "showlegend": true,
         "subplot": "polar",
         "theta": [
          "N",
          "NNE",
          "NE",
          "ENE",
          "E",
          "ESE",
          "SE",
          "SSE",
          "S",
          "SSW",
          "SW",
          "WSW",
          "W",
          "WNW",
          "NW",
          "NNW"
         ],
         "type": "barpolar"
        },
        {
         "hovertemplate": "strength=4-4<br>frequency=%{r}<br>direction=%{theta}<extra></extra>",
         "legendgroup": "4-4",
         "marker": {
          "color": "#d8576b",
          "pattern": {
           "shape": ""
          }
         },
         "name": "4-4",
         "r": [
          0.4,
          0.5,
          1.2,
          0.5,
          0.4,
          0.2,
          0.4,
          0.4,
          0.7,
          0.6,
          0.7,
          0.8,
          0.9,
          1,
          1,
          0.7
         ],
         "showlegend": true,
         "subplot": "polar",
         "theta": [
          "N",
          "NNE",
          "NE",
          "ENE",
          "E",
          "ESE",
          "SE",
          "SSE",
          "S",
          "SSW",
          "SW",
          "WSW",
          "W",
          "WNW",
          "NW",
          "NNW"
         ],
         "type": "barpolar"
        },
        {
         "hovertemplate": "strength=4-5<br>frequency=%{r}<br>direction=%{theta}<extra></extra>",
         "legendgroup": "4-5",
         "marker": {
          "color": "#bd3786",
          "pattern": {
           "shape": ""
          }
         },
         "name": "4-5",
         "r": [
          0.3,
          0.3,
          0.6,
          0.2,
          0.1,
          0.1,
          0.05,
          0.1,
          0.1,
          0.2,
          0.3,
          0.4,
          0.9,
          0.9,
          0.9,
          0.3
         ],
         "showlegend": true,
         "subplot": "polar",
         "theta": [
          "N",
          "NNE",
          "NE",
          "ENE",
          "E",
          "ESE",
          "SE",
          "SSE",
          "S",
          "SSW",
          "SW",
          "WSW",
          "W",
          "WNW",
          "NW",
          "NNW"
         ],
         "type": "barpolar"
        },
        {
         "hovertemplate": "strength=5-6<br>frequency=%{r}<br>direction=%{theta}<extra></extra>",
         "legendgroup": "5-6",
         "marker": {
          "color": "#9c179e",
          "pattern": {
           "shape": ""
          }
         },
         "name": "5-6",
         "r": [
          0.2,
          0.1,
          0.1,
          0.1,
          0.1,
          0.1,
          0.05,
          0.05,
          0.1,
          0.05,
          0.2,
          0.2,
          0.4,
          0.7,
          0.7,
          0.4
         ],
         "showlegend": true,
         "subplot": "polar",
         "theta": [
          "N",
          "NNE",
          "NE",
          "ENE",
          "E",
          "ESE",
          "SE",
          "SSE",
          "S",
          "SSW",
          "SW",
          "WSW",
          "W",
          "WNW",
          "NW",
          "NNW"
         ],
         "type": "barpolar"
        },
        {
         "hovertemplate": "strength=6+<br>frequency=%{r}<br>direction=%{theta}<extra></extra>",
         "legendgroup": "6+",
         "marker": {
          "color": "#7201a8",
          "pattern": {
           "shape": ""
          }
         },
         "name": "6+",
         "r": [
          0.1,
          0.1,
          0.1,
          0.1,
          0.1,
          0.05,
          0.05,
          0.05,
          0.05,
          0.1,
          0.1,
          0.1,
          0.9,
          2.2,
          1.5,
          0.2
         ],
         "showlegend": true,
         "subplot": "polar",
         "theta": [
          "N",
          "NNE",
          "NE",
          "ENE",
          "E",
          "ESE",
          "SE",
          "SSE",
          "S",
          "SSW",
          "SW",
          "WSW",
          "W",
          "WNW",
          "NW",
          "NNW"
         ],
         "type": "barpolar"
        }
       ],
       "layout": {
        "barmode": "relative",
        "legend": {
         "title": {
          "text": "strength"
         },
         "tracegroupgap": 0
        },
        "margin": {
         "t": 60
        },
        "polar": {
         "angularaxis": {
          "direction": "clockwise",
          "rotation": 90
         },
         "domain": {
          "x": [
           0,
           1
          ],
          "y": [
           0,
           1
          ]
         }
        },
        "template": {
         "data": {
          "bar": [
           {
            "error_x": {
             "color": "#f2f5fa"
            },
            "error_y": {
             "color": "#f2f5fa"
            },
            "marker": {
             "line": {
              "color": "rgb(17,17,17)",
              "width": 0.5
             },
             "pattern": {
              "fillmode": "overlay",
              "size": 10,
              "solidity": 0.2
             }
            },
            "type": "bar"
           }
          ],
          "barpolar": [
           {
            "marker": {
             "line": {
              "color": "rgb(17,17,17)",
              "width": 0.5
             },
             "pattern": {
              "fillmode": "overlay",
              "size": 10,
              "solidity": 0.2
             }
            },
            "type": "barpolar"
           }
          ],
          "carpet": [
           {
            "aaxis": {
             "endlinecolor": "#A2B1C6",
             "gridcolor": "#506784",
             "linecolor": "#506784",
             "minorgridcolor": "#506784",
             "startlinecolor": "#A2B1C6"
            },
            "baxis": {
             "endlinecolor": "#A2B1C6",
             "gridcolor": "#506784",
             "linecolor": "#506784",
             "minorgridcolor": "#506784",
             "startlinecolor": "#A2B1C6"
            },
            "type": "carpet"
           }
          ],
          "choropleth": [
           {
            "colorbar": {
             "outlinewidth": 0,
             "ticks": ""
            },
            "type": "choropleth"
           }
          ],
          "contour": [
           {
            "colorbar": {
             "outlinewidth": 0,
             "ticks": ""
            },
            "colorscale": [
             [
              0,
              "#0d0887"
             ],
             [
              0.1111111111111111,
              "#46039f"
             ],
             [
              0.2222222222222222,
              "#7201a8"
             ],
             [
              0.3333333333333333,
              "#9c179e"
             ],
             [
              0.4444444444444444,
              "#bd3786"
             ],
             [
              0.5555555555555556,
              "#d8576b"
             ],
             [
              0.6666666666666666,
              "#ed7953"
             ],
             [
              0.7777777777777778,
              "#fb9f3a"
             ],
             [
              0.8888888888888888,
              "#fdca26"
             ],
             [
              1,
              "#f0f921"
             ]
            ],
            "type": "contour"
           }
          ],
          "contourcarpet": [
           {
            "colorbar": {
             "outlinewidth": 0,
             "ticks": ""
            },
            "type": "contourcarpet"
           }
          ],
          "heatmap": [
           {
            "colorbar": {
             "outlinewidth": 0,
             "ticks": ""
            },
            "colorscale": [
             [
              0,
              "#0d0887"
             ],
             [
              0.1111111111111111,
              "#46039f"
             ],
             [
              0.2222222222222222,
              "#7201a8"
             ],
             [
              0.3333333333333333,
              "#9c179e"
             ],
             [
              0.4444444444444444,
              "#bd3786"
             ],
             [
              0.5555555555555556,
              "#d8576b"
             ],
             [
              0.6666666666666666,
              "#ed7953"
             ],
             [
              0.7777777777777778,
              "#fb9f3a"
             ],
             [
              0.8888888888888888,
              "#fdca26"
             ],
             [
              1,
              "#f0f921"
             ]
            ],
            "type": "heatmap"
           }
          ],
          "heatmapgl": [
           {
            "colorbar": {
             "outlinewidth": 0,
             "ticks": ""
            },
            "colorscale": [
             [
              0,
              "#0d0887"
             ],
             [
              0.1111111111111111,
              "#46039f"
             ],
             [
              0.2222222222222222,
              "#7201a8"
             ],
             [
              0.3333333333333333,
              "#9c179e"
             ],
             [
              0.4444444444444444,
              "#bd3786"
             ],
             [
              0.5555555555555556,
              "#d8576b"
             ],
             [
              0.6666666666666666,
              "#ed7953"
             ],
             [
              0.7777777777777778,
              "#fb9f3a"
             ],
             [
              0.8888888888888888,
              "#fdca26"
             ],
             [
              1,
              "#f0f921"
             ]
            ],
            "type": "heatmapgl"
           }
          ],
          "histogram": [
           {
            "marker": {
             "pattern": {
              "fillmode": "overlay",
              "size": 10,
              "solidity": 0.2
             }
            },
            "type": "histogram"
           }
          ],
          "histogram2d": [
           {
            "colorbar": {
             "outlinewidth": 0,
             "ticks": ""
            },
            "colorscale": [
             [
              0,
              "#0d0887"
             ],
             [
              0.1111111111111111,
              "#46039f"
             ],
             [
              0.2222222222222222,
              "#7201a8"
             ],
             [
              0.3333333333333333,
              "#9c179e"
             ],
             [
              0.4444444444444444,
              "#bd3786"
             ],
             [
              0.5555555555555556,
              "#d8576b"
             ],
             [
              0.6666666666666666,
              "#ed7953"
             ],
             [
              0.7777777777777778,
              "#fb9f3a"
             ],
             [
              0.8888888888888888,
              "#fdca26"
             ],
             [
              1,
              "#f0f921"
             ]
            ],
            "type": "histogram2d"
           }
          ],
          "histogram2dcontour": [
           {
            "colorbar": {
             "outlinewidth": 0,
             "ticks": ""
            },
            "colorscale": [
             [
              0,
              "#0d0887"
             ],
             [
              0.1111111111111111,
              "#46039f"
             ],
             [
              0.2222222222222222,
              "#7201a8"
             ],
             [
              0.3333333333333333,
              "#9c179e"
             ],
             [
              0.4444444444444444,
              "#bd3786"
             ],
             [
              0.5555555555555556,
              "#d8576b"
             ],
             [
              0.6666666666666666,
              "#ed7953"
             ],
             [
              0.7777777777777778,
              "#fb9f3a"
             ],
             [
              0.8888888888888888,
              "#fdca26"
             ],
             [
              1,
              "#f0f921"
             ]
            ],
            "type": "histogram2dcontour"
           }
          ],
          "mesh3d": [
           {
            "colorbar": {
             "outlinewidth": 0,
             "ticks": ""
            },
            "type": "mesh3d"
           }
          ],
          "parcoords": [
           {
            "line": {
             "colorbar": {
              "outlinewidth": 0,
              "ticks": ""
             }
            },
            "type": "parcoords"
           }
          ],
          "pie": [
           {
            "automargin": true,
            "type": "pie"
           }
          ],
          "scatter": [
           {
            "marker": {
             "line": {
              "color": "#283442"
             }
            },
            "type": "scatter"
           }
          ],
          "scatter3d": [
           {
            "line": {
             "colorbar": {
              "outlinewidth": 0,
              "ticks": ""
             }
            },
            "marker": {
             "colorbar": {
              "outlinewidth": 0,
              "ticks": ""
             }
            },
            "type": "scatter3d"
           }
          ],
          "scattercarpet": [
           {
            "marker": {
             "colorbar": {
              "outlinewidth": 0,
              "ticks": ""
             }
            },
            "type": "scattercarpet"
           }
          ],
          "scattergeo": [
           {
            "marker": {
             "colorbar": {
              "outlinewidth": 0,
              "ticks": ""
             }
            },
            "type": "scattergeo"
           }
          ],
          "scattergl": [
           {
            "marker": {
             "line": {
              "color": "#283442"
             }
            },
            "type": "scattergl"
           }
          ],
          "scattermapbox": [
           {
            "marker": {
             "colorbar": {
              "outlinewidth": 0,
              "ticks": ""
             }
            },
            "type": "scattermapbox"
           }
          ],
          "scatterpolar": [
           {
            "marker": {
             "colorbar": {
              "outlinewidth": 0,
              "ticks": ""
             }
            },
            "type": "scatterpolar"
           }
          ],
          "scatterpolargl": [
           {
            "marker": {
             "colorbar": {
              "outlinewidth": 0,
              "ticks": ""
             }
            },
            "type": "scatterpolargl"
           }
          ],
          "scatterternary": [
           {
            "marker": {
             "colorbar": {
              "outlinewidth": 0,
              "ticks": ""
             }
            },
            "type": "scatterternary"
           }
          ],
          "surface": [
           {
            "colorbar": {
             "outlinewidth": 0,
             "ticks": ""
            },
            "colorscale": [
             [
              0,
              "#0d0887"
             ],
             [
              0.1111111111111111,
              "#46039f"
             ],
             [
              0.2222222222222222,
              "#7201a8"
             ],
             [
              0.3333333333333333,
              "#9c179e"
             ],
             [
              0.4444444444444444,
              "#bd3786"
             ],
             [
              0.5555555555555556,
              "#d8576b"
             ],
             [
              0.6666666666666666,
              "#ed7953"
             ],
             [
              0.7777777777777778,
              "#fb9f3a"
             ],
             [
              0.8888888888888888,
              "#fdca26"
             ],
             [
              1,
              "#f0f921"
             ]
            ],
            "type": "surface"
           }
          ],
          "table": [
           {
            "cells": {
             "fill": {
              "color": "#506784"
             },
             "line": {
              "color": "rgb(17,17,17)"
             }
            },
            "header": {
             "fill": {
              "color": "#2a3f5f"
             },
             "line": {
              "color": "rgb(17,17,17)"
             }
            },
            "type": "table"
           }
          ]
         },
         "layout": {
          "annotationdefaults": {
           "arrowcolor": "#f2f5fa",
           "arrowhead": 0,
           "arrowwidth": 1
          },
          "autotypenumbers": "strict",
          "coloraxis": {
           "colorbar": {
            "outlinewidth": 0,
            "ticks": ""
           }
          },
          "colorscale": {
           "diverging": [
            [
             0,
             "#8e0152"
            ],
            [
             0.1,
             "#c51b7d"
            ],
            [
             0.2,
             "#de77ae"
            ],
            [
             0.3,
             "#f1b6da"
            ],
            [
             0.4,
             "#fde0ef"
            ],
            [
             0.5,
             "#f7f7f7"
            ],
            [
             0.6,
             "#e6f5d0"
            ],
            [
             0.7,
             "#b8e186"
            ],
            [
             0.8,
             "#7fbc41"
            ],
            [
             0.9,
             "#4d9221"
            ],
            [
             1,
             "#276419"
            ]
           ],
           "sequential": [
            [
             0,
             "#0d0887"
            ],
            [
             0.1111111111111111,
             "#46039f"
            ],
            [
             0.2222222222222222,
             "#7201a8"
            ],
            [
             0.3333333333333333,
             "#9c179e"
            ],
            [
             0.4444444444444444,
             "#bd3786"
            ],
            [
             0.5555555555555556,
             "#d8576b"
            ],
            [
             0.6666666666666666,
             "#ed7953"
            ],
            [
             0.7777777777777778,
             "#fb9f3a"
            ],
            [
             0.8888888888888888,
             "#fdca26"
            ],
            [
             1,
             "#f0f921"
            ]
           ],
           "sequentialminus": [
            [
             0,
             "#0d0887"
            ],
            [
             0.1111111111111111,
             "#46039f"
            ],
            [
             0.2222222222222222,
             "#7201a8"
            ],
            [
             0.3333333333333333,
             "#9c179e"
            ],
            [
             0.4444444444444444,
             "#bd3786"
            ],
            [
             0.5555555555555556,
             "#d8576b"
            ],
            [
             0.6666666666666666,
             "#ed7953"
            ],
            [
             0.7777777777777778,
             "#fb9f3a"
            ],
            [
             0.8888888888888888,
             "#fdca26"
            ],
            [
             1,
             "#f0f921"
            ]
           ]
          },
          "colorway": [
           "#636efa",
           "#EF553B",
           "#00cc96",
           "#ab63fa",
           "#FFA15A",
           "#19d3f3",
           "#FF6692",
           "#B6E880",
           "#FF97FF",
           "#FECB52"
          ],
          "font": {
           "color": "#f2f5fa"
          },
          "geo": {
           "bgcolor": "rgb(17,17,17)",
           "lakecolor": "rgb(17,17,17)",
           "landcolor": "rgb(17,17,17)",
           "showlakes": true,
           "showland": true,
           "subunitcolor": "#506784"
          },
          "hoverlabel": {
           "align": "left"
          },
          "hovermode": "closest",
          "mapbox": {
           "style": "dark"
          },
          "paper_bgcolor": "rgb(17,17,17)",
          "plot_bgcolor": "rgb(17,17,17)",
          "polar": {
           "angularaxis": {
            "gridcolor": "#506784",
            "linecolor": "#506784",
            "ticks": ""
           },
           "bgcolor": "rgb(17,17,17)",
           "radialaxis": {
            "gridcolor": "#506784",
            "linecolor": "#506784",
            "ticks": ""
           }
          },
          "scene": {
           "xaxis": {
            "backgroundcolor": "rgb(17,17,17)",
            "gridcolor": "#506784",
            "gridwidth": 2,
            "linecolor": "#506784",
            "showbackground": true,
            "ticks": "",
            "zerolinecolor": "#C8D4E3"
           },
           "yaxis": {
            "backgroundcolor": "rgb(17,17,17)",
            "gridcolor": "#506784",
            "gridwidth": 2,
            "linecolor": "#506784",
            "showbackground": true,
            "ticks": "",
            "zerolinecolor": "#C8D4E3"
           },
           "zaxis": {
            "backgroundcolor": "rgb(17,17,17)",
            "gridcolor": "#506784",
            "gridwidth": 2,
            "linecolor": "#506784",
            "showbackground": true,
            "ticks": "",
            "zerolinecolor": "#C8D4E3"
           }
          },
          "shapedefaults": {
           "line": {
            "color": "#f2f5fa"
           }
          },
          "sliderdefaults": {
           "bgcolor": "#C8D4E3",
           "bordercolor": "rgb(17,17,17)",
           "borderwidth": 1,
           "tickwidth": 0
          },
          "ternary": {
           "aaxis": {
            "gridcolor": "#506784",
            "linecolor": "#506784",
            "ticks": ""
           },
           "baxis": {
            "gridcolor": "#506784",
            "linecolor": "#506784",
            "ticks": ""
           },
           "bgcolor": "rgb(17,17,17)",
           "caxis": {
            "gridcolor": "#506784",
            "linecolor": "#506784",
            "ticks": ""
           }
          },
          "title": {
           "x": 0.05
          },
          "updatemenudefaults": {
           "bgcolor": "#506784",
           "borderwidth": 0
          },
          "xaxis": {
           "automargin": true,
           "gridcolor": "#283442",
           "linecolor": "#506784",
           "ticks": "",
           "title": {
            "standoff": 15
           },
           "zerolinecolor": "#283442",
           "zerolinewidth": 2
          },
          "yaxis": {
           "automargin": true,
           "gridcolor": "#283442",
           "linecolor": "#506784",
           "ticks": "",
           "title": {
            "standoff": 15
           },
           "zerolinecolor": "#283442",
           "zerolinewidth": 2
          }
         }
        }
       }
      }
     },
     "metadata": {},
     "output_type": "display_data"
    }
   ],
   "source": [
    "import plotly.express as px\n",
    "df_win = px.data.wind()\n",
    "fig = px.bar_polar(df_win, r=\"frequency\", theta=\"direction\",\n",
    "                   color=\"strength\", template=\"plotly_dark\",\n",
    "                   color_discrete_sequence= px.colors.sequential.Plasma_r)\n",
    "fig.show()"
   ]
  },
  {
   "cell_type": "code",
   "execution_count": 91,
   "metadata": {},
   "outputs": [
    {
     "data": {
      "application/vnd.plotly.v1+json": {
       "config": {
        "plotlyServerURL": "https://plot.ly"
       },
       "data": [
        {
         "mode": "markers",
         "r": [
          0.5,
          1,
          2,
          2.5,
          3,
          4
         ],
         "theta": [
          "ant",
          "pos",
          "med",
          "lat"
         ],
         "type": "scatterpolar"
        }
       ],
       "layout": {
        "showlegend": false,
        "template": {
         "data": {
          "bar": [
           {
            "error_x": {
             "color": "#2a3f5f"
            },
            "error_y": {
             "color": "#2a3f5f"
            },
            "marker": {
             "line": {
              "color": "#E5ECF6",
              "width": 0.5
             },
             "pattern": {
              "fillmode": "overlay",
              "size": 10,
              "solidity": 0.2
             }
            },
            "type": "bar"
           }
          ],
          "barpolar": [
           {
            "marker": {
             "line": {
              "color": "#E5ECF6",
              "width": 0.5
             },
             "pattern": {
              "fillmode": "overlay",
              "size": 10,
              "solidity": 0.2
             }
            },
            "type": "barpolar"
           }
          ],
          "carpet": [
           {
            "aaxis": {
             "endlinecolor": "#2a3f5f",
             "gridcolor": "white",
             "linecolor": "white",
             "minorgridcolor": "white",
             "startlinecolor": "#2a3f5f"
            },
            "baxis": {
             "endlinecolor": "#2a3f5f",
             "gridcolor": "white",
             "linecolor": "white",
             "minorgridcolor": "white",
             "startlinecolor": "#2a3f5f"
            },
            "type": "carpet"
           }
          ],
          "choropleth": [
           {
            "colorbar": {
             "outlinewidth": 0,
             "ticks": ""
            },
            "type": "choropleth"
           }
          ],
          "contour": [
           {
            "colorbar": {
             "outlinewidth": 0,
             "ticks": ""
            },
            "colorscale": [
             [
              0,
              "#0d0887"
             ],
             [
              0.1111111111111111,
              "#46039f"
             ],
             [
              0.2222222222222222,
              "#7201a8"
             ],
             [
              0.3333333333333333,
              "#9c179e"
             ],
             [
              0.4444444444444444,
              "#bd3786"
             ],
             [
              0.5555555555555556,
              "#d8576b"
             ],
             [
              0.6666666666666666,
              "#ed7953"
             ],
             [
              0.7777777777777778,
              "#fb9f3a"
             ],
             [
              0.8888888888888888,
              "#fdca26"
             ],
             [
              1,
              "#f0f921"
             ]
            ],
            "type": "contour"
           }
          ],
          "contourcarpet": [
           {
            "colorbar": {
             "outlinewidth": 0,
             "ticks": ""
            },
            "type": "contourcarpet"
           }
          ],
          "heatmap": [
           {
            "colorbar": {
             "outlinewidth": 0,
             "ticks": ""
            },
            "colorscale": [
             [
              0,
              "#0d0887"
             ],
             [
              0.1111111111111111,
              "#46039f"
             ],
             [
              0.2222222222222222,
              "#7201a8"
             ],
             [
              0.3333333333333333,
              "#9c179e"
             ],
             [
              0.4444444444444444,
              "#bd3786"
             ],
             [
              0.5555555555555556,
              "#d8576b"
             ],
             [
              0.6666666666666666,
              "#ed7953"
             ],
             [
              0.7777777777777778,
              "#fb9f3a"
             ],
             [
              0.8888888888888888,
              "#fdca26"
             ],
             [
              1,
              "#f0f921"
             ]
            ],
            "type": "heatmap"
           }
          ],
          "heatmapgl": [
           {
            "colorbar": {
             "outlinewidth": 0,
             "ticks": ""
            },
            "colorscale": [
             [
              0,
              "#0d0887"
             ],
             [
              0.1111111111111111,
              "#46039f"
             ],
             [
              0.2222222222222222,
              "#7201a8"
             ],
             [
              0.3333333333333333,
              "#9c179e"
             ],
             [
              0.4444444444444444,
              "#bd3786"
             ],
             [
              0.5555555555555556,
              "#d8576b"
             ],
             [
              0.6666666666666666,
              "#ed7953"
             ],
             [
              0.7777777777777778,
              "#fb9f3a"
             ],
             [
              0.8888888888888888,
              "#fdca26"
             ],
             [
              1,
              "#f0f921"
             ]
            ],
            "type": "heatmapgl"
           }
          ],
          "histogram": [
           {
            "marker": {
             "pattern": {
              "fillmode": "overlay",
              "size": 10,
              "solidity": 0.2
             }
            },
            "type": "histogram"
           }
          ],
          "histogram2d": [
           {
            "colorbar": {
             "outlinewidth": 0,
             "ticks": ""
            },
            "colorscale": [
             [
              0,
              "#0d0887"
             ],
             [
              0.1111111111111111,
              "#46039f"
             ],
             [
              0.2222222222222222,
              "#7201a8"
             ],
             [
              0.3333333333333333,
              "#9c179e"
             ],
             [
              0.4444444444444444,
              "#bd3786"
             ],
             [
              0.5555555555555556,
              "#d8576b"
             ],
             [
              0.6666666666666666,
              "#ed7953"
             ],
             [
              0.7777777777777778,
              "#fb9f3a"
             ],
             [
              0.8888888888888888,
              "#fdca26"
             ],
             [
              1,
              "#f0f921"
             ]
            ],
            "type": "histogram2d"
           }
          ],
          "histogram2dcontour": [
           {
            "colorbar": {
             "outlinewidth": 0,
             "ticks": ""
            },
            "colorscale": [
             [
              0,
              "#0d0887"
             ],
             [
              0.1111111111111111,
              "#46039f"
             ],
             [
              0.2222222222222222,
              "#7201a8"
             ],
             [
              0.3333333333333333,
              "#9c179e"
             ],
             [
              0.4444444444444444,
              "#bd3786"
             ],
             [
              0.5555555555555556,
              "#d8576b"
             ],
             [
              0.6666666666666666,
              "#ed7953"
             ],
             [
              0.7777777777777778,
              "#fb9f3a"
             ],
             [
              0.8888888888888888,
              "#fdca26"
             ],
             [
              1,
              "#f0f921"
             ]
            ],
            "type": "histogram2dcontour"
           }
          ],
          "mesh3d": [
           {
            "colorbar": {
             "outlinewidth": 0,
             "ticks": ""
            },
            "type": "mesh3d"
           }
          ],
          "parcoords": [
           {
            "line": {
             "colorbar": {
              "outlinewidth": 0,
              "ticks": ""
             }
            },
            "type": "parcoords"
           }
          ],
          "pie": [
           {
            "automargin": true,
            "type": "pie"
           }
          ],
          "scatter": [
           {
            "marker": {
             "colorbar": {
              "outlinewidth": 0,
              "ticks": ""
             }
            },
            "type": "scatter"
           }
          ],
          "scatter3d": [
           {
            "line": {
             "colorbar": {
              "outlinewidth": 0,
              "ticks": ""
             }
            },
            "marker": {
             "colorbar": {
              "outlinewidth": 0,
              "ticks": ""
             }
            },
            "type": "scatter3d"
           }
          ],
          "scattercarpet": [
           {
            "marker": {
             "colorbar": {
              "outlinewidth": 0,
              "ticks": ""
             }
            },
            "type": "scattercarpet"
           }
          ],
          "scattergeo": [
           {
            "marker": {
             "colorbar": {
              "outlinewidth": 0,
              "ticks": ""
             }
            },
            "type": "scattergeo"
           }
          ],
          "scattergl": [
           {
            "marker": {
             "colorbar": {
              "outlinewidth": 0,
              "ticks": ""
             }
            },
            "type": "scattergl"
           }
          ],
          "scattermapbox": [
           {
            "marker": {
             "colorbar": {
              "outlinewidth": 0,
              "ticks": ""
             }
            },
            "type": "scattermapbox"
           }
          ],
          "scatterpolar": [
           {
            "marker": {
             "colorbar": {
              "outlinewidth": 0,
              "ticks": ""
             }
            },
            "type": "scatterpolar"
           }
          ],
          "scatterpolargl": [
           {
            "marker": {
             "colorbar": {
              "outlinewidth": 0,
              "ticks": ""
             }
            },
            "type": "scatterpolargl"
           }
          ],
          "scatterternary": [
           {
            "marker": {
             "colorbar": {
              "outlinewidth": 0,
              "ticks": ""
             }
            },
            "type": "scatterternary"
           }
          ],
          "surface": [
           {
            "colorbar": {
             "outlinewidth": 0,
             "ticks": ""
            },
            "colorscale": [
             [
              0,
              "#0d0887"
             ],
             [
              0.1111111111111111,
              "#46039f"
             ],
             [
              0.2222222222222222,
              "#7201a8"
             ],
             [
              0.3333333333333333,
              "#9c179e"
             ],
             [
              0.4444444444444444,
              "#bd3786"
             ],
             [
              0.5555555555555556,
              "#d8576b"
             ],
             [
              0.6666666666666666,
              "#ed7953"
             ],
             [
              0.7777777777777778,
              "#fb9f3a"
             ],
             [
              0.8888888888888888,
              "#fdca26"
             ],
             [
              1,
              "#f0f921"
             ]
            ],
            "type": "surface"
           }
          ],
          "table": [
           {
            "cells": {
             "fill": {
              "color": "#EBF0F8"
             },
             "line": {
              "color": "white"
             }
            },
            "header": {
             "fill": {
              "color": "#C8D4E3"
             },
             "line": {
              "color": "white"
             }
            },
            "type": "table"
           }
          ]
         },
         "layout": {
          "annotationdefaults": {
           "arrowcolor": "#2a3f5f",
           "arrowhead": 0,
           "arrowwidth": 1
          },
          "autotypenumbers": "strict",
          "coloraxis": {
           "colorbar": {
            "outlinewidth": 0,
            "ticks": ""
           }
          },
          "colorscale": {
           "diverging": [
            [
             0,
             "#8e0152"
            ],
            [
             0.1,
             "#c51b7d"
            ],
            [
             0.2,
             "#de77ae"
            ],
            [
             0.3,
             "#f1b6da"
            ],
            [
             0.4,
             "#fde0ef"
            ],
            [
             0.5,
             "#f7f7f7"
            ],
            [
             0.6,
             "#e6f5d0"
            ],
            [
             0.7,
             "#b8e186"
            ],
            [
             0.8,
             "#7fbc41"
            ],
            [
             0.9,
             "#4d9221"
            ],
            [
             1,
             "#276419"
            ]
           ],
           "sequential": [
            [
             0,
             "#0d0887"
            ],
            [
             0.1111111111111111,
             "#46039f"
            ],
            [
             0.2222222222222222,
             "#7201a8"
            ],
            [
             0.3333333333333333,
             "#9c179e"
            ],
            [
             0.4444444444444444,
             "#bd3786"
            ],
            [
             0.5555555555555556,
             "#d8576b"
            ],
            [
             0.6666666666666666,
             "#ed7953"
            ],
            [
             0.7777777777777778,
             "#fb9f3a"
            ],
            [
             0.8888888888888888,
             "#fdca26"
            ],
            [
             1,
             "#f0f921"
            ]
           ],
           "sequentialminus": [
            [
             0,
             "#0d0887"
            ],
            [
             0.1111111111111111,
             "#46039f"
            ],
            [
             0.2222222222222222,
             "#7201a8"
            ],
            [
             0.3333333333333333,
             "#9c179e"
            ],
            [
             0.4444444444444444,
             "#bd3786"
            ],
            [
             0.5555555555555556,
             "#d8576b"
            ],
            [
             0.6666666666666666,
             "#ed7953"
            ],
            [
             0.7777777777777778,
             "#fb9f3a"
            ],
            [
             0.8888888888888888,
             "#fdca26"
            ],
            [
             1,
             "#f0f921"
            ]
           ]
          },
          "colorway": [
           "#636efa",
           "#EF553B",
           "#00cc96",
           "#ab63fa",
           "#FFA15A",
           "#19d3f3",
           "#FF6692",
           "#B6E880",
           "#FF97FF",
           "#FECB52"
          ],
          "font": {
           "color": "#2a3f5f"
          },
          "geo": {
           "bgcolor": "white",
           "lakecolor": "white",
           "landcolor": "#E5ECF6",
           "showlakes": true,
           "showland": true,
           "subunitcolor": "white"
          },
          "hoverlabel": {
           "align": "left"
          },
          "hovermode": "closest",
          "mapbox": {
           "style": "light"
          },
          "paper_bgcolor": "white",
          "plot_bgcolor": "#E5ECF6",
          "polar": {
           "angularaxis": {
            "gridcolor": "white",
            "linecolor": "white",
            "ticks": ""
           },
           "bgcolor": "#E5ECF6",
           "radialaxis": {
            "gridcolor": "white",
            "linecolor": "white",
            "ticks": ""
           }
          },
          "scene": {
           "xaxis": {
            "backgroundcolor": "#E5ECF6",
            "gridcolor": "white",
            "gridwidth": 2,
            "linecolor": "white",
            "showbackground": true,
            "ticks": "",
            "zerolinecolor": "white"
           },
           "yaxis": {
            "backgroundcolor": "#E5ECF6",
            "gridcolor": "white",
            "gridwidth": 2,
            "linecolor": "white",
            "showbackground": true,
            "ticks": "",
            "zerolinecolor": "white"
           },
           "zaxis": {
            "backgroundcolor": "#E5ECF6",
            "gridcolor": "white",
            "gridwidth": 2,
            "linecolor": "white",
            "showbackground": true,
            "ticks": "",
            "zerolinecolor": "white"
           }
          },
          "shapedefaults": {
           "line": {
            "color": "#2a3f5f"
           }
          },
          "ternary": {
           "aaxis": {
            "gridcolor": "white",
            "linecolor": "white",
            "ticks": ""
           },
           "baxis": {
            "gridcolor": "white",
            "linecolor": "white",
            "ticks": ""
           },
           "bgcolor": "#E5ECF6",
           "caxis": {
            "gridcolor": "white",
            "linecolor": "white",
            "ticks": ""
           }
          },
          "title": {
           "x": 0.05
          },
          "xaxis": {
           "automargin": true,
           "gridcolor": "white",
           "linecolor": "white",
           "ticks": "",
           "title": {
            "standoff": 15
           },
           "zerolinecolor": "white",
           "zerolinewidth": 2
          },
          "yaxis": {
           "automargin": true,
           "gridcolor": "white",
           "linecolor": "white",
           "ticks": "",
           "title": {
            "standoff": 15
           },
           "zerolinecolor": "white",
           "zerolinewidth": 2
          }
         }
        }
       }
      }
     },
     "metadata": {},
     "output_type": "display_data"
    }
   ],
   "source": [
    "import plotly.graph_objects as go\n",
    "\n",
    "fig = go.Figure(data=\n",
    "    go.Scatterpolar(\n",
    "        r = [0.5,1,2,2.5,3,4],\n",
    "        theta = ['ant','pos','med','lat'],\n",
    "        mode = 'markers',\n",
    "    ))\n",
    "\n",
    "fig.update_layout(showlegend=False)\n",
    "fig.show()"
   ]
  }
 ],
 "metadata": {
  "interpreter": {
   "hash": "6176e0f12c8e4f0961a2eb51667164ae6e6eff0a7b8d7bb6b12bab732338be67"
  },
  "kernelspec": {
   "display_name": "Python 3.9.9 ('base')",
   "language": "python",
   "name": "python3"
  },
  "language_info": {
   "codemirror_mode": {
    "name": "ipython",
    "version": 3
   },
   "file_extension": ".py",
   "mimetype": "text/x-python",
   "name": "python",
   "nbconvert_exporter": "python",
   "pygments_lexer": "ipython3",
   "version": "3.9.10"
  },
  "orig_nbformat": 4
 },
 "nbformat": 4,
 "nbformat_minor": 2
}
